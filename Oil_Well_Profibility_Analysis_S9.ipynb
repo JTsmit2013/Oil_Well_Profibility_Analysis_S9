{
 "cells": [
  {
   "cell_type": "markdown",
   "metadata": {},
   "source": [
    "# Oil Well Profibility Analysis S9"
   ]
  },
  {
   "cell_type": "markdown",
   "metadata": {},
   "source": [
    "## Introduction:"
   ]
  },
  {
   "cell_type": "markdown",
   "metadata": {},
   "source": [
    "The success of oil well development relies on selecting the most profitable region while minimizing financial risks. This project aims to analyze geological exploration data and build a predictive model to determine the optimal location for a new oil well. By leveraging machine learning and statistical techniques, the analysis will identify regions with the highest potential for profitability based on estimated oil reserves.\n",
    "\n",
    "Geological data from three regions provide insights into well characteristics, including multiple features that influence oil yield. The goal is to develop a model that accurately predicts oil reserves in new wells, allowing for strategic selection of the most promising locations. The final decision will be based on profitability calculations, considering both projected revenue and potential risks.\n",
    "\n",
    "The analysis follows a structured approach: data preprocessing, model training, profit estimation, and risk assessment. Linear regression will serve as the predictive model to estimate oil reserves, as it aligns with the dataset's characteristics. A bootstrapping technique will be used to evaluate risks, ensuring that only regions with an acceptable probability of financial loss are considered. The final selection will prioritize the region with the highest expected profit while maintaining a controlled level of investment risk.\n",
    "\n",
    "This project provides a data-driven framework for oil well placement, combining predictive modeling with financial analysis to support informed decision-making in the energy sector.\n"
   ]
  },
  {
   "cell_type": "markdown",
   "metadata": {},
   "source": [
    "***The data:***\n",
    "- There are three data sets containing information from three geological explorations, they all contain information:\n",
    "    - id — unique oil well identifier\n",
    "    - f0, f1, f2 — three features of points (their specific meaning is unimportant, but the features themselves are significant)\n",
    "    - product — volume of reserves in the oil well (thousand barrels)."
   ]
  },
  {
   "cell_type": "markdown",
   "metadata": {},
   "source": [
    "## Data Loading and Preprocessing"
   ]
  },
  {
   "cell_type": "markdown",
   "metadata": {},
   "source": [
    "- 2.1 Load data from the three regions (geo_data_0.csv, geo_data_1.csv, geo_data_2.csv).\n",
    "- 2.2 Data Exploration:\n",
    "    - Check for missing values and basic statistics.\n",
    "    - Ensure the data is clean and ready for analysis.\n",
    "- 2.3 Feature Selection:\n",
    "    - Identify relevant features (f0, f1, f2) and target variable (product).\n",
    "- 2.4 Take aways"
   ]
  },
  {
   "cell_type": "code",
   "execution_count": 369,
   "metadata": {},
   "outputs": [],
   "source": [
    "import pandas as pd\n",
    "from sklearn.model_selection import train_test_split\n",
    "from sklearn.linear_model import LinearRegression\n",
    "from sklearn.metrics import mean_squared_error\n",
    "import numpy as np\n",
    "import matplotlib.pyplot as plt\n",
    "import random"
   ]
  },
  {
   "cell_type": "markdown",
   "metadata": {},
   "source": [
    "### Loading Data from the Three Regions"
   ]
  },
  {
   "cell_type": "code",
   "execution_count": 370,
   "metadata": {},
   "outputs": [],
   "source": [
    "data_0 = pd.read_csv('/datasets/geo_data_0.csv')\n",
    "data_1 = pd.read_csv('/datasets/geo_data_1.csv')\n",
    "data_2 = pd.read_csv('/datasets/geo_data_2.csv')"
   ]
  },
  {
   "cell_type": "code",
   "execution_count": 371,
   "metadata": {},
   "outputs": [
    {
     "data": {
      "text/plain": [
       "0"
      ]
     },
     "metadata": {},
     "output_type": "display_data"
    },
    {
     "data": {
      "text/plain": [
       "0"
      ]
     },
     "metadata": {},
     "output_type": "display_data"
    },
    {
     "data": {
      "text/plain": [
       "0"
      ]
     },
     "metadata": {},
     "output_type": "display_data"
    },
    {
     "data": {
      "text/plain": [
       "0"
      ]
     },
     "metadata": {},
     "output_type": "display_data"
    },
    {
     "data": {
      "text/plain": [
       "0"
      ]
     },
     "metadata": {},
     "output_type": "display_data"
    },
    {
     "data": {
      "text/plain": [
       "0"
      ]
     },
     "metadata": {},
     "output_type": "display_data"
    }
   ],
   "source": [
    "#checking for full line duplication\n",
    "display(data_0.duplicated().sum())\n",
    "display(data_1.duplicated().sum())\n",
    "display(data_2.duplicated().sum())\n",
    "\n",
    "#checking for ID and product combo duplication\n",
    "display(data_0[['id', 'product']].duplicated().sum())\n",
    "display(data_1[['id', 'product']].duplicated().sum())\n",
    "display(data_2[['id', 'product']].duplicated().sum())"
   ]
  },
  {
   "cell_type": "code",
   "execution_count": 372,
   "metadata": {},
   "outputs": [],
   "source": [
    "def show(df):\n",
    "    display(df.info())\n",
    "    display(df.describe())"
   ]
  },
  {
   "cell_type": "code",
   "execution_count": 373,
   "metadata": {},
   "outputs": [
    {
     "name": "stdout",
     "output_type": "stream",
     "text": [
      "<class 'pandas.core.frame.DataFrame'>\n",
      "RangeIndex: 100000 entries, 0 to 99999\n",
      "Data columns (total 5 columns):\n",
      " #   Column   Non-Null Count   Dtype  \n",
      "---  ------   --------------   -----  \n",
      " 0   id       100000 non-null  object \n",
      " 1   f0       100000 non-null  float64\n",
      " 2   f1       100000 non-null  float64\n",
      " 3   f2       100000 non-null  float64\n",
      " 4   product  100000 non-null  float64\n",
      "dtypes: float64(4), object(1)\n",
      "memory usage: 3.8+ MB\n"
     ]
    },
    {
     "data": {
      "text/plain": [
       "None"
      ]
     },
     "metadata": {},
     "output_type": "display_data"
    },
    {
     "data": {
      "text/html": [
       "<div>\n",
       "<style scoped>\n",
       "    .dataframe tbody tr th:only-of-type {\n",
       "        vertical-align: middle;\n",
       "    }\n",
       "\n",
       "    .dataframe tbody tr th {\n",
       "        vertical-align: top;\n",
       "    }\n",
       "\n",
       "    .dataframe thead th {\n",
       "        text-align: right;\n",
       "    }\n",
       "</style>\n",
       "<table border=\"1\" class=\"dataframe\">\n",
       "  <thead>\n",
       "    <tr style=\"text-align: right;\">\n",
       "      <th></th>\n",
       "      <th>f0</th>\n",
       "      <th>f1</th>\n",
       "      <th>f2</th>\n",
       "      <th>product</th>\n",
       "    </tr>\n",
       "  </thead>\n",
       "  <tbody>\n",
       "    <tr>\n",
       "      <th>count</th>\n",
       "      <td>100000.000000</td>\n",
       "      <td>100000.000000</td>\n",
       "      <td>100000.000000</td>\n",
       "      <td>100000.000000</td>\n",
       "    </tr>\n",
       "    <tr>\n",
       "      <th>mean</th>\n",
       "      <td>0.500419</td>\n",
       "      <td>0.250143</td>\n",
       "      <td>2.502647</td>\n",
       "      <td>92.500000</td>\n",
       "    </tr>\n",
       "    <tr>\n",
       "      <th>std</th>\n",
       "      <td>0.871832</td>\n",
       "      <td>0.504433</td>\n",
       "      <td>3.248248</td>\n",
       "      <td>44.288691</td>\n",
       "    </tr>\n",
       "    <tr>\n",
       "      <th>min</th>\n",
       "      <td>-1.408605</td>\n",
       "      <td>-0.848218</td>\n",
       "      <td>-12.088328</td>\n",
       "      <td>0.000000</td>\n",
       "    </tr>\n",
       "    <tr>\n",
       "      <th>25%</th>\n",
       "      <td>-0.072580</td>\n",
       "      <td>-0.200881</td>\n",
       "      <td>0.287748</td>\n",
       "      <td>56.497507</td>\n",
       "    </tr>\n",
       "    <tr>\n",
       "      <th>50%</th>\n",
       "      <td>0.502360</td>\n",
       "      <td>0.250252</td>\n",
       "      <td>2.515969</td>\n",
       "      <td>91.849972</td>\n",
       "    </tr>\n",
       "    <tr>\n",
       "      <th>75%</th>\n",
       "      <td>1.073581</td>\n",
       "      <td>0.700646</td>\n",
       "      <td>4.715088</td>\n",
       "      <td>128.564089</td>\n",
       "    </tr>\n",
       "    <tr>\n",
       "      <th>max</th>\n",
       "      <td>2.362331</td>\n",
       "      <td>1.343769</td>\n",
       "      <td>16.003790</td>\n",
       "      <td>185.364347</td>\n",
       "    </tr>\n",
       "  </tbody>\n",
       "</table>\n",
       "</div>"
      ],
      "text/plain": [
       "                  f0             f1             f2        product\n",
       "count  100000.000000  100000.000000  100000.000000  100000.000000\n",
       "mean        0.500419       0.250143       2.502647      92.500000\n",
       "std         0.871832       0.504433       3.248248      44.288691\n",
       "min        -1.408605      -0.848218     -12.088328       0.000000\n",
       "25%        -0.072580      -0.200881       0.287748      56.497507\n",
       "50%         0.502360       0.250252       2.515969      91.849972\n",
       "75%         1.073581       0.700646       4.715088     128.564089\n",
       "max         2.362331       1.343769      16.003790     185.364347"
      ]
     },
     "metadata": {},
     "output_type": "display_data"
    }
   ],
   "source": [
    "show(data_0)"
   ]
  },
  {
   "cell_type": "code",
   "execution_count": 374,
   "metadata": {},
   "outputs": [
    {
     "name": "stdout",
     "output_type": "stream",
     "text": [
      "<class 'pandas.core.frame.DataFrame'>\n",
      "RangeIndex: 100000 entries, 0 to 99999\n",
      "Data columns (total 5 columns):\n",
      " #   Column   Non-Null Count   Dtype  \n",
      "---  ------   --------------   -----  \n",
      " 0   id       100000 non-null  object \n",
      " 1   f0       100000 non-null  float64\n",
      " 2   f1       100000 non-null  float64\n",
      " 3   f2       100000 non-null  float64\n",
      " 4   product  100000 non-null  float64\n",
      "dtypes: float64(4), object(1)\n",
      "memory usage: 3.8+ MB\n"
     ]
    },
    {
     "data": {
      "text/plain": [
       "None"
      ]
     },
     "metadata": {},
     "output_type": "display_data"
    },
    {
     "data": {
      "text/html": [
       "<div>\n",
       "<style scoped>\n",
       "    .dataframe tbody tr th:only-of-type {\n",
       "        vertical-align: middle;\n",
       "    }\n",
       "\n",
       "    .dataframe tbody tr th {\n",
       "        vertical-align: top;\n",
       "    }\n",
       "\n",
       "    .dataframe thead th {\n",
       "        text-align: right;\n",
       "    }\n",
       "</style>\n",
       "<table border=\"1\" class=\"dataframe\">\n",
       "  <thead>\n",
       "    <tr style=\"text-align: right;\">\n",
       "      <th></th>\n",
       "      <th>f0</th>\n",
       "      <th>f1</th>\n",
       "      <th>f2</th>\n",
       "      <th>product</th>\n",
       "    </tr>\n",
       "  </thead>\n",
       "  <tbody>\n",
       "    <tr>\n",
       "      <th>count</th>\n",
       "      <td>100000.000000</td>\n",
       "      <td>100000.000000</td>\n",
       "      <td>100000.000000</td>\n",
       "      <td>100000.000000</td>\n",
       "    </tr>\n",
       "    <tr>\n",
       "      <th>mean</th>\n",
       "      <td>1.141296</td>\n",
       "      <td>-4.796579</td>\n",
       "      <td>2.494541</td>\n",
       "      <td>68.825000</td>\n",
       "    </tr>\n",
       "    <tr>\n",
       "      <th>std</th>\n",
       "      <td>8.965932</td>\n",
       "      <td>5.119872</td>\n",
       "      <td>1.703572</td>\n",
       "      <td>45.944423</td>\n",
       "    </tr>\n",
       "    <tr>\n",
       "      <th>min</th>\n",
       "      <td>-31.609576</td>\n",
       "      <td>-26.358598</td>\n",
       "      <td>-0.018144</td>\n",
       "      <td>0.000000</td>\n",
       "    </tr>\n",
       "    <tr>\n",
       "      <th>25%</th>\n",
       "      <td>-6.298551</td>\n",
       "      <td>-8.267985</td>\n",
       "      <td>1.000021</td>\n",
       "      <td>26.953261</td>\n",
       "    </tr>\n",
       "    <tr>\n",
       "      <th>50%</th>\n",
       "      <td>1.153055</td>\n",
       "      <td>-4.813172</td>\n",
       "      <td>2.011479</td>\n",
       "      <td>57.085625</td>\n",
       "    </tr>\n",
       "    <tr>\n",
       "      <th>75%</th>\n",
       "      <td>8.621015</td>\n",
       "      <td>-1.332816</td>\n",
       "      <td>3.999904</td>\n",
       "      <td>107.813044</td>\n",
       "    </tr>\n",
       "    <tr>\n",
       "      <th>max</th>\n",
       "      <td>29.421755</td>\n",
       "      <td>18.734063</td>\n",
       "      <td>5.019721</td>\n",
       "      <td>137.945408</td>\n",
       "    </tr>\n",
       "  </tbody>\n",
       "</table>\n",
       "</div>"
      ],
      "text/plain": [
       "                  f0             f1             f2        product\n",
       "count  100000.000000  100000.000000  100000.000000  100000.000000\n",
       "mean        1.141296      -4.796579       2.494541      68.825000\n",
       "std         8.965932       5.119872       1.703572      45.944423\n",
       "min       -31.609576     -26.358598      -0.018144       0.000000\n",
       "25%        -6.298551      -8.267985       1.000021      26.953261\n",
       "50%         1.153055      -4.813172       2.011479      57.085625\n",
       "75%         8.621015      -1.332816       3.999904     107.813044\n",
       "max        29.421755      18.734063       5.019721     137.945408"
      ]
     },
     "metadata": {},
     "output_type": "display_data"
    }
   ],
   "source": [
    "show(data_1)"
   ]
  },
  {
   "cell_type": "code",
   "execution_count": 375,
   "metadata": {},
   "outputs": [
    {
     "name": "stdout",
     "output_type": "stream",
     "text": [
      "<class 'pandas.core.frame.DataFrame'>\n",
      "RangeIndex: 100000 entries, 0 to 99999\n",
      "Data columns (total 5 columns):\n",
      " #   Column   Non-Null Count   Dtype  \n",
      "---  ------   --------------   -----  \n",
      " 0   id       100000 non-null  object \n",
      " 1   f0       100000 non-null  float64\n",
      " 2   f1       100000 non-null  float64\n",
      " 3   f2       100000 non-null  float64\n",
      " 4   product  100000 non-null  float64\n",
      "dtypes: float64(4), object(1)\n",
      "memory usage: 3.8+ MB\n"
     ]
    },
    {
     "data": {
      "text/plain": [
       "None"
      ]
     },
     "metadata": {},
     "output_type": "display_data"
    },
    {
     "data": {
      "text/html": [
       "<div>\n",
       "<style scoped>\n",
       "    .dataframe tbody tr th:only-of-type {\n",
       "        vertical-align: middle;\n",
       "    }\n",
       "\n",
       "    .dataframe tbody tr th {\n",
       "        vertical-align: top;\n",
       "    }\n",
       "\n",
       "    .dataframe thead th {\n",
       "        text-align: right;\n",
       "    }\n",
       "</style>\n",
       "<table border=\"1\" class=\"dataframe\">\n",
       "  <thead>\n",
       "    <tr style=\"text-align: right;\">\n",
       "      <th></th>\n",
       "      <th>f0</th>\n",
       "      <th>f1</th>\n",
       "      <th>f2</th>\n",
       "      <th>product</th>\n",
       "    </tr>\n",
       "  </thead>\n",
       "  <tbody>\n",
       "    <tr>\n",
       "      <th>count</th>\n",
       "      <td>100000.000000</td>\n",
       "      <td>100000.000000</td>\n",
       "      <td>100000.000000</td>\n",
       "      <td>100000.000000</td>\n",
       "    </tr>\n",
       "    <tr>\n",
       "      <th>mean</th>\n",
       "      <td>0.002023</td>\n",
       "      <td>-0.002081</td>\n",
       "      <td>2.495128</td>\n",
       "      <td>95.000000</td>\n",
       "    </tr>\n",
       "    <tr>\n",
       "      <th>std</th>\n",
       "      <td>1.732045</td>\n",
       "      <td>1.730417</td>\n",
       "      <td>3.473445</td>\n",
       "      <td>44.749921</td>\n",
       "    </tr>\n",
       "    <tr>\n",
       "      <th>min</th>\n",
       "      <td>-8.760004</td>\n",
       "      <td>-7.084020</td>\n",
       "      <td>-11.970335</td>\n",
       "      <td>0.000000</td>\n",
       "    </tr>\n",
       "    <tr>\n",
       "      <th>25%</th>\n",
       "      <td>-1.162288</td>\n",
       "      <td>-1.174820</td>\n",
       "      <td>0.130359</td>\n",
       "      <td>59.450441</td>\n",
       "    </tr>\n",
       "    <tr>\n",
       "      <th>50%</th>\n",
       "      <td>0.009424</td>\n",
       "      <td>-0.009482</td>\n",
       "      <td>2.484236</td>\n",
       "      <td>94.925613</td>\n",
       "    </tr>\n",
       "    <tr>\n",
       "      <th>75%</th>\n",
       "      <td>1.158535</td>\n",
       "      <td>1.163678</td>\n",
       "      <td>4.858794</td>\n",
       "      <td>130.595027</td>\n",
       "    </tr>\n",
       "    <tr>\n",
       "      <th>max</th>\n",
       "      <td>7.238262</td>\n",
       "      <td>7.844801</td>\n",
       "      <td>16.739402</td>\n",
       "      <td>190.029838</td>\n",
       "    </tr>\n",
       "  </tbody>\n",
       "</table>\n",
       "</div>"
      ],
      "text/plain": [
       "                  f0             f1             f2        product\n",
       "count  100000.000000  100000.000000  100000.000000  100000.000000\n",
       "mean        0.002023      -0.002081       2.495128      95.000000\n",
       "std         1.732045       1.730417       3.473445      44.749921\n",
       "min        -8.760004      -7.084020     -11.970335       0.000000\n",
       "25%        -1.162288      -1.174820       0.130359      59.450441\n",
       "50%         0.009424      -0.009482       2.484236      94.925613\n",
       "75%         1.158535       1.163678       4.858794     130.595027\n",
       "max         7.238262       7.844801      16.739402     190.029838"
      ]
     },
     "metadata": {},
     "output_type": "display_data"
    }
   ],
   "source": [
    "show(data_2)"
   ]
  },
  {
   "cell_type": "markdown",
   "metadata": {},
   "source": [
    "### Take Aways:\n",
    "- All three data sets are complete and have no missing values\n",
    "- There are no duplicated full lines or id & product duplication\n",
    "- data_0\n",
    "    - The features (f0, f1, f2) for data_0 show more moderate ranges compared to data_1 and data_2, though there is still potential for outliers in f2, which ranges from -12.09 to 16.00.\n",
    "    - The target variable (product) has a mean (92.5) close to the median (91.85), indicating a relatively balanced distribution with no extreme outliers, although the maximum value (185.36) suggests some higher reserve volumes exist.\n",
    "- data_1\n",
    "    - The features (f0, f1, f2) in this dataset also show potential outliers, especially f0 and f1, which have large standard deviations and wide ranges between minimum and maximum values.\n",
    "    - The target variable (product) has a mean (68.83) and median (57.09), indicating possible right-skewness due to higher values, but there are no extreme outliers as the max (137.95) is within a reasonable range based on the IQR.\n",
    "- data_2\n",
    "    - The features (f0, f1, and f2) have wide ranges with potential outliers, as indicated by the large gaps between their minimum/maximum values and interquartile ranges (IQR).\n",
    "    - The target variable (product) appears to be normally distributed with no extreme outliers, as its maximum value (190.03) is within a reasonable range based on the IQR."
   ]
  },
  {
   "cell_type": "markdown",
   "metadata": {},
   "source": [
    "## Breaking down calc to just data_0"
   ]
  },
  {
   "cell_type": "code",
   "execution_count": 376,
   "metadata": {},
   "outputs": [
    {
     "data": {
      "text/plain": [
       "37.5794217150813"
      ]
     },
     "metadata": {},
     "output_type": "display_data"
    },
    {
     "data": {
      "text/plain": [
       "array([ 95.89495185,  77.57258261,  77.89263965, ...,  61.50983303,\n",
       "       118.18039721, 118.16939229])"
      ]
     },
     "metadata": {},
     "output_type": "display_data"
    },
    {
     "data": {
      "text/plain": [
       "'The predicted average is 92.59256778438035'"
      ]
     },
     "metadata": {},
     "output_type": "display_data"
    },
    {
     "data": {
      "text/plain": [
       "'The valid average is 92.07859674082927'"
      ]
     },
     "metadata": {},
     "output_type": "display_data"
    },
    {
     "data": {
      "image/png": "[encoded data removed]",
      "text/plain": [
       "<Figure size 1500x500 with 1 Axes>"
      ]
     },
     "metadata": {},
     "output_type": "display_data"
    }
   ],
   "source": [
    "#3.1 \n",
    "# split into target and feature\n",
    "features_0_test = data_0.drop(['id', 'product'], axis=1)\n",
    "target_0_test = data_0['product']\n",
    "\n",
    "# Split data into train (75%) and valid (25%)\n",
    "features_train_0t, features_valid_0t, target_train_0t, target_valid_0t = train_test_split(\n",
    "        features_0_test, target_0_test, test_size=0.25, random_state=12345)\n",
    "\n",
    "#3.2 Train Linear Regression model\n",
    "model_0 = LinearRegression()\n",
    "model_0.fit(features_train_0t, target_train_0t)\n",
    "\n",
    "#3.3 Calculate predictions for validation set\n",
    "predicted_valid_0t = model_0.predict(features_valid_0t)\n",
    "    \n",
    "# Calculate RMSE\n",
    "rmse_0t = mean_squared_error(target_valid_0t, predicted_valid_0t) ** 0.5\n",
    "\n",
    "display(rmse_0t)\n",
    "display(predicted_valid_0t)\n",
    "\n",
    "display(f'The predicted average is {predicted_valid_0t.mean()}')\n",
    "display(f'The valid average is {target_valid_0t.mean()}')\n",
    "\n",
    "# box plot to compare\n",
    "plt.figure(figsize=(15, 5))\n",
    "    \n",
    "\n",
    "plt.boxplot([target_valid_0t, predicted_valid_0t], labels=['Actual', 'Predicted'])\n",
    "plt.title(f'Boxplot of Predicted vs Actual - data_0')\n",
    "plt.ylabel('Values')\n",
    "        \n",
    "plt.tight_layout()\n",
    "plt.show()\n"
   ]
  },
  {
   "cell_type": "code",
   "execution_count": 377,
   "metadata": {},
   "outputs": [
    {
     "name": "stdout",
     "output_type": "stream",
     "text": [
      "Cost per well: $500000.00\n",
      "Required reserves per well to avoid losses: 111.11 thousand barrels\n"
     ]
    },
    {
     "data": {
      "text/plain": [
       "'The average product in region data_0 is: 92.50000000000001'"
      ]
     },
     "metadata": {},
     "output_type": "display_data"
    }
   ],
   "source": [
    "#4\n",
    "#4.1 Constants\n",
    "total_budget = 100e6  # Total budget in USD for 200 wells\n",
    "num_wells = 200  # Number of wells to develop\n",
    "cost_per_well = total_budget / num_wells  # Cost per well\n",
    "revenue_per_barrel = 4.5  # Revenue from one barrel of raw materials in USD\n",
    "revenue_per_unit_product = 4500  # Revenue from one unit of product in USD\n",
    "\n",
    "#4.2\n",
    "'''Calculate the required reserve volume for a well to avoid losses.\n",
    "Compare this with the average volume per region.'''\n",
    "# Step 1: Calculate the required reserve volume for a well to avoid losses\n",
    "total_revenue_needed = cost_per_well  # Revenue needed to break even\n",
    "required_reserves_per_well = total_revenue_needed / revenue_per_barrel  # in barrels\n",
    "required_reserves_per_well_thousands = required_reserves_per_well / 1000  # in thousand barrels\n",
    "\n",
    "print(f\"Cost per well: ${cost_per_well:.2f}\")\n",
    "print(f\"Required reserves per well to avoid losses: {required_reserves_per_well_thousands:.2f} thousand barrels\")\n",
    "\n",
    "#step 2: average per region data_0\n",
    "display(f\"The average product in region data_0 is: {data_0['product'].mean()}\")"
   ]
  },
  {
   "cell_type": "code",
   "execution_count": 378,
   "metadata": {},
   "outputs": [],
   "source": [
    "#5.1 profit calculator\n",
    "profit = []\n",
    "def calculate_profit(actual_reserves, predicted_reserves):\n",
    "    predicted_reserves_series = pd.Series(predicted_reserves)\n",
    "    prediction_sort = predicted_reserves_series.sort_values(ascending=False)\n",
    "    #select_wells = actual_reserves[prediction_sort.index][num_wells]\n",
    "    select_wells = actual_reserves.iloc[prediction_sort.index[:num_wells]]\n",
    "    product = select_wells.sum()\n",
    "    revenue = product*revenue_per_unit_product\n",
    "    cost = total_budget\n",
    "    profit = revenue - cost\n",
    "    return profit"
   ]
  },
  {
   "cell_type": "code",
   "execution_count": 379,
   "metadata": {},
   "outputs": [
    {
     "data": {
      "text/plain": [
       "33208260.43139851"
      ]
     },
     "execution_count": 379,
     "metadata": {},
     "output_type": "execute_result"
    }
   ],
   "source": [
    "calculate_profit(target_valid_0t, predicted_valid_0t)"
   ]
  },
  {
   "cell_type": "code",
   "execution_count": 380,
   "metadata": {},
   "outputs": [],
   "source": [
    "#5.2 \n",
    "#select top 200\n",
    "\n",
    "# 1. Convert the predicted reserves into a pandas Series for sorting\n",
    "predicted_reserves_series = pd.Series(predicted_valid_0t)\n",
    "\n",
    "# 2. Sort the predicted reserves in descending order to get the top wells\n",
    "prediction_sort = predicted_reserves_series.sort_values(ascending=False)\n",
    "\n",
    "# 3. Select the top 200 based on the sorted order using iloc\n",
    "top_200_indices = prediction_sort.index[:200]\n",
    "\n",
    "# 4. Use iloc to get the actual reserves corresponding to the top 200 predicted wells by position\n",
    "top_200_actual_reserves = target_valid_0t.iloc[top_200_indices]\n",
    "\n",
    "# 5. Optional: You can also retrieve the top 200 predicted reserves\n",
    "top_200_predicted_reserves_0 = predicted_reserves_series.iloc[top_200_indices]"
   ]
  },
  {
   "cell_type": "code",
   "execution_count": 381,
   "metadata": {},
   "outputs": [
    {
     "name": "stdout",
     "output_type": "stream",
     "text": [
      "Data_0 - Predicted Reserves (Top 200 Wells)\n",
      "Average Profit: $4,183,303.88\n",
      "95% Confidence Interval for Profit: ($-803,979.09, $9,303,039.59)\n",
      "Risk of Losses: 4.60%\n"
     ]
    }
   ],
   "source": [
    "# 5.1 Function to calculate profit using bootstrapping for data_0\n",
    "def bootstrap_profit_data_0(predicted_reserves, n_samples=1000, random_state=12345):\n",
    "    state = np.random.RandomState(random_state)\n",
    "    profits = []\n",
    "\n",
    "    for i in range(n_samples):\n",
    "        target_sample = target_0_test.sample(500)\n",
    "        predicted = model_0.predict(features_0_test)\n",
    "        predictions_sample = predicted[target_sample.index]\n",
    "        profit_values = calculate_profit(target_sample, predictions_sample)\n",
    "        profits.append(profit_values)\n",
    "        \n",
    "        #predicted_valid_0t\n",
    "        \n",
    "        # Resample the predicted reserves with replacement\n",
    "        #bootstrapped_reserves = predicted_reserves.sample(500, replace=True, random_state=state)\n",
    "        \n",
    "        #sample from target(500)\n",
    "        #indices from target\n",
    "        \n",
    "        # Calculate profit for the bootstrapped reserves\n",
    "        #profit = calculate_profit(target_valid_0t,bootstrapped_reserves)\n",
    "        #profits.append(profit)\n",
    "\n",
    "    return profits\n",
    "\n",
    "# 5.2 Function to calculate 95% confidence interval and loss risk for data_0\n",
    "def calculate_risk_and_confidence_interval_data_0(profits, alpha=0.05):\n",
    "    profits = np.array(profits)\n",
    "    # Calculate the average profit\n",
    "    avg_profit = profits.mean()\n",
    "\n",
    "    # Calculate the 95% confidence interval (lower and upper percentiles)\n",
    "    lower_bound = np.percentile(profits, alpha / 2 * 100)\n",
    "    upper_bound = np.percentile(profits, (1 - alpha / 2) * 100)\n",
    "    \n",
    "    # Calculate the risk of losses (negative profit)\n",
    "    loss_risk = (profits < 0).mean() * 100  # Convert to percentage\n",
    "\n",
    "    return avg_profit, lower_bound, upper_bound, loss_risk\n",
    "\n",
    "# Apply bootstrapping to predicted reserves for data_0\n",
    "bootstrap_profits_data_0 = bootstrap_profit_data_0(pd.Series(top_200_predicted_reserves_0))\n",
    "\n",
    "# Calculate average profit, confidence interval, and loss risk for data_0\n",
    "avg_profit_data_0, lower_bound_data_0, upper_bound_data_0, loss_risk_data_0 = calculate_risk_and_confidence_interval_data_0(bootstrap_profits_data_0)\n",
    "\n",
    "# Display the results for data_0\n",
    "print('Data_0 - Predicted Reserves (Top 200 Wells)')\n",
    "print(f'Average Profit: ${avg_profit_data_0:,.2f}')\n",
    "print(f'95% Confidence Interval for Profit: (${lower_bound_data_0:,.2f}, ${upper_bound_data_0:,.2f})')\n",
    "print(f'Risk of Losses: {loss_risk_data_0:.2f}%')"
   ]
  },
  {
   "cell_type": "code",
   "execution_count": 382,
   "metadata": {},
   "outputs": [
    {
     "data": {
      "text/plain": [
       "20340    148.365941\n",
       "24160    148.436761\n",
       "24051    148.476498\n",
       "7890     148.481767\n",
       "7888     148.507064\n",
       "            ...    \n",
       "23388    173.299686\n",
       "11584    175.658429\n",
       "10015    175.850623\n",
       "219      176.252213\n",
       "9317     180.180713\n",
       "Length: 200, dtype: float64"
      ]
     },
     "execution_count": 382,
     "metadata": {},
     "output_type": "execute_result"
    }
   ],
   "source": [
    "top_200_predicted_reserves_0.sort_values()"
   ]
  },
  {
   "cell_type": "code",
   "execution_count": 383,
   "metadata": {},
   "outputs": [
    {
     "data": {
      "text/plain": [
       "99065     42.092314\n",
       "32357     58.420650\n",
       "57385     72.653353\n",
       "11404     76.184104\n",
       "54144     88.347788\n",
       "            ...    \n",
       "70797    182.225128\n",
       "24297    182.378042\n",
       "69887    183.552159\n",
       "92090    184.095785\n",
       "79494    184.356455\n",
       "Name: product, Length: 200, dtype: float64"
      ]
     },
     "execution_count": 383,
     "metadata": {},
     "output_type": "execute_result"
    }
   ],
   "source": [
    "top_200_actual_reserves.sort_values()"
   ]
  },
  {
   "cell_type": "markdown",
   "metadata": {},
   "source": [
    "## Train and Test the Model for Each Region"
   ]
  },
  {
   "cell_type": "markdown",
   "metadata": {},
   "source": [
    "- 3.1 Split the Data:\n",
    "    - Use a 75:25 split for training and validation sets.\n",
    "- 3.2 Train a Linear Regression Model for each region:\n",
    "    - Model training using LinearRegression.\n",
    "- 3.3 Evaluate Model:\n",
    "    - Calculate predictions and evaluate the performance using RMSE (Root Mean Squared Error).\n",
    "    - Print the average predicted volume and RMSE for each region.\n",
    "- 3.4 Analyze the Results:\n",
    "    - Compare the predicted values with actual values and draw conclusions.\n",
    "    - maybe show a bar graph that shows predicted vs actual for a nice visualization\n"
   ]
  },
  {
   "cell_type": "code",
   "execution_count": 385,
   "metadata": {},
   "outputs": [],
   "source": [
    "# Function to split data, train model, and calculate RMSE\n",
    "def train_and_evaluate(features, target, random_state=12345):\n",
    "    # Split data: test (25%) and holdout (75%)\n",
    "    features_test, features_hold, target_test, target_hold = train_test_split(\n",
    "        features, target, test_size=0.25, random_state=random_state)\n",
    "\n",
    "    # Split holdout data into train (75%) and valid (25%)\n",
    "    features_train, features_valid, target_train, target_valid = train_test_split(\n",
    "        features_hold, target_hold, test_size=0.25, random_state=random_state)\n",
    "    \n",
    "    # Train Linear Regression model\n",
    "    model = LinearRegression()\n",
    "    model.fit(features_train, target_train)\n",
    "    \n",
    "    # Calculate predictions for validation set\n",
    "    predicted_valid = pd.Series(model.predict(features_valid))\n",
    "    \n",
    "    # Calculate RMSE\n",
    "    rmse = mean_squared_error(target_valid, predicted_valid) ** 0.5\n",
    "    \n",
    "    return model, rmse, features_test, target_test"
   ]
  },
  {
   "cell_type": "code",
   "execution_count": 387,
   "metadata": {},
   "outputs": [
    {
     "name": "stdout",
     "output_type": "stream",
     "text": [
      "Training and evaluating model for data_0...\n",
      "RMSE data_0: 37.64079343294777\n",
      "Predicted values for data_0: \n",
      "[77.98256495661366, 126.91225330591558, 82.68364217628928, 81.76584701364581, 107.41846426204172]\n",
      "\n",
      "Training and evaluating model for data_1...\n",
      "RMSE data_1: 0.8860919804048466\n",
      "Predicted values for data_1: \n",
      "[83.51577329742435, 79.6133911321834, 53.833993267502464, 30.497225880688397, 57.80726723214353]\n",
      "\n",
      "Training and evaluating model for data_2...\n",
      "RMSE data_2: 40.33932992219369\n",
      "Predicted values for data_2: \n",
      "[86.97893390687015, 70.37758235560719, 101.37155052257556, 78.91483330204602, 112.0716664962548]\n",
      "\n"
     ]
    }
   ],
   "source": [
    "# Prepare datasets\n",
    "features_0 = data_0.drop(['id', 'product'], axis=1)\n",
    "features_1 = data_1.drop(['id', 'product'], axis=1)\n",
    "features_2 = data_2.drop(['id', 'product'], axis=1)\n",
    "\n",
    "target_0 = data_0['product']\n",
    "target_1 = data_1['product']\n",
    "target_2 = data_2['product']\n",
    "\n",
    "models = {}\n",
    "results = {}\n",
    "\n",
    "# Iterate through datasets to train and evaluate models\n",
    "for i, (features, target) in enumerate([(features_0, target_0), (features_1, target_1), (features_2, target_2)]):\n",
    "    print(f\"Training and evaluating model for data_{i}...\")\n",
    "    \n",
    "    model, rmse, features_test, target_test = train_and_evaluate(features, target)\n",
    "    predicted_valid = pd.Series(model.predict(features_test))\n",
    "    \n",
    "    models[f'data_{i}'] = {\n",
    "        'model': model,\n",
    "        'features_test': features_test,\n",
    "        'target_test': target_test\n",
    "    }\n",
    "    \n",
    "    results[f'data_{i}'] = {\n",
    "        'RMSE': rmse,\n",
    "        'Predicted': predicted_valid.tolist(),\n",
    "        'Actual': target_test.reset_index(drop=True).tolist()\n",
    "    }\n",
    "    \n",
    "    print(f\"RMSE data_{i}: {rmse}\")\n",
    "    print(f\"Predicted values for data_{i}: \\n{predicted_valid.head().tolist()}\\n\")\n",
    "\n",
    "# Create datasets dictionary for recommendation function\n",
    "datasets = {\n",
    "    'data_0': (models['data_0']['model'], models['data_0']['features_test'], models['data_0']['target_test']),\n",
    "    'data_1': (models['data_1']['model'], models['data_1']['features_test'], models['data_1']['target_test']),\n",
    "    'data_2': (models['data_2']['model'], models['data_2']['features_test'], models['data_2']['target_test']),\n",
    "}"
   ]
  },
  {
   "cell_type": "code",
   "execution_count": 390,
   "metadata": {},
   "outputs": [
    {
     "data": {
      "image/png": "[encoded data removed]",
      "text/plain": [
       "<Figure size 1500x500 with 3 Axes>"
      ]
     },
     "metadata": {},
     "output_type": "display_data"
    }
   ],
   "source": [
    "def plot_boxplots(results):\n",
    "    plt.figure(figsize=(15, 5))\n",
    "    \n",
    "    for i, (name, result) in enumerate(results.items()):\n",
    "        plt.subplot(1, 3, i + 1)\n",
    "        plt.boxplot([result['Actual'], result['Predicted']], labels=['Actual', 'Predicted'])\n",
    "        plt.title(f'Boxplot of Predicted vs Actual - {name}')\n",
    "        plt.ylabel('Values')\n",
    "        \n",
    "    plt.tight_layout()\n",
    "    plt.show()\n",
    "\n",
    "# Call the boxplot function\n",
    "plot_boxplots(results)"
   ]
  },
  {
   "cell_type": "markdown",
   "metadata": {},
   "source": [
    "### Take aways from model training:\n",
    "***RMSE***\n",
    "- Data_0 (RMSE = 37.64): The error is relatively high, indicating that the model's predictions for data_0 deviate significantly from the actual values. This suggests that the model is not performing well, or there may be more variance in the target variable.\n",
    "- Data_1 (RMSE = 0.89): The model for data_1 has a much lower RMSE, which indicates that the predictions are much closer to the actual values. This model is performing better compared to the others.\n",
    "- Data_2 (RMSE = 40.34): Like data_0, the model for data_2 also has a high RMSE, meaning it’s not performing well in predicting the target variable.\n",
    "\n",
    "***Predicted vs Actual***\n",
    "- For data_0, there is a noticeable difference between the distributions of actual and predicted values, indicating that the model might be underestimating or overestimating the target variable.\n",
    "- In data_1, the predicted values appear to closely follow the distribution of the actual values, suggesting a potentially good fit.\n",
    "- For data_2, similar to data_0, the predictions seem to deviate more from the actual values, as indicated by the spread and outliers."
   ]
  },
  {
   "cell_type": "markdown",
   "metadata": {},
   "source": [
    "## Profit Calculation Preparation"
   ]
  },
  {
   "cell_type": "markdown",
   "metadata": {},
   "source": [
    "- 4.1 Set Constants:\n",
    "    - Define key values like:\n",
    "    - Cost per well (500 wells, 200 selected wells).\n",
    "    - Revenue per barrel.\n",
    "- 4.2 Calculate the Threshold:\n",
    "    - Calculate the required reserve volume for a well to avoid losses.\n",
    "    - Compare this with the average volume per region.\n",
    "- 4.3 Findings:\n",
    "    - Provide insights based on this comparison.\n"
   ]
  },
  {
   "cell_type": "code",
   "execution_count": 391,
   "metadata": {},
   "outputs": [],
   "source": [
    "# Constants\n",
    "total_budget = 100e6  # Total budget in USD for 200 wells\n",
    "num_wells = 200  # Number of wells to develop\n",
    "cost_per_well = total_budget / num_wells  # Cost per well\n",
    "revenue_per_barrel = 4.5  # Revenue from one barrel of raw materials in USD\n",
    "revenue_per_unit_product = 4500  # Revenue from one unit of product in USD"
   ]
  },
  {
   "cell_type": "code",
   "execution_count": 392,
   "metadata": {},
   "outputs": [
    {
     "name": "stdout",
     "output_type": "stream",
     "text": [
      "Cost per well: $500000.00\n",
      "Required reserves per well to avoid losses: 111.11 thousand barrels\n"
     ]
    }
   ],
   "source": [
    "# Step 1: Calculate the required reserve volume for a well to avoid losses\n",
    "total_revenue_needed = cost_per_well  # Revenue needed to break even\n",
    "required_reserves_per_well = total_revenue_needed / revenue_per_barrel  # in barrels\n",
    "required_reserves_per_well_thousands = required_reserves_per_well / 1000  # in thousand barrels\n",
    "\n",
    "print(f\"Cost per well: ${cost_per_well:.2f}\")\n",
    "print(f\"Required reserves per well to avoid losses: {required_reserves_per_well_thousands:.2f} thousand barrels\")"
   ]
  },
  {
   "cell_type": "code",
   "execution_count": 393,
   "metadata": {},
   "outputs": [],
   "source": [
    "data_frames = [data_0, data_1, data_2]"
   ]
  },
  {
   "cell_type": "code",
   "execution_count": 394,
   "metadata": {},
   "outputs": [
    {
     "name": "stdout",
     "output_type": "stream",
     "text": [
      "Average product (volume of reserves) in data_0: 92.50 thousand barrels\n",
      "Total number of regions with sufficient reserves in data_0: 36583\n",
      "Total number of regions below the required reserves threshold in data_0: 63417\n",
      "Average product (volume of reserves) in data_1: 68.83 thousand barrels\n",
      "Total number of regions with sufficient reserves in data_1: 16537\n",
      "Total number of regions below the required reserves threshold in data_1: 83463\n",
      "Average product (volume of reserves) in data_2: 95.00 thousand barrels\n",
      "Total number of regions with sufficient reserves in data_2: 38178\n",
      "Total number of regions below the required reserves threshold in data_2: 61822\n"
     ]
    }
   ],
   "source": [
    "#Iterate through each data frame \n",
    "for data, name in zip(data_frames, names):\n",
    "    data['sufficient_reserves'] = data['product'] >= required_reserves_per_well_thousands\n",
    "    \n",
    "    regions_with_sufficient_reserves = data[data['sufficient_reserves']]\n",
    "    regions_below_threshold = data[~data['sufficient_reserves']]\n",
    "    \n",
    "    # Calculate and print the average product (volume of reserves)\n",
    "    average_product = data['product'].mean()\n",
    "    print(f\"Average product (volume of reserves) in {name}: {average_product:.2f} thousand barrels\")\n",
    "    \n",
    "    # Additional insights\n",
    "    if not regions_with_sufficient_reserves.empty:\n",
    "        print(f\"Total number of regions with sufficient reserves in {name}: {len(regions_with_sufficient_reserves)}\")\n",
    "    else:\n",
    "        print(f\"No regions have sufficient reserves to avoid losses in {name}.\")\n",
    "\n",
    "    if not regions_below_threshold.empty:\n",
    "        print(f\"Total number of regions below the required reserves threshold in {name}: {len(regions_below_threshold)}\")\n",
    "    else:\n",
    "        print(f\"All regions in {name} meet the required reserves to avoid losses.\")"
   ]
  },
  {
   "cell_type": "markdown",
   "metadata": {},
   "source": [
    "### Take Aways from Profit Calculation\n",
    "\n",
    "***Average Product (Volume of Reserves):***\n",
    "- data_0: Average reserves are 92.50 thousand barrels.\n",
    "- data_1: Average reserves are 68.83 thousand barrels.\n",
    "- data_2: Average reserves are 95.00 thousand barrels.\n",
    "\n",
    "***Regions with Sufficient Reserves:***\n",
    "- data_0: 36,583 regions have sufficient reserves to meet the threshold required to avoid losses.\n",
    "- data_1: 16,537 regions are above the threshold.\n",
    "- data_2: 38,178 regions meet the necessary reserve levels.\n",
    "\n",
    "***Summary:***\n",
    "- Data_0 and data_2 show promising average reserves (92.50 and 95.00 thousand barrels, respectively), with a significant number of regions having sufficient reserves, indicating potential for profitable drilling operations.\n",
    "- Data_1 has the lowest average reserves at 68.83 thousand barrels and the highest number of regions below the required threshold, suggesting that this dataset may present the highest risk for losses if investments were made based solely on this data."
   ]
  },
  {
   "cell_type": "markdown",
   "metadata": {},
   "source": [
    "## Profit Calculation"
   ]
  },
  {
   "cell_type": "markdown",
   "metadata": {},
   "source": [
    "- 5.1 Create a Profit Calculation Function:\n",
    "    - Write a function to compute profit from predicted reserves.\n",
    "- 5.2 Select Top 200 Wells:\n",
    "    - Select the 200 wells with the highest predicted reserves.\n",
    "    - Calculate total reserves and expected profit for each region.\n",
    "- 5.3 Findings:\n",
    "    - Suggest which region offers the highest potential profit.\n"
   ]
  },
  {
   "cell_type": "code",
   "execution_count": 395,
   "metadata": {},
   "outputs": [],
   "source": [
    "#5.1 profit calculator\n",
    "profit = []\n",
    "def calculate_profit(actual_reserves, predicted_reserves):\n",
    "    predicted_reserves_series = pd.Series(predicted_reserves)\n",
    "    prediction_sort = predicted_reserves_series.sort_values(ascending=False)\n",
    "    select_wells = actual_reserves.iloc[prediction_sort.index[:num_wells]]\n",
    "    product = select_wells.sum()\n",
    "    revenue = product*revenue_per_unit_product\n",
    "    cost = total_budget\n",
    "    profit = revenue - cost\n",
    "    return profit"
   ]
  },
  {
   "cell_type": "code",
   "execution_count": 396,
   "metadata": {},
   "outputs": [
    {
     "name": "stdout",
     "output_type": "stream",
     "text": [
      "Total Reserves for data_0: 30132.673297997215\n",
      "Expected Profit for data_0: 35597029.840987474\n",
      "Total Reserves for data_1: 27589.081548181137\n",
      "Expected Profit for data_1: 24150866.966815114\n",
      "Total Reserves for data_2: 27909.657436875925\n",
      "Expected Profit for data_2: 25593458.465941668\n"
     ]
    }
   ],
   "source": [
    "def select_top_wells(data, predicted_reserves, actual_reserves, n=200):\n",
    "    \"\"\"Selects the top n wells with the highest predicted reserves and calculates profits based on actual reserves.\"\"\"\n",
    "    # Convert predicted and actual reserves to pandas Series to use nlargest and other pandas methods\n",
    "    predicted_reserves_series = pd.Series(predicted_reserves)\n",
    "    prediction_sort = predicted_reserves_series.sort_values(ascending=False)\n",
    "    top_200_indices = prediction_sort.index[:200]\n",
    "    top_200_actual_reserves = actual_reserves.iloc[top_200_indices]\n",
    "    top_200_predicted_reserves_0 = predicted_reserves_series.iloc[top_200_indices]\n",
    "\n",
    "\n",
    "    # Calculate total reserves and profit\n",
    "    total_reserves = top_200_actual_reserves.sum()  # Total actual reserves of selected wells\n",
    "    total_profit = calculate_profit(actual_reserves, predicted_reserves,)  # Calculate expected profit based on actual reserves\n",
    "    \n",
    "    return total_reserves, total_profit\n",
    "\n",
    "\n",
    "# Profit calculation for each dataset\n",
    "results_summary = {}\n",
    "\n",
    "for name, result in results.items():\n",
    "    predicted_reserves = pd.Series(result['Predicted'])\n",
    "    actual_reserves = pd.Series(result['Actual'])\n",
    "    \n",
    "    # Select top wells and calculate profits\n",
    "    total_reserves, expected_profit = select_top_wells(result, predicted_reserves, actual_reserves)\n",
    "    \n",
    "    # Store results in the summary dictionary\n",
    "    results_summary[name] = {\n",
    "        'Total Reserves': total_reserves,\n",
    "        'Expected Profit': expected_profit\n",
    "    }\n",
    "\n",
    "    print(f\"Total Reserves for {name}: {total_reserves}\")\n",
    "    print(f\"Expected Profit for {name}: {expected_profit}\")"
   ]
  },
  {
   "cell_type": "markdown",
   "metadata": {},
   "source": [
    "***Take Aways:***\n",
    "\n",
    "- In section 4 the geographic data from data_0 and data_1 showed similar reserves. The region with data_2 has slightly lower total reserves and a significant amount of difference in expected profit. Thus it has fallen out of contention."
   ]
  },
  {
   "cell_type": "markdown",
   "metadata": {},
   "source": [
    "## Risk and Profit Analysis with Bootstrapping\n"
   ]
  },
  {
   "cell_type": "markdown",
   "metadata": {},
   "source": [
    "- 6.1 Bootstrapping for Profit Estimation:\n",
    "    - Use the bootstrapping technique with 1000 samples to simulate profit distribution for each region.\n",
    "- 6.2 Risk and Confidence Interval:\n",
    "    - Calculate:\n",
    "        - Average profit.\n",
    "        - 95% confidence interval.\n",
    "        - Probability and percentage risk of loss (profit < 0).\n",
    "- 6.3 Final Recommendation:\n",
    "    - Suggest the best region based on the highest average profit and risk analysis (regions with loss risk < 2.5%)."
   ]
  },
  {
   "cell_type": "code",
   "execution_count": 398,
   "metadata": {},
   "outputs": [],
   "source": [
    "def bootstrap_profit_estimation(model, features, target, n_samples=1000, sample_size=500):\n",
    "    profits = []\n",
    "    n_data_points = len(target)\n",
    "\n",
    "    for _ in range(n_samples):\n",
    "        # Ensure we don't sample more indices than available\n",
    "        sample_size_actual = min(sample_size, n_data_points)\n",
    "        \n",
    "        sample_indices = np.random.choice(n_data_points, sample_size_actual, replace=True)\n",
    "        predicted_sample = model.predict(features.iloc[sample_indices])\n",
    "        target_sample = target.iloc[sample_indices]\n",
    "\n",
    "        # Calculate profit for this bootstrap sample\n",
    "        profit = calculate_profit(target_sample, predicted_sample)\n",
    "        profits.append(profit)\n",
    "\n",
    "    return profits"
   ]
  },
  {
   "cell_type": "code",
   "execution_count": 399,
   "metadata": {},
   "outputs": [],
   "source": [
    "# 5.2 Function to calculate 95% confidence interval and loss risk for data_0\n",
    "def calculate_risk_and_confidence_interval(profits, alpha=0.05):\n",
    "    profits = np.array(profits)\n",
    "    # Calculate the average profit\n",
    "    avg_profit = profits.mean()\n",
    "\n",
    "    # Calculate the 95% confidence interval (lower and upper percentiles)\n",
    "    lower_bound = np.percentile(profits, alpha / 2 * 100)\n",
    "    upper_bound = np.percentile(profits, (1 - alpha / 2) * 100)\n",
    "    \n",
    "    # Calculate the risk of losses (negative profit)\n",
    "    loss_risk = (profits < 0).mean() * 100  # Convert to percentage\n",
    "\n",
    "    return avg_profit, lower_bound, upper_bound, loss_risk"
   ]
  },
  {
   "cell_type": "code",
   "execution_count": 400,
   "metadata": {},
   "outputs": [],
   "source": [
    "# Function to recommend the best region based on profits and risk\n",
    "def recommend_best_region(models, datasets, n_samples=1000, sample_size=500):\n",
    "    region_analysis = {}\n",
    "\n",
    "    for name, (model, features, target) in datasets.items():\n",
    "        print(f\"\\nRunning bootstrapping for region: {name}\")\n",
    "        \n",
    "        # Perform bootstrapping for each region using the generalized function\n",
    "        bootstrap_profits = bootstrap_profit_estimation(model, features, target, n_samples, sample_size)\n",
    "\n",
    "        # Analyze the results\n",
    "        avg_profit, lower_bound, upper_bound, loss_risk = calculate_risk_and_confidence_interval(bootstrap_profits)\n",
    "\n",
    "        # Store the analysis for each region\n",
    "        region_analysis[name] = {\n",
    "            'avg_profit': avg_profit,\n",
    "            'conf_interval': (lower_bound, upper_bound),\n",
    "            'loss_risk': loss_risk\n",
    "        }\n",
    "\n",
    "        # Print the results\n",
    "        print(f\"Region: {name}\")\n",
    "        print(f\"Average Profit: ${avg_profit:,.2f}\")\n",
    "        print(f\"95% Confidence Interval: (${lower_bound:,.2f}, ${upper_bound:,.2f})\")\n",
    "        print(f\"Risk of Losses: {loss_risk:.2f}%\\n\")\n",
    "    \n",
    "    # Filter regions with risk of loss less than 2.5%\n",
    "    valid_regions = {name: res for name, res in region_analysis.items() if res['loss_risk'] < 2.5}\n",
    "\n",
    "    # Find the region with the highest average profit among the valid regions\n",
    "    if valid_regions:\n",
    "        best_region = max(valid_regions.items(), key=lambda x: x[1]['avg_profit'])\n",
    "        print(f\"\\nBest region: {best_region[0]} with an average profit of ${best_region[1]['avg_profit']:,.2f}\")\n",
    "    else:\n",
    "        print(\"\\nNo region meets the risk criteria (risk of loss < 2.5%).\")"
   ]
  },
  {
   "cell_type": "code",
   "execution_count": 401,
   "metadata": {},
   "outputs": [
    {
     "name": "stdout",
     "output_type": "stream",
     "text": [
      "\n",
      "Running bootstrapping for region: data_0\n",
      "Region: data_0\n",
      "Average Profit: $4,355,084.54\n",
      "95% Confidence Interval: ($-623,890.44, $9,149,373.73)\n",
      "Risk of Losses: 4.60%\n",
      "\n",
      "\n",
      "Running bootstrapping for region: data_1\n",
      "Region: data_1\n",
      "Average Profit: $4,512,973.30\n",
      "95% Confidence Interval: ($510,218.73, $8,516,052.56)\n",
      "Risk of Losses: 1.20%\n",
      "\n",
      "\n",
      "Running bootstrapping for region: data_2\n",
      "Region: data_2\n",
      "Average Profit: $3,717,983.73\n",
      "95% Confidence Interval: ($-1,815,985.75, $9,315,876.45)\n",
      "Risk of Losses: 8.50%\n",
      "\n",
      "\n",
      "Best region: data_1 with an average profit of $4,512,973.30\n"
     ]
    }
   ],
   "source": [
    "# Call the function to recommend the best region based on profitability and risk\n",
    "recommend_best_region(models, datasets)"
   ]
  },
  {
   "cell_type": "markdown",
   "metadata": {},
   "source": [
    "***Take Aways:***\n",
    "- Based on the average profits and risk of loss, the best region for developing the oil wells is data_1, which has the highest average profit."
   ]
  },
  {
   "cell_type": "markdown",
   "metadata": {},
   "source": [
    "## Conclusions"
   ]
  },
  {
   "cell_type": "markdown",
   "metadata": {},
   "source": [
    "The analysis of three regions using predictive modeling and financial evaluation has identified Region data_1 as the most optimal location for oil well development.\n",
    "\n",
    "***Key Findings:***\n",
    "- ***Profitability:*** Region data_1 has the highest average profit of ***$4,512,973.30***, significantly exceeding the profits of the other regions.\n",
    "- ***Risk Assessment:*** The risk of losses in data_1 is only ***1.2%***, remaining well below the 2.5% threshold, making it a financially secure investment.\n",
    "- ***Confidence Interval:*** The 95% confidence interval for profit in data_1 ranges from ***$510,218.73 to $8,516,052.56***, ensuring a positive expected return.\n",
    "- ***Model Performance:*** The model trained for data_1 achieved the lowest RMSE (***0.89***), indicating higher predictive accuracy compared to data_0 (***37.64***) and data_2 (***40.34***).\n",
    "- ***Reserves Evaluation:*** While data_2 had the highest average reserves per well (***95,000 barrels***), its high risk of loss (***8.5%***) made it unsuitable. Data_1, despite having lower reserves (***68,830 barrels on average***), exhibited significantly lower financial risk and more consistent profitability.\n",
    "\n",
    "***Final Decision:***\n",
    "\n",
    "***Region data_1 should be selected*** for oil well development due to its strong balance of profitability, minimal risk, and superior model accuracy. This ensures a higher likelihood of sustainable returns while maintaining financial security."
   ]
  }
 ],
 "metadata": {
  "ExecuteTimeLog": [
   {
    "duration": 322,
    "start_time": "2024-09-23T04:31:51.090Z"
   },
   {
    "duration": 2,
    "start_time": "2024-09-23T04:35:27.851Z"
   },
   {
    "duration": 177,
    "start_time": "2024-09-23T04:36:05.147Z"
   },
   {
    "duration": 12,
    "start_time": "2024-09-23T04:36:17.461Z"
   },
   {
    "duration": 23,
    "start_time": "2024-09-23T04:36:24.999Z"
   },
   {
    "duration": 368,
    "start_time": "2024-09-23T04:36:34.268Z"
   },
   {
    "duration": 359,
    "start_time": "2024-09-23T04:38:41.144Z"
   },
   {
    "duration": 2,
    "start_time": "2024-09-23T04:39:32.407Z"
   },
   {
    "duration": 3,
    "start_time": "2024-09-23T04:39:41.599Z"
   },
   {
    "duration": 12,
    "start_time": "2024-09-23T04:39:57.083Z"
   },
   {
    "duration": 2,
    "start_time": "2024-09-23T04:41:07.098Z"
   },
   {
    "duration": 20,
    "start_time": "2024-09-23T04:41:08.707Z"
   },
   {
    "duration": 12,
    "start_time": "2024-09-23T04:41:30.590Z"
   },
   {
    "duration": 19,
    "start_time": "2024-09-23T04:41:40.528Z"
   },
   {
    "duration": 17,
    "start_time": "2024-09-23T04:41:54.651Z"
   },
   {
    "duration": 18,
    "start_time": "2024-09-23T04:42:03.435Z"
   },
   {
    "duration": 3,
    "start_time": "2024-09-23T04:48:36.259Z"
   },
   {
    "duration": 2,
    "start_time": "2024-09-23T04:48:38.919Z"
   },
   {
    "duration": 220,
    "start_time": "2024-09-23T04:48:38.923Z"
   },
   {
    "duration": 3,
    "start_time": "2024-09-23T04:48:39.145Z"
   },
   {
    "duration": 43,
    "start_time": "2024-09-23T04:48:39.150Z"
   },
   {
    "duration": 37,
    "start_time": "2024-09-23T04:48:39.195Z"
   },
   {
    "duration": 62,
    "start_time": "2024-09-23T04:48:39.234Z"
   },
   {
    "duration": 2,
    "start_time": "2024-09-23T04:49:25.511Z"
   },
   {
    "duration": 220,
    "start_time": "2024-09-23T04:49:25.515Z"
   },
   {
    "duration": 4,
    "start_time": "2024-09-23T04:49:25.737Z"
   },
   {
    "duration": 42,
    "start_time": "2024-09-23T04:49:25.742Z"
   },
   {
    "duration": 32,
    "start_time": "2024-09-23T04:49:25.787Z"
   },
   {
    "duration": 48,
    "start_time": "2024-09-23T04:49:25.822Z"
   },
   {
    "duration": 162,
    "start_time": "2024-09-26T11:38:02.144Z"
   },
   {
    "duration": 308,
    "start_time": "2024-09-26T11:38:06.713Z"
   },
   {
    "duration": 359,
    "start_time": "2024-09-26T11:38:07.023Z"
   },
   {
    "duration": 34,
    "start_time": "2024-09-26T11:38:07.384Z"
   },
   {
    "duration": 3,
    "start_time": "2024-09-26T11:38:07.420Z"
   },
   {
    "duration": 52,
    "start_time": "2024-09-26T11:38:07.426Z"
   },
   {
    "duration": 32,
    "start_time": "2024-09-26T11:38:07.480Z"
   },
   {
    "duration": 57,
    "start_time": "2024-09-26T11:38:07.514Z"
   },
   {
    "duration": 32,
    "start_time": "2024-09-26T11:38:18.077Z"
   },
   {
    "duration": 86,
    "start_time": "2024-09-26T11:38:29.412Z"
   },
   {
    "duration": 107,
    "start_time": "2024-09-26T11:39:29.141Z"
   },
   {
    "duration": 161,
    "start_time": "2024-09-26T11:41:32.143Z"
   },
   {
    "duration": 13,
    "start_time": "2024-09-26T11:42:20.615Z"
   },
   {
    "duration": 49,
    "start_time": "2024-09-26T11:44:17.149Z"
   },
   {
    "duration": 22,
    "start_time": "2024-09-26T11:44:24.167Z"
   },
   {
    "duration": 152,
    "start_time": "2024-09-26T11:45:16.266Z"
   },
   {
    "duration": 26,
    "start_time": "2024-09-26T12:06:01.280Z"
   },
   {
    "duration": 441,
    "start_time": "2024-09-26T12:06:07.132Z"
   },
   {
    "duration": 232,
    "start_time": "2024-09-26T12:06:07.575Z"
   },
   {
    "duration": 143,
    "start_time": "2024-09-26T12:06:07.809Z"
   },
   {
    "duration": 16,
    "start_time": "2024-09-26T12:06:07.954Z"
   },
   {
    "duration": 33,
    "start_time": "2024-09-26T12:06:07.974Z"
   },
   {
    "duration": 32,
    "start_time": "2024-09-26T12:06:08.009Z"
   },
   {
    "duration": 52,
    "start_time": "2024-09-26T12:06:08.043Z"
   },
   {
    "duration": 74,
    "start_time": "2024-09-26T12:06:08.097Z"
   },
   {
    "duration": 40,
    "start_time": "2024-09-26T12:06:21.689Z"
   },
   {
    "duration": 54,
    "start_time": "2024-09-26T12:06:38.662Z"
   },
   {
    "duration": 52,
    "start_time": "2024-09-26T12:09:11.389Z"
   },
   {
    "duration": 65,
    "start_time": "2024-09-26T12:12:01.258Z"
   },
   {
    "duration": 15,
    "start_time": "2024-09-26T12:12:04.340Z"
   },
   {
    "duration": 221,
    "start_time": "2024-09-26T12:12:04.357Z"
   },
   {
    "duration": 137,
    "start_time": "2024-09-26T12:12:04.579Z"
   },
   {
    "duration": 3,
    "start_time": "2024-09-26T12:12:04.718Z"
   },
   {
    "duration": 54,
    "start_time": "2024-09-26T12:12:04.723Z"
   },
   {
    "duration": 32,
    "start_time": "2024-09-26T12:12:04.779Z"
   },
   {
    "duration": 33,
    "start_time": "2024-09-26T12:12:04.812Z"
   },
   {
    "duration": 102,
    "start_time": "2024-09-26T12:12:04.846Z"
   },
   {
    "duration": 2,
    "start_time": "2024-09-26T12:13:05.296Z"
   },
   {
    "duration": 214,
    "start_time": "2024-09-26T12:13:05.300Z"
   },
   {
    "duration": 134,
    "start_time": "2024-09-26T12:13:05.516Z"
   },
   {
    "duration": 18,
    "start_time": "2024-09-26T12:13:05.653Z"
   },
   {
    "duration": 34,
    "start_time": "2024-09-26T12:13:05.672Z"
   },
   {
    "duration": 33,
    "start_time": "2024-09-26T12:13:05.708Z"
   },
   {
    "duration": 54,
    "start_time": "2024-09-26T12:13:05.743Z"
   },
   {
    "duration": 49,
    "start_time": "2024-09-26T12:13:05.798Z"
   },
   {
    "duration": 40,
    "start_time": "2024-09-26T12:15:17.068Z"
   },
   {
    "duration": 19,
    "start_time": "2024-09-26T12:16:44.948Z"
   },
   {
    "duration": 3,
    "start_time": "2024-09-26T12:16:53.604Z"
   },
   {
    "duration": 215,
    "start_time": "2024-09-26T12:16:53.609Z"
   },
   {
    "duration": 151,
    "start_time": "2024-09-26T12:16:53.826Z"
   },
   {
    "duration": 2,
    "start_time": "2024-09-26T12:16:53.979Z"
   },
   {
    "duration": 36,
    "start_time": "2024-09-26T12:16:53.983Z"
   },
   {
    "duration": 57,
    "start_time": "2024-09-26T12:16:54.020Z"
   },
   {
    "duration": 34,
    "start_time": "2024-09-26T12:16:54.079Z"
   },
   {
    "duration": 34,
    "start_time": "2024-09-26T12:16:54.114Z"
   },
   {
    "duration": 24,
    "start_time": "2024-09-26T12:16:54.151Z"
   },
   {
    "duration": 5,
    "start_time": "2024-09-26T12:17:20.831Z"
   },
   {
    "duration": 26,
    "start_time": "2024-09-26T12:24:34.682Z"
   },
   {
    "duration": 47,
    "start_time": "2024-09-26T12:26:29.830Z"
   },
   {
    "duration": 80,
    "start_time": "2024-09-26T12:29:02.502Z"
   },
   {
    "duration": 120,
    "start_time": "2024-09-26T12:29:22.052Z"
   },
   {
    "duration": 1935,
    "start_time": "2024-09-26T12:36:48.985Z"
   },
   {
    "duration": 227,
    "start_time": "2024-09-26T12:36:50.922Z"
   },
   {
    "duration": 155,
    "start_time": "2024-09-26T12:36:51.151Z"
   },
   {
    "duration": 2,
    "start_time": "2024-09-26T12:36:51.309Z"
   },
   {
    "duration": 34,
    "start_time": "2024-09-26T12:36:51.313Z"
   },
   {
    "duration": 36,
    "start_time": "2024-09-26T12:36:51.369Z"
   },
   {
    "duration": 33,
    "start_time": "2024-09-26T12:36:51.406Z"
   },
   {
    "duration": 7,
    "start_time": "2024-09-26T12:36:51.440Z"
   },
   {
    "duration": 134,
    "start_time": "2024-09-26T12:36:51.470Z"
   },
   {
    "duration": 0,
    "start_time": "2024-09-26T12:36:51.606Z"
   },
   {
    "duration": 2,
    "start_time": "2024-09-26T12:37:50.386Z"
   },
   {
    "duration": 221,
    "start_time": "2024-09-26T12:37:50.390Z"
   },
   {
    "duration": 147,
    "start_time": "2024-09-26T12:37:50.613Z"
   },
   {
    "duration": 3,
    "start_time": "2024-09-26T12:37:50.770Z"
   },
   {
    "duration": 32,
    "start_time": "2024-09-26T12:37:50.775Z"
   },
   {
    "duration": 32,
    "start_time": "2024-09-26T12:37:50.809Z"
   },
   {
    "duration": 60,
    "start_time": "2024-09-26T12:37:50.844Z"
   },
   {
    "duration": 8,
    "start_time": "2024-09-26T12:37:50.906Z"
   },
   {
    "duration": 73,
    "start_time": "2024-09-26T12:37:50.916Z"
   },
   {
    "duration": 62272,
    "start_time": "2024-09-26T12:37:51.072Z"
   },
   {
    "duration": 3,
    "start_time": "2024-09-26T12:42:03.399Z"
   },
   {
    "duration": 227,
    "start_time": "2024-09-26T12:42:03.404Z"
   },
   {
    "duration": 181,
    "start_time": "2024-09-26T12:42:03.633Z"
   },
   {
    "duration": 3,
    "start_time": "2024-09-26T12:42:03.817Z"
   },
   {
    "duration": 63,
    "start_time": "2024-09-26T12:42:03.822Z"
   },
   {
    "duration": 31,
    "start_time": "2024-09-26T12:42:03.887Z"
   },
   {
    "duration": 52,
    "start_time": "2024-09-26T12:42:03.920Z"
   },
   {
    "duration": 7,
    "start_time": "2024-09-26T12:42:03.974Z"
   },
   {
    "duration": 99,
    "start_time": "2024-09-26T12:42:03.983Z"
   },
   {
    "duration": 1335,
    "start_time": "2024-09-26T12:42:04.083Z"
   },
   {
    "duration": 158,
    "start_time": "2024-09-26T13:24:07.197Z"
   },
   {
    "duration": 2618,
    "start_time": "2024-09-26T13:24:12.973Z"
   },
   {
    "duration": 409,
    "start_time": "2024-09-26T13:24:15.594Z"
   },
   {
    "duration": 137,
    "start_time": "2024-09-26T13:24:16.005Z"
   },
   {
    "duration": 3,
    "start_time": "2024-09-26T13:24:16.144Z"
   },
   {
    "duration": 37,
    "start_time": "2024-09-26T13:24:16.149Z"
   },
   {
    "duration": 57,
    "start_time": "2024-09-26T13:24:16.187Z"
   },
   {
    "duration": 31,
    "start_time": "2024-09-26T13:24:16.246Z"
   },
   {
    "duration": 8,
    "start_time": "2024-09-26T13:24:16.279Z"
   },
   {
    "duration": 163,
    "start_time": "2024-09-26T13:24:16.289Z"
   },
   {
    "duration": 1314,
    "start_time": "2024-09-26T13:24:16.455Z"
   },
   {
    "duration": 399,
    "start_time": "2024-09-26T13:24:17.772Z"
   },
   {
    "duration": 8,
    "start_time": "2024-09-26T13:38:49.462Z"
   },
   {
    "duration": 3,
    "start_time": "2024-09-26T13:41:37.035Z"
   },
   {
    "duration": 226,
    "start_time": "2024-09-26T13:41:37.040Z"
   },
   {
    "duration": 137,
    "start_time": "2024-09-26T13:41:37.267Z"
   },
   {
    "duration": 3,
    "start_time": "2024-09-26T13:41:37.406Z"
   },
   {
    "duration": 126,
    "start_time": "2024-09-26T13:41:37.430Z"
   },
   {
    "duration": 33,
    "start_time": "2024-09-26T13:41:37.557Z"
   },
   {
    "duration": 52,
    "start_time": "2024-09-26T13:41:37.592Z"
   },
   {
    "duration": 9,
    "start_time": "2024-09-26T13:41:37.646Z"
   },
   {
    "duration": 181,
    "start_time": "2024-09-26T13:41:37.657Z"
   },
   {
    "duration": 1242,
    "start_time": "2024-09-26T13:41:37.854Z"
   },
   {
    "duration": 382,
    "start_time": "2024-09-26T13:41:39.098Z"
   },
   {
    "duration": 3,
    "start_time": "2024-09-26T13:41:39.481Z"
   },
   {
    "duration": 3,
    "start_time": "2024-09-26T13:41:39.486Z"
   },
   {
    "duration": 3,
    "start_time": "2024-09-26T13:59:20.972Z"
   },
   {
    "duration": 219,
    "start_time": "2024-09-26T13:59:20.977Z"
   },
   {
    "duration": 137,
    "start_time": "2024-09-26T13:59:21.198Z"
   },
   {
    "duration": 3,
    "start_time": "2024-09-26T13:59:21.337Z"
   },
   {
    "duration": 152,
    "start_time": "2024-09-26T13:59:21.343Z"
   },
   {
    "duration": 39,
    "start_time": "2024-09-26T13:59:21.497Z"
   },
   {
    "duration": 31,
    "start_time": "2024-09-26T13:59:21.538Z"
   },
   {
    "duration": 7,
    "start_time": "2024-09-26T13:59:21.571Z"
   },
   {
    "duration": 71,
    "start_time": "2024-09-26T13:59:21.580Z"
   },
   {
    "duration": 1321,
    "start_time": "2024-09-26T13:59:21.652Z"
   },
   {
    "duration": 371,
    "start_time": "2024-09-26T13:59:22.975Z"
   },
   {
    "duration": 3,
    "start_time": "2024-09-26T13:59:23.348Z"
   },
   {
    "duration": 3,
    "start_time": "2024-09-26T13:59:23.353Z"
   },
   {
    "duration": 130,
    "start_time": "2024-09-26T13:59:23.358Z"
   },
   {
    "duration": 20,
    "start_time": "2024-09-26T14:00:18.778Z"
   },
   {
    "duration": 21,
    "start_time": "2024-09-26T14:03:11.323Z"
   },
   {
    "duration": 10,
    "start_time": "2024-09-26T14:24:02.076Z"
   },
   {
    "duration": 2,
    "start_time": "2024-09-26T14:24:58.563Z"
   },
   {
    "duration": 239,
    "start_time": "2024-09-26T14:24:58.567Z"
   },
   {
    "duration": 146,
    "start_time": "2024-09-26T14:24:58.810Z"
   },
   {
    "duration": 3,
    "start_time": "2024-09-26T14:24:58.958Z"
   },
   {
    "duration": 40,
    "start_time": "2024-09-26T14:24:58.965Z"
   },
   {
    "duration": 61,
    "start_time": "2024-09-26T14:24:59.007Z"
   },
   {
    "duration": 33,
    "start_time": "2024-09-26T14:24:59.070Z"
   },
   {
    "duration": 30,
    "start_time": "2024-09-26T14:24:59.106Z"
   },
   {
    "duration": 102,
    "start_time": "2024-09-26T14:24:59.156Z"
   },
   {
    "duration": 1343,
    "start_time": "2024-09-26T14:24:59.262Z"
   },
   {
    "duration": 368,
    "start_time": "2024-09-26T14:25:00.607Z"
   },
   {
    "duration": 3,
    "start_time": "2024-09-26T14:25:00.977Z"
   },
   {
    "duration": 3,
    "start_time": "2024-09-26T14:25:00.982Z"
   },
   {
    "duration": 20,
    "start_time": "2024-09-26T14:25:00.988Z"
   },
   {
    "duration": 25,
    "start_time": "2024-09-26T14:25:01.009Z"
   },
   {
    "duration": 188,
    "start_time": "2024-09-26T14:25:01.035Z"
   },
   {
    "duration": 0,
    "start_time": "2024-09-26T14:25:01.225Z"
   },
   {
    "duration": 3,
    "start_time": "2024-09-26T14:27:00.328Z"
   },
   {
    "duration": 217,
    "start_time": "2024-09-26T14:27:00.333Z"
   },
   {
    "duration": 145,
    "start_time": "2024-09-26T14:27:00.552Z"
   },
   {
    "duration": 3,
    "start_time": "2024-09-26T14:27:00.699Z"
   },
   {
    "duration": 51,
    "start_time": "2024-09-26T14:27:00.705Z"
   },
   {
    "duration": 32,
    "start_time": "2024-09-26T14:27:00.758Z"
   },
   {
    "duration": 51,
    "start_time": "2024-09-26T14:27:00.791Z"
   },
   {
    "duration": 7,
    "start_time": "2024-09-26T14:27:00.844Z"
   },
   {
    "duration": 87,
    "start_time": "2024-09-26T14:27:00.854Z"
   },
   {
    "duration": 207,
    "start_time": "2024-09-26T14:27:00.942Z"
   },
   {
    "duration": 0,
    "start_time": "2024-09-26T14:27:01.151Z"
   },
   {
    "duration": 0,
    "start_time": "2024-09-26T14:27:01.152Z"
   },
   {
    "duration": 0,
    "start_time": "2024-09-26T14:27:01.153Z"
   },
   {
    "duration": 0,
    "start_time": "2024-09-26T14:27:01.154Z"
   },
   {
    "duration": 0,
    "start_time": "2024-09-26T14:27:01.155Z"
   },
   {
    "duration": 0,
    "start_time": "2024-09-26T14:27:01.157Z"
   },
   {
    "duration": 0,
    "start_time": "2024-09-26T14:27:01.158Z"
   },
   {
    "duration": 3,
    "start_time": "2024-09-26T14:49:27.698Z"
   },
   {
    "duration": 247,
    "start_time": "2024-09-26T14:49:27.703Z"
   },
   {
    "duration": 179,
    "start_time": "2024-09-26T14:49:27.953Z"
   },
   {
    "duration": 6,
    "start_time": "2024-09-26T14:49:28.136Z"
   },
   {
    "duration": 36,
    "start_time": "2024-09-26T14:49:28.145Z"
   },
   {
    "duration": 50,
    "start_time": "2024-09-26T14:49:28.183Z"
   },
   {
    "duration": 33,
    "start_time": "2024-09-26T14:49:28.237Z"
   },
   {
    "duration": 8,
    "start_time": "2024-09-26T14:49:28.272Z"
   },
   {
    "duration": 70,
    "start_time": "2024-09-26T14:49:28.282Z"
   },
   {
    "duration": 240,
    "start_time": "2024-09-26T14:49:28.354Z"
   },
   {
    "duration": 0,
    "start_time": "2024-09-26T14:49:28.596Z"
   },
   {
    "duration": 0,
    "start_time": "2024-09-26T14:49:28.598Z"
   },
   {
    "duration": 0,
    "start_time": "2024-09-26T14:49:28.598Z"
   },
   {
    "duration": 0,
    "start_time": "2024-09-26T14:49:28.600Z"
   },
   {
    "duration": 0,
    "start_time": "2024-09-26T14:49:28.601Z"
   },
   {
    "duration": 0,
    "start_time": "2024-09-26T14:49:28.602Z"
   },
   {
    "duration": 0,
    "start_time": "2024-09-26T14:49:28.602Z"
   },
   {
    "duration": 3,
    "start_time": "2024-09-26T14:49:45.324Z"
   },
   {
    "duration": 213,
    "start_time": "2024-09-26T14:49:45.329Z"
   },
   {
    "duration": 139,
    "start_time": "2024-09-26T14:49:45.543Z"
   },
   {
    "duration": 3,
    "start_time": "2024-09-26T14:49:45.684Z"
   },
   {
    "duration": 53,
    "start_time": "2024-09-26T14:49:45.689Z"
   },
   {
    "duration": 33,
    "start_time": "2024-09-26T14:49:45.743Z"
   },
   {
    "duration": 33,
    "start_time": "2024-09-26T14:49:45.778Z"
   },
   {
    "duration": 7,
    "start_time": "2024-09-26T14:49:45.832Z"
   },
   {
    "duration": 100,
    "start_time": "2024-09-26T14:49:45.842Z"
   },
   {
    "duration": 212,
    "start_time": "2024-09-26T14:49:45.944Z"
   },
   {
    "duration": 0,
    "start_time": "2024-09-26T14:49:46.159Z"
   },
   {
    "duration": 0,
    "start_time": "2024-09-26T14:49:46.160Z"
   },
   {
    "duration": 0,
    "start_time": "2024-09-26T14:49:46.161Z"
   },
   {
    "duration": 0,
    "start_time": "2024-09-26T14:49:46.162Z"
   },
   {
    "duration": 0,
    "start_time": "2024-09-26T14:49:46.163Z"
   },
   {
    "duration": 0,
    "start_time": "2024-09-26T14:49:46.164Z"
   },
   {
    "duration": 0,
    "start_time": "2024-09-26T14:49:46.165Z"
   },
   {
    "duration": 2,
    "start_time": "2024-09-26T15:04:53.932Z"
   },
   {
    "duration": 220,
    "start_time": "2024-09-26T15:04:53.937Z"
   },
   {
    "duration": 142,
    "start_time": "2024-09-26T15:04:54.159Z"
   },
   {
    "duration": 2,
    "start_time": "2024-09-26T15:04:54.304Z"
   },
   {
    "duration": 50,
    "start_time": "2024-09-26T15:04:54.309Z"
   },
   {
    "duration": 32,
    "start_time": "2024-09-26T15:04:54.361Z"
   },
   {
    "duration": 54,
    "start_time": "2024-09-26T15:04:54.394Z"
   },
   {
    "duration": 7,
    "start_time": "2024-09-26T15:04:54.450Z"
   },
   {
    "duration": 171,
    "start_time": "2024-09-26T15:04:54.459Z"
   },
   {
    "duration": 1303,
    "start_time": "2024-09-26T15:04:54.632Z"
   },
   {
    "duration": 457,
    "start_time": "2024-09-26T15:04:55.936Z"
   },
   {
    "duration": 2,
    "start_time": "2024-09-26T15:04:56.395Z"
   },
   {
    "duration": 3,
    "start_time": "2024-09-26T15:04:56.400Z"
   },
   {
    "duration": 32,
    "start_time": "2024-09-26T15:04:56.405Z"
   },
   {
    "duration": 3,
    "start_time": "2024-09-26T15:04:56.439Z"
   },
   {
    "duration": 18,
    "start_time": "2024-09-26T15:04:56.443Z"
   },
   {
    "duration": 0,
    "start_time": "2024-09-26T15:04:56.462Z"
   },
   {
    "duration": 3,
    "start_time": "2024-09-26T15:09:18.473Z"
   },
   {
    "duration": 218,
    "start_time": "2024-09-26T15:09:18.478Z"
   },
   {
    "duration": 148,
    "start_time": "2024-09-26T15:09:18.697Z"
   },
   {
    "duration": 3,
    "start_time": "2024-09-26T15:09:18.847Z"
   },
   {
    "duration": 33,
    "start_time": "2024-09-26T15:09:18.853Z"
   },
   {
    "duration": 57,
    "start_time": "2024-09-26T15:09:18.888Z"
   },
   {
    "duration": 33,
    "start_time": "2024-09-26T15:09:18.948Z"
   },
   {
    "duration": 7,
    "start_time": "2024-09-26T15:09:18.983Z"
   },
   {
    "duration": 55,
    "start_time": "2024-09-26T15:09:18.992Z"
   },
   {
    "duration": 0,
    "start_time": "2024-09-26T15:09:19.049Z"
   },
   {
    "duration": 0,
    "start_time": "2024-09-26T15:09:19.050Z"
   },
   {
    "duration": 0,
    "start_time": "2024-09-26T15:09:19.051Z"
   },
   {
    "duration": 0,
    "start_time": "2024-09-26T15:09:19.052Z"
   },
   {
    "duration": 0,
    "start_time": "2024-09-26T15:09:19.054Z"
   },
   {
    "duration": 0,
    "start_time": "2024-09-26T15:09:19.055Z"
   },
   {
    "duration": 0,
    "start_time": "2024-09-26T15:09:19.056Z"
   },
   {
    "duration": 0,
    "start_time": "2024-09-26T15:09:19.056Z"
   },
   {
    "duration": 3,
    "start_time": "2024-09-26T15:10:01.490Z"
   },
   {
    "duration": 251,
    "start_time": "2024-09-26T15:10:01.495Z"
   },
   {
    "duration": 143,
    "start_time": "2024-09-26T15:10:01.748Z"
   },
   {
    "duration": 2,
    "start_time": "2024-09-26T15:10:01.893Z"
   },
   {
    "duration": 53,
    "start_time": "2024-09-26T15:10:01.899Z"
   },
   {
    "duration": 37,
    "start_time": "2024-09-26T15:10:01.954Z"
   },
   {
    "duration": 55,
    "start_time": "2024-09-26T15:10:01.993Z"
   },
   {
    "duration": 7,
    "start_time": "2024-09-26T15:10:02.049Z"
   },
   {
    "duration": 90,
    "start_time": "2024-09-26T15:10:02.058Z"
   },
   {
    "duration": 233,
    "start_time": "2024-09-26T15:10:02.150Z"
   },
   {
    "duration": 0,
    "start_time": "2024-09-26T15:10:02.386Z"
   },
   {
    "duration": 0,
    "start_time": "2024-09-26T15:10:02.387Z"
   },
   {
    "duration": 0,
    "start_time": "2024-09-26T15:10:02.388Z"
   },
   {
    "duration": 0,
    "start_time": "2024-09-26T15:10:02.390Z"
   },
   {
    "duration": 0,
    "start_time": "2024-09-26T15:10:02.391Z"
   },
   {
    "duration": 0,
    "start_time": "2024-09-26T15:10:02.393Z"
   },
   {
    "duration": 0,
    "start_time": "2024-09-26T15:10:02.393Z"
   },
   {
    "duration": 3,
    "start_time": "2024-09-26T15:11:31.800Z"
   },
   {
    "duration": 217,
    "start_time": "2024-09-26T15:11:31.805Z"
   },
   {
    "duration": 141,
    "start_time": "2024-09-26T15:11:32.024Z"
   },
   {
    "duration": 3,
    "start_time": "2024-09-26T15:11:32.166Z"
   },
   {
    "duration": 35,
    "start_time": "2024-09-26T15:11:32.171Z"
   },
   {
    "duration": 54,
    "start_time": "2024-09-26T15:11:32.208Z"
   },
   {
    "duration": 32,
    "start_time": "2024-09-26T15:11:32.264Z"
   },
   {
    "duration": 6,
    "start_time": "2024-09-26T15:11:32.298Z"
   },
   {
    "duration": 129,
    "start_time": "2024-09-26T15:11:32.306Z"
   },
   {
    "duration": 1353,
    "start_time": "2024-09-26T15:11:32.437Z"
   },
   {
    "duration": 387,
    "start_time": "2024-09-26T15:11:33.792Z"
   },
   {
    "duration": 3,
    "start_time": "2024-09-26T15:11:34.181Z"
   },
   {
    "duration": 3,
    "start_time": "2024-09-26T15:11:34.186Z"
   },
   {
    "duration": 21,
    "start_time": "2024-09-26T15:11:34.191Z"
   },
   {
    "duration": 19,
    "start_time": "2024-09-26T15:11:34.214Z"
   },
   {
    "duration": 16,
    "start_time": "2024-09-26T15:11:34.235Z"
   },
   {
    "duration": 0,
    "start_time": "2024-09-26T15:11:34.252Z"
   },
   {
    "duration": 3,
    "start_time": "2024-09-26T15:12:46.086Z"
   },
   {
    "duration": 213,
    "start_time": "2024-09-26T15:12:46.092Z"
   },
   {
    "duration": 139,
    "start_time": "2024-09-26T15:12:46.307Z"
   },
   {
    "duration": 3,
    "start_time": "2024-09-26T15:12:46.448Z"
   },
   {
    "duration": 34,
    "start_time": "2024-09-26T15:12:46.453Z"
   },
   {
    "duration": 53,
    "start_time": "2024-09-26T15:12:46.489Z"
   },
   {
    "duration": 31,
    "start_time": "2024-09-26T15:12:46.544Z"
   },
   {
    "duration": 7,
    "start_time": "2024-09-26T15:12:46.577Z"
   },
   {
    "duration": 150,
    "start_time": "2024-09-26T15:12:46.586Z"
   },
   {
    "duration": 1437,
    "start_time": "2024-09-26T15:12:46.741Z"
   },
   {
    "duration": 402,
    "start_time": "2024-09-26T15:12:48.182Z"
   },
   {
    "duration": 3,
    "start_time": "2024-09-26T15:12:48.585Z"
   },
   {
    "duration": 3,
    "start_time": "2024-09-26T15:12:48.590Z"
   },
   {
    "duration": 36,
    "start_time": "2024-09-26T15:12:48.597Z"
   },
   {
    "duration": 3,
    "start_time": "2024-09-26T15:12:48.635Z"
   },
   {
    "duration": 104,
    "start_time": "2024-09-26T15:12:48.640Z"
   },
   {
    "duration": 99,
    "start_time": "2024-09-26T15:12:48.746Z"
   },
   {
    "duration": 1,
    "start_time": "2024-09-26T15:12:48.847Z"
   },
   {
    "duration": 2,
    "start_time": "2024-09-26T15:13:10.741Z"
   },
   {
    "duration": 212,
    "start_time": "2024-09-26T15:13:10.745Z"
   },
   {
    "duration": 142,
    "start_time": "2024-09-26T15:13:10.959Z"
   },
   {
    "duration": 2,
    "start_time": "2024-09-26T15:13:11.103Z"
   },
   {
    "duration": 48,
    "start_time": "2024-09-26T15:13:11.107Z"
   },
   {
    "duration": 32,
    "start_time": "2024-09-26T15:13:11.156Z"
   },
   {
    "duration": 52,
    "start_time": "2024-09-26T15:13:11.190Z"
   },
   {
    "duration": 7,
    "start_time": "2024-09-26T15:13:11.244Z"
   },
   {
    "duration": 179,
    "start_time": "2024-09-26T15:13:11.253Z"
   },
   {
    "duration": 1368,
    "start_time": "2024-09-26T15:13:11.434Z"
   },
   {
    "duration": 395,
    "start_time": "2024-09-26T15:13:12.805Z"
   },
   {
    "duration": 5,
    "start_time": "2024-09-26T15:13:13.204Z"
   },
   {
    "duration": 3,
    "start_time": "2024-09-26T15:13:13.211Z"
   },
   {
    "duration": 25,
    "start_time": "2024-09-26T15:13:13.217Z"
   },
   {
    "duration": 3,
    "start_time": "2024-09-26T15:13:13.244Z"
   },
   {
    "duration": 97,
    "start_time": "2024-09-26T15:13:13.250Z"
   },
   {
    "duration": 508,
    "start_time": "2024-09-26T15:13:13.349Z"
   },
   {
    "duration": 0,
    "start_time": "2024-09-26T15:13:13.859Z"
   },
   {
    "duration": 3,
    "start_time": "2024-09-26T15:21:59.816Z"
   },
   {
    "duration": 266,
    "start_time": "2024-09-26T15:21:59.821Z"
   },
   {
    "duration": 174,
    "start_time": "2024-09-26T15:22:00.089Z"
   },
   {
    "duration": 3,
    "start_time": "2024-09-26T15:22:00.264Z"
   },
   {
    "duration": 43,
    "start_time": "2024-09-26T15:22:00.270Z"
   },
   {
    "duration": 39,
    "start_time": "2024-09-26T15:22:00.332Z"
   },
   {
    "duration": 60,
    "start_time": "2024-09-26T15:22:00.372Z"
   },
   {
    "duration": 9,
    "start_time": "2024-09-26T15:22:00.434Z"
   },
   {
    "duration": 205,
    "start_time": "2024-09-26T15:22:00.445Z"
   },
   {
    "duration": 1403,
    "start_time": "2024-09-26T15:22:00.652Z"
   },
   {
    "duration": 398,
    "start_time": "2024-09-26T15:22:02.057Z"
   },
   {
    "duration": 4,
    "start_time": "2024-09-26T15:22:02.459Z"
   },
   {
    "duration": 8,
    "start_time": "2024-09-26T15:22:02.465Z"
   },
   {
    "duration": 31,
    "start_time": "2024-09-26T15:22:02.476Z"
   },
   {
    "duration": 3,
    "start_time": "2024-09-26T15:22:02.509Z"
   },
   {
    "duration": 217,
    "start_time": "2024-09-26T15:22:02.531Z"
   },
   {
    "duration": 312,
    "start_time": "2024-09-26T15:22:02.750Z"
   },
   {
    "duration": 0,
    "start_time": "2024-09-26T15:22:03.064Z"
   },
   {
    "duration": 3,
    "start_time": "2024-09-26T17:33:12.114Z"
   },
   {
    "duration": 220,
    "start_time": "2024-09-26T17:33:12.119Z"
   },
   {
    "duration": 153,
    "start_time": "2024-09-26T17:33:12.341Z"
   },
   {
    "duration": 3,
    "start_time": "2024-09-26T17:33:12.495Z"
   },
   {
    "duration": 55,
    "start_time": "2024-09-26T17:33:12.501Z"
   },
   {
    "duration": 34,
    "start_time": "2024-09-26T17:33:12.557Z"
   },
   {
    "duration": 60,
    "start_time": "2024-09-26T17:33:12.593Z"
   },
   {
    "duration": 8,
    "start_time": "2024-09-26T17:33:12.655Z"
   },
   {
    "duration": 171,
    "start_time": "2024-09-26T17:33:12.665Z"
   },
   {
    "duration": 1378,
    "start_time": "2024-09-26T17:33:12.839Z"
   },
   {
    "duration": 373,
    "start_time": "2024-09-26T17:33:14.219Z"
   },
   {
    "duration": 3,
    "start_time": "2024-09-26T17:33:14.594Z"
   },
   {
    "duration": 4,
    "start_time": "2024-09-26T17:33:14.599Z"
   },
   {
    "duration": 35,
    "start_time": "2024-09-26T17:33:14.607Z"
   },
   {
    "duration": 3,
    "start_time": "2024-09-26T17:33:14.644Z"
   },
   {
    "duration": 94,
    "start_time": "2024-09-26T17:33:14.649Z"
   },
   {
    "duration": 240,
    "start_time": "2024-09-26T17:33:14.745Z"
   },
   {
    "duration": 0,
    "start_time": "2024-09-26T17:33:14.987Z"
   },
   {
    "duration": 3,
    "start_time": "2024-09-26T17:37:29.942Z"
   },
   {
    "duration": 219,
    "start_time": "2024-09-26T17:37:29.947Z"
   },
   {
    "duration": 151,
    "start_time": "2024-09-26T17:37:30.168Z"
   },
   {
    "duration": 3,
    "start_time": "2024-09-26T17:37:30.330Z"
   },
   {
    "duration": 35,
    "start_time": "2024-09-26T17:37:30.336Z"
   },
   {
    "duration": 34,
    "start_time": "2024-09-26T17:37:30.373Z"
   },
   {
    "duration": 51,
    "start_time": "2024-09-26T17:37:30.414Z"
   },
   {
    "duration": 7,
    "start_time": "2024-09-26T17:37:30.466Z"
   },
   {
    "duration": 77,
    "start_time": "2024-09-26T17:37:30.475Z"
   },
   {
    "duration": 1209,
    "start_time": "2024-09-26T17:37:30.631Z"
   },
   {
    "duration": 357,
    "start_time": "2024-09-26T17:37:31.841Z"
   },
   {
    "duration": 4,
    "start_time": "2024-09-26T17:37:32.199Z"
   },
   {
    "duration": 4,
    "start_time": "2024-09-26T17:37:32.205Z"
   },
   {
    "duration": 40,
    "start_time": "2024-09-26T17:37:32.212Z"
   },
   {
    "duration": 4,
    "start_time": "2024-09-26T17:37:32.253Z"
   },
   {
    "duration": 91,
    "start_time": "2024-09-26T17:37:32.259Z"
   },
   {
    "duration": 282,
    "start_time": "2024-09-26T17:37:32.352Z"
   },
   {
    "duration": 0,
    "start_time": "2024-09-26T17:37:32.636Z"
   },
   {
    "duration": 2,
    "start_time": "2024-09-26T17:39:33.953Z"
   },
   {
    "duration": 218,
    "start_time": "2024-09-26T17:39:33.957Z"
   },
   {
    "duration": 158,
    "start_time": "2024-09-26T17:39:34.177Z"
   },
   {
    "duration": 2,
    "start_time": "2024-09-26T17:39:34.337Z"
   },
   {
    "duration": 33,
    "start_time": "2024-09-26T17:39:34.342Z"
   },
   {
    "duration": 32,
    "start_time": "2024-09-26T17:39:34.379Z"
   },
   {
    "duration": 32,
    "start_time": "2024-09-26T17:39:34.432Z"
   },
   {
    "duration": 7,
    "start_time": "2024-09-26T17:39:34.466Z"
   },
   {
    "duration": 171,
    "start_time": "2024-09-26T17:39:34.475Z"
   },
   {
    "duration": 1309,
    "start_time": "2024-09-26T17:39:34.648Z"
   },
   {
    "duration": 374,
    "start_time": "2024-09-26T17:39:35.959Z"
   },
   {
    "duration": 3,
    "start_time": "2024-09-26T17:39:36.335Z"
   },
   {
    "duration": 3,
    "start_time": "2024-09-26T17:39:36.340Z"
   },
   {
    "duration": 20,
    "start_time": "2024-09-26T17:39:36.346Z"
   },
   {
    "duration": 3,
    "start_time": "2024-09-26T17:39:36.368Z"
   },
   {
    "duration": 81,
    "start_time": "2024-09-26T17:39:36.373Z"
   },
   {
    "duration": 276,
    "start_time": "2024-09-26T17:39:36.456Z"
   },
   {
    "duration": 0,
    "start_time": "2024-09-26T17:39:36.734Z"
   },
   {
    "duration": 22,
    "start_time": "2024-09-26T17:47:33.745Z"
   },
   {
    "duration": 38,
    "start_time": "2024-09-26T17:48:14.084Z"
   },
   {
    "duration": 3,
    "start_time": "2024-09-26T18:04:26.248Z"
   },
   {
    "duration": 217,
    "start_time": "2024-09-26T18:04:26.253Z"
   },
   {
    "duration": 159,
    "start_time": "2024-09-26T18:04:26.472Z"
   },
   {
    "duration": 3,
    "start_time": "2024-09-26T18:04:26.633Z"
   },
   {
    "duration": 36,
    "start_time": "2024-09-26T18:04:26.639Z"
   },
   {
    "duration": 59,
    "start_time": "2024-09-26T18:04:26.677Z"
   },
   {
    "duration": 33,
    "start_time": "2024-09-26T18:04:26.737Z"
   },
   {
    "duration": 7,
    "start_time": "2024-09-26T18:04:26.772Z"
   },
   {
    "duration": 148,
    "start_time": "2024-09-26T18:04:26.783Z"
   },
   {
    "duration": 1291,
    "start_time": "2024-09-26T18:04:26.933Z"
   },
   {
    "duration": 469,
    "start_time": "2024-09-26T18:04:28.231Z"
   },
   {
    "duration": 3,
    "start_time": "2024-09-26T18:04:28.702Z"
   },
   {
    "duration": 3,
    "start_time": "2024-09-26T18:04:28.707Z"
   },
   {
    "duration": 36,
    "start_time": "2024-09-26T18:04:28.713Z"
   },
   {
    "duration": 202,
    "start_time": "2024-09-26T18:04:28.751Z"
   },
   {
    "duration": 0,
    "start_time": "2024-09-26T18:04:28.955Z"
   },
   {
    "duration": 8,
    "start_time": "2024-09-26T18:09:17.649Z"
   },
   {
    "duration": 233,
    "start_time": "2024-09-26T18:09:17.659Z"
   },
   {
    "duration": 177,
    "start_time": "2024-09-26T18:09:17.894Z"
   },
   {
    "duration": 3,
    "start_time": "2024-09-26T18:09:18.073Z"
   },
   {
    "duration": 61,
    "start_time": "2024-09-26T18:09:18.079Z"
   },
   {
    "duration": 43,
    "start_time": "2024-09-26T18:09:18.142Z"
   },
   {
    "duration": 63,
    "start_time": "2024-09-26T18:09:18.187Z"
   },
   {
    "duration": 9,
    "start_time": "2024-09-26T18:09:18.252Z"
   },
   {
    "duration": 115,
    "start_time": "2024-09-26T18:09:18.263Z"
   },
   {
    "duration": 1895,
    "start_time": "2024-09-26T18:09:18.381Z"
   },
   {
    "duration": 549,
    "start_time": "2024-09-26T18:09:20.279Z"
   },
   {
    "duration": 3,
    "start_time": "2024-09-26T18:09:20.830Z"
   },
   {
    "duration": 5,
    "start_time": "2024-09-26T18:09:20.836Z"
   },
   {
    "duration": 26,
    "start_time": "2024-09-26T18:09:20.844Z"
   },
   {
    "duration": 4,
    "start_time": "2024-09-26T18:09:20.872Z"
   },
   {
    "duration": 3,
    "start_time": "2024-09-26T18:09:20.878Z"
   },
   {
    "duration": 13,
    "start_time": "2024-09-26T18:09:20.883Z"
   },
   {
    "duration": 47,
    "start_time": "2024-09-26T18:09:20.898Z"
   },
   {
    "duration": 4,
    "start_time": "2024-09-26T18:10:08.869Z"
   },
   {
    "duration": 85,
    "start_time": "2024-09-26T18:16:06.792Z"
   },
   {
    "duration": 10,
    "start_time": "2024-09-27T13:53:42.452Z"
   },
   {
    "duration": 2749,
    "start_time": "2024-09-27T13:54:11.909Z"
   },
   {
    "duration": 362,
    "start_time": "2024-09-27T13:54:14.660Z"
   },
   {
    "duration": 144,
    "start_time": "2024-09-27T13:54:15.024Z"
   },
   {
    "duration": 17,
    "start_time": "2024-09-27T13:54:15.170Z"
   },
   {
    "duration": 35,
    "start_time": "2024-09-27T13:54:15.190Z"
   },
   {
    "duration": 34,
    "start_time": "2024-09-27T13:54:15.226Z"
   },
   {
    "duration": 58,
    "start_time": "2024-09-27T13:54:15.262Z"
   },
   {
    "duration": 4,
    "start_time": "2024-09-27T13:54:15.322Z"
   },
   {
    "duration": 301,
    "start_time": "2024-09-27T13:54:15.327Z"
   },
   {
    "duration": 0,
    "start_time": "2024-09-27T13:54:15.629Z"
   },
   {
    "duration": 0,
    "start_time": "2024-09-27T13:54:15.630Z"
   },
   {
    "duration": 0,
    "start_time": "2024-09-27T13:54:15.631Z"
   },
   {
    "duration": 0,
    "start_time": "2024-09-27T13:54:15.632Z"
   },
   {
    "duration": 0,
    "start_time": "2024-09-27T13:54:15.633Z"
   },
   {
    "duration": 0,
    "start_time": "2024-09-27T13:54:15.635Z"
   },
   {
    "duration": 0,
    "start_time": "2024-09-27T13:54:15.636Z"
   },
   {
    "duration": 0,
    "start_time": "2024-09-27T13:54:15.637Z"
   },
   {
    "duration": 0,
    "start_time": "2024-09-27T13:54:15.638Z"
   },
   {
    "duration": 0,
    "start_time": "2024-09-27T13:54:15.640Z"
   },
   {
    "duration": 3,
    "start_time": "2024-09-27T14:00:31.977Z"
   },
   {
    "duration": 228,
    "start_time": "2024-09-27T14:00:31.982Z"
   },
   {
    "duration": 142,
    "start_time": "2024-09-27T14:00:32.212Z"
   },
   {
    "duration": 3,
    "start_time": "2024-09-27T14:00:32.356Z"
   },
   {
    "duration": 51,
    "start_time": "2024-09-27T14:00:32.361Z"
   },
   {
    "duration": 32,
    "start_time": "2024-09-27T14:00:32.414Z"
   },
   {
    "duration": 58,
    "start_time": "2024-09-27T14:00:32.448Z"
   },
   {
    "duration": 7,
    "start_time": "2024-09-27T14:00:32.508Z"
   },
   {
    "duration": 16,
    "start_time": "2024-09-27T14:00:32.517Z"
   },
   {
    "duration": 0,
    "start_time": "2024-09-27T14:00:32.535Z"
   },
   {
    "duration": 0,
    "start_time": "2024-09-27T14:00:32.539Z"
   },
   {
    "duration": 0,
    "start_time": "2024-09-27T14:00:32.541Z"
   },
   {
    "duration": 0,
    "start_time": "2024-09-27T14:00:32.542Z"
   },
   {
    "duration": 0,
    "start_time": "2024-09-27T14:00:32.544Z"
   },
   {
    "duration": 0,
    "start_time": "2024-09-27T14:00:32.545Z"
   },
   {
    "duration": 0,
    "start_time": "2024-09-27T14:00:32.547Z"
   },
   {
    "duration": 0,
    "start_time": "2024-09-27T14:00:32.548Z"
   },
   {
    "duration": 1,
    "start_time": "2024-09-27T14:00:32.549Z"
   },
   {
    "duration": 3,
    "start_time": "2024-09-27T14:01:20.088Z"
   },
   {
    "duration": 231,
    "start_time": "2024-09-27T14:01:20.093Z"
   },
   {
    "duration": 140,
    "start_time": "2024-09-27T14:01:20.326Z"
   },
   {
    "duration": 3,
    "start_time": "2024-09-27T14:01:20.467Z"
   },
   {
    "duration": 33,
    "start_time": "2024-09-27T14:01:20.488Z"
   },
   {
    "duration": 33,
    "start_time": "2024-09-27T14:01:20.522Z"
   },
   {
    "duration": 54,
    "start_time": "2024-09-27T14:01:20.556Z"
   },
   {
    "duration": 9,
    "start_time": "2024-09-27T14:01:20.612Z"
   },
   {
    "duration": 15,
    "start_time": "2024-09-27T14:01:20.623Z"
   },
   {
    "duration": 0,
    "start_time": "2024-09-27T14:01:20.640Z"
   },
   {
    "duration": 0,
    "start_time": "2024-09-27T14:01:20.642Z"
   },
   {
    "duration": 0,
    "start_time": "2024-09-27T14:01:20.643Z"
   },
   {
    "duration": 0,
    "start_time": "2024-09-27T14:01:20.645Z"
   },
   {
    "duration": 0,
    "start_time": "2024-09-27T14:01:20.646Z"
   },
   {
    "duration": 0,
    "start_time": "2024-09-27T14:01:20.647Z"
   },
   {
    "duration": 0,
    "start_time": "2024-09-27T14:01:20.648Z"
   },
   {
    "duration": 0,
    "start_time": "2024-09-27T14:01:20.649Z"
   },
   {
    "duration": 0,
    "start_time": "2024-09-27T14:01:20.650Z"
   },
   {
    "duration": 3,
    "start_time": "2024-09-27T14:10:46.837Z"
   },
   {
    "duration": 218,
    "start_time": "2024-09-27T14:10:46.842Z"
   },
   {
    "duration": 145,
    "start_time": "2024-09-27T14:10:47.062Z"
   },
   {
    "duration": 3,
    "start_time": "2024-09-27T14:10:47.209Z"
   },
   {
    "duration": 33,
    "start_time": "2024-09-27T14:10:47.215Z"
   },
   {
    "duration": 60,
    "start_time": "2024-09-27T14:10:47.249Z"
   },
   {
    "duration": 32,
    "start_time": "2024-09-27T14:10:47.311Z"
   },
   {
    "duration": 6,
    "start_time": "2024-09-27T14:10:47.345Z"
   },
   {
    "duration": 37,
    "start_time": "2024-09-27T14:10:47.354Z"
   },
   {
    "duration": 0,
    "start_time": "2024-09-27T14:10:47.394Z"
   },
   {
    "duration": 0,
    "start_time": "2024-09-27T14:10:47.395Z"
   },
   {
    "duration": 0,
    "start_time": "2024-09-27T14:10:47.396Z"
   },
   {
    "duration": 0,
    "start_time": "2024-09-27T14:10:47.397Z"
   },
   {
    "duration": 0,
    "start_time": "2024-09-27T14:10:47.398Z"
   },
   {
    "duration": 0,
    "start_time": "2024-09-27T14:10:47.399Z"
   },
   {
    "duration": 0,
    "start_time": "2024-09-27T14:10:47.400Z"
   },
   {
    "duration": 0,
    "start_time": "2024-09-27T14:10:47.402Z"
   },
   {
    "duration": 0,
    "start_time": "2024-09-27T14:10:47.403Z"
   },
   {
    "duration": 3,
    "start_time": "2024-09-27T14:12:16.219Z"
   },
   {
    "duration": 218,
    "start_time": "2024-09-27T14:12:16.225Z"
   },
   {
    "duration": 144,
    "start_time": "2024-09-27T14:12:16.444Z"
   },
   {
    "duration": 3,
    "start_time": "2024-09-27T14:12:16.589Z"
   },
   {
    "duration": 34,
    "start_time": "2024-09-27T14:12:16.595Z"
   },
   {
    "duration": 58,
    "start_time": "2024-09-27T14:12:16.631Z"
   },
   {
    "duration": 33,
    "start_time": "2024-09-27T14:12:16.690Z"
   },
   {
    "duration": 2,
    "start_time": "2024-09-27T14:12:16.725Z"
   },
   {
    "duration": 8,
    "start_time": "2024-09-27T14:12:16.729Z"
   },
   {
    "duration": 168,
    "start_time": "2024-09-27T14:12:16.738Z"
   },
   {
    "duration": 532,
    "start_time": "2024-09-27T14:12:16.911Z"
   },
   {
    "duration": 3,
    "start_time": "2024-09-27T14:12:17.445Z"
   },
   {
    "duration": 3,
    "start_time": "2024-09-27T14:12:17.450Z"
   },
   {
    "duration": 35,
    "start_time": "2024-09-27T14:12:17.457Z"
   },
   {
    "duration": 0,
    "start_time": "2024-09-27T14:12:17.493Z"
   },
   {
    "duration": 0,
    "start_time": "2024-09-27T14:12:17.494Z"
   },
   {
    "duration": 0,
    "start_time": "2024-09-27T14:12:17.495Z"
   },
   {
    "duration": 0,
    "start_time": "2024-09-27T14:12:17.497Z"
   },
   {
    "duration": 0,
    "start_time": "2024-09-27T14:12:17.498Z"
   },
   {
    "duration": 3,
    "start_time": "2024-09-27T14:14:51.007Z"
   },
   {
    "duration": 217,
    "start_time": "2024-09-27T14:14:51.013Z"
   },
   {
    "duration": 143,
    "start_time": "2024-09-27T14:14:51.232Z"
   },
   {
    "duration": 2,
    "start_time": "2024-09-27T14:14:51.388Z"
   },
   {
    "duration": 34,
    "start_time": "2024-09-27T14:14:51.392Z"
   },
   {
    "duration": 34,
    "start_time": "2024-09-27T14:14:51.427Z"
   },
   {
    "duration": 33,
    "start_time": "2024-09-27T14:14:51.487Z"
   },
   {
    "duration": 6,
    "start_time": "2024-09-27T14:14:51.522Z"
   },
   {
    "duration": 80,
    "start_time": "2024-09-27T14:14:51.530Z"
   },
   {
    "duration": 6,
    "start_time": "2024-09-27T14:14:51.689Z"
   },
   {
    "duration": 0,
    "start_time": "2024-09-27T14:14:51.697Z"
   },
   {
    "duration": 0,
    "start_time": "2024-09-27T14:14:51.698Z"
   },
   {
    "duration": 0,
    "start_time": "2024-09-27T14:14:51.699Z"
   },
   {
    "duration": 0,
    "start_time": "2024-09-27T14:14:51.700Z"
   },
   {
    "duration": 0,
    "start_time": "2024-09-27T14:14:51.701Z"
   },
   {
    "duration": 0,
    "start_time": "2024-09-27T14:14:51.702Z"
   },
   {
    "duration": 0,
    "start_time": "2024-09-27T14:14:51.704Z"
   },
   {
    "duration": 0,
    "start_time": "2024-09-27T14:14:51.707Z"
   },
   {
    "duration": 0,
    "start_time": "2024-09-27T14:14:51.709Z"
   },
   {
    "duration": 2,
    "start_time": "2024-09-27T14:15:14.959Z"
   },
   {
    "duration": 221,
    "start_time": "2024-09-27T14:15:14.963Z"
   },
   {
    "duration": 141,
    "start_time": "2024-09-27T14:15:15.187Z"
   },
   {
    "duration": 4,
    "start_time": "2024-09-27T14:15:15.330Z"
   },
   {
    "duration": 52,
    "start_time": "2024-09-27T14:15:15.336Z"
   },
   {
    "duration": 33,
    "start_time": "2024-09-27T14:15:15.389Z"
   },
   {
    "duration": 34,
    "start_time": "2024-09-27T14:15:15.424Z"
   },
   {
    "duration": 31,
    "start_time": "2024-09-27T14:15:15.460Z"
   },
   {
    "duration": 104,
    "start_time": "2024-09-27T14:15:15.493Z"
   },
   {
    "duration": 6,
    "start_time": "2024-09-27T14:15:15.601Z"
   },
   {
    "duration": 459,
    "start_time": "2024-09-27T14:15:15.610Z"
   },
   {
    "duration": 3,
    "start_time": "2024-09-27T14:15:16.071Z"
   },
   {
    "duration": 12,
    "start_time": "2024-09-27T14:15:16.076Z"
   },
   {
    "duration": 16,
    "start_time": "2024-09-27T14:15:16.092Z"
   },
   {
    "duration": 0,
    "start_time": "2024-09-27T14:15:16.110Z"
   },
   {
    "duration": 0,
    "start_time": "2024-09-27T14:15:16.111Z"
   },
   {
    "duration": 0,
    "start_time": "2024-09-27T14:15:16.112Z"
   },
   {
    "duration": 0,
    "start_time": "2024-09-27T14:15:16.113Z"
   },
   {
    "duration": 0,
    "start_time": "2024-09-27T14:15:16.114Z"
   },
   {
    "duration": 2,
    "start_time": "2024-09-27T14:17:49.363Z"
   },
   {
    "duration": 218,
    "start_time": "2024-09-27T14:17:49.368Z"
   },
   {
    "duration": 142,
    "start_time": "2024-09-27T14:17:49.587Z"
   },
   {
    "duration": 2,
    "start_time": "2024-09-27T14:17:49.732Z"
   },
   {
    "duration": 51,
    "start_time": "2024-09-27T14:17:49.736Z"
   },
   {
    "duration": 31,
    "start_time": "2024-09-27T14:17:49.789Z"
   },
   {
    "duration": 32,
    "start_time": "2024-09-27T14:17:49.822Z"
   },
   {
    "duration": 7,
    "start_time": "2024-09-27T14:17:49.856Z"
   },
   {
    "duration": 102,
    "start_time": "2024-09-27T14:17:49.888Z"
   },
   {
    "duration": 446,
    "start_time": "2024-09-27T14:17:49.993Z"
   },
   {
    "duration": 3,
    "start_time": "2024-09-27T14:17:50.441Z"
   },
   {
    "duration": 3,
    "start_time": "2024-09-27T14:17:50.446Z"
   },
   {
    "duration": 35,
    "start_time": "2024-09-27T14:17:50.452Z"
   },
   {
    "duration": 0,
    "start_time": "2024-09-27T14:17:50.488Z"
   },
   {
    "duration": 0,
    "start_time": "2024-09-27T14:17:50.489Z"
   },
   {
    "duration": 0,
    "start_time": "2024-09-27T14:17:50.490Z"
   },
   {
    "duration": 0,
    "start_time": "2024-09-27T14:17:50.491Z"
   },
   {
    "duration": 0,
    "start_time": "2024-09-27T14:17:50.492Z"
   },
   {
    "duration": 2,
    "start_time": "2024-09-27T14:19:16.006Z"
   },
   {
    "duration": 215,
    "start_time": "2024-09-27T14:19:16.011Z"
   },
   {
    "duration": 137,
    "start_time": "2024-09-27T14:19:16.228Z"
   },
   {
    "duration": 2,
    "start_time": "2024-09-27T14:19:16.367Z"
   },
   {
    "duration": 34,
    "start_time": "2024-09-27T14:19:16.388Z"
   },
   {
    "duration": 33,
    "start_time": "2024-09-27T14:19:16.423Z"
   },
   {
    "duration": 52,
    "start_time": "2024-09-27T14:19:16.458Z"
   },
   {
    "duration": 6,
    "start_time": "2024-09-27T14:19:16.512Z"
   },
   {
    "duration": 82,
    "start_time": "2024-09-27T14:19:16.520Z"
   },
   {
    "duration": 464,
    "start_time": "2024-09-27T14:19:16.604Z"
   },
   {
    "duration": 3,
    "start_time": "2024-09-27T14:19:17.070Z"
   },
   {
    "duration": 4,
    "start_time": "2024-09-27T14:19:17.074Z"
   },
   {
    "duration": 2,
    "start_time": "2024-09-27T14:19:17.088Z"
   },
   {
    "duration": 25,
    "start_time": "2024-09-27T14:19:17.093Z"
   },
   {
    "duration": 4,
    "start_time": "2024-09-27T14:19:17.120Z"
   },
   {
    "duration": 3,
    "start_time": "2024-09-27T14:19:17.126Z"
   },
   {
    "duration": 16,
    "start_time": "2024-09-27T14:19:17.130Z"
   },
   {
    "duration": 0,
    "start_time": "2024-09-27T14:19:17.148Z"
   },
   {
    "duration": 0,
    "start_time": "2024-09-27T14:19:17.149Z"
   },
   {
    "duration": 2618,
    "start_time": "2024-09-30T11:16:52.813Z"
   },
   {
    "duration": 311,
    "start_time": "2024-09-30T11:16:55.433Z"
   },
   {
    "duration": 136,
    "start_time": "2024-09-30T11:16:55.746Z"
   },
   {
    "duration": 3,
    "start_time": "2024-09-30T11:16:55.885Z"
   },
   {
    "duration": 50,
    "start_time": "2024-09-30T11:16:55.889Z"
   },
   {
    "duration": 30,
    "start_time": "2024-09-30T11:16:55.941Z"
   },
   {
    "duration": 53,
    "start_time": "2024-09-30T11:16:55.972Z"
   },
   {
    "duration": 8,
    "start_time": "2024-09-30T11:16:56.028Z"
   },
   {
    "duration": 280,
    "start_time": "2024-09-30T11:16:56.038Z"
   },
   {
    "duration": 0,
    "start_time": "2024-09-30T11:16:56.321Z"
   },
   {
    "duration": 0,
    "start_time": "2024-09-30T11:16:56.322Z"
   },
   {
    "duration": 0,
    "start_time": "2024-09-30T11:16:56.324Z"
   },
   {
    "duration": 0,
    "start_time": "2024-09-30T11:16:56.325Z"
   },
   {
    "duration": 0,
    "start_time": "2024-09-30T11:16:56.326Z"
   },
   {
    "duration": 1,
    "start_time": "2024-09-30T11:16:56.327Z"
   },
   {
    "duration": 0,
    "start_time": "2024-09-30T11:16:56.328Z"
   },
   {
    "duration": 3,
    "start_time": "2024-09-30T11:19:01.384Z"
   },
   {
    "duration": 237,
    "start_time": "2024-09-30T11:19:01.391Z"
   },
   {
    "duration": 146,
    "start_time": "2024-09-30T11:19:01.630Z"
   },
   {
    "duration": 3,
    "start_time": "2024-09-30T11:19:01.777Z"
   },
   {
    "duration": 48,
    "start_time": "2024-09-30T11:19:01.781Z"
   },
   {
    "duration": 31,
    "start_time": "2024-09-30T11:19:01.831Z"
   },
   {
    "duration": 57,
    "start_time": "2024-09-30T11:19:01.864Z"
   },
   {
    "duration": 184,
    "start_time": "2024-09-30T11:19:01.922Z"
   },
   {
    "duration": 466,
    "start_time": "2024-09-30T11:19:02.108Z"
   },
   {
    "duration": 3,
    "start_time": "2024-09-30T11:19:02.576Z"
   },
   {
    "duration": 4,
    "start_time": "2024-09-30T11:19:02.580Z"
   },
   {
    "duration": 3,
    "start_time": "2024-09-30T11:19:02.585Z"
   },
   {
    "duration": 28,
    "start_time": "2024-09-30T11:19:02.605Z"
   },
   {
    "duration": 24,
    "start_time": "2024-09-30T11:19:02.635Z"
   },
   {
    "duration": 0,
    "start_time": "2024-09-30T11:19:02.660Z"
   },
   {
    "duration": 3,
    "start_time": "2024-09-30T11:21:27.197Z"
   },
   {
    "duration": 216,
    "start_time": "2024-09-30T11:21:27.202Z"
   },
   {
    "duration": 135,
    "start_time": "2024-09-30T11:21:27.420Z"
   },
   {
    "duration": 3,
    "start_time": "2024-09-30T11:21:27.556Z"
   },
   {
    "duration": 49,
    "start_time": "2024-09-30T11:21:27.561Z"
   },
   {
    "duration": 32,
    "start_time": "2024-09-30T11:21:27.611Z"
   },
   {
    "duration": 32,
    "start_time": "2024-09-30T11:21:27.645Z"
   },
   {
    "duration": 130,
    "start_time": "2024-09-30T11:21:27.678Z"
   },
   {
    "duration": 457,
    "start_time": "2024-09-30T11:21:27.810Z"
   },
   {
    "duration": 2,
    "start_time": "2024-09-30T11:21:28.269Z"
   },
   {
    "duration": 4,
    "start_time": "2024-09-30T11:21:28.273Z"
   },
   {
    "duration": 4,
    "start_time": "2024-09-30T11:21:28.279Z"
   },
   {
    "duration": 41,
    "start_time": "2024-09-30T11:21:28.285Z"
   },
   {
    "duration": 11,
    "start_time": "2024-09-30T11:21:28.329Z"
   },
   {
    "duration": 34,
    "start_time": "2024-09-30T11:21:28.341Z"
   },
   {
    "duration": 2769,
    "start_time": "2024-09-30T12:27:39.231Z"
   },
   {
    "duration": 326,
    "start_time": "2024-09-30T12:27:42.002Z"
   },
   {
    "duration": 146,
    "start_time": "2024-09-30T12:27:42.330Z"
   },
   {
    "duration": 3,
    "start_time": "2024-09-30T12:27:42.487Z"
   },
   {
    "duration": 38,
    "start_time": "2024-09-30T12:27:42.494Z"
   },
   {
    "duration": 61,
    "start_time": "2024-09-30T12:27:42.534Z"
   },
   {
    "duration": 32,
    "start_time": "2024-09-30T12:27:42.597Z"
   },
   {
    "duration": 163,
    "start_time": "2024-09-30T12:27:42.631Z"
   },
   {
    "duration": 480,
    "start_time": "2024-09-30T12:27:42.796Z"
   },
   {
    "duration": 3,
    "start_time": "2024-09-30T12:27:43.278Z"
   },
   {
    "duration": 7,
    "start_time": "2024-09-30T12:27:43.282Z"
   },
   {
    "duration": 3,
    "start_time": "2024-09-30T12:27:43.290Z"
   },
   {
    "duration": 28,
    "start_time": "2024-09-30T12:27:43.295Z"
   },
   {
    "duration": 11,
    "start_time": "2024-09-30T12:27:43.325Z"
   },
   {
    "duration": 6,
    "start_time": "2024-09-30T12:27:43.338Z"
   },
   {
    "duration": 7,
    "start_time": "2024-09-30T12:29:15.959Z"
   },
   {
    "duration": 330,
    "start_time": "2024-09-30T12:34:47.630Z"
   },
   {
    "duration": 3,
    "start_time": "2024-09-30T12:34:53.411Z"
   },
   {
    "duration": 235,
    "start_time": "2024-09-30T12:34:53.416Z"
   },
   {
    "duration": 164,
    "start_time": "2024-09-30T12:34:53.653Z"
   },
   {
    "duration": 3,
    "start_time": "2024-09-30T12:34:53.819Z"
   },
   {
    "duration": 37,
    "start_time": "2024-09-30T12:34:53.824Z"
   },
   {
    "duration": 54,
    "start_time": "2024-09-30T12:34:53.863Z"
   },
   {
    "duration": 36,
    "start_time": "2024-09-30T12:34:53.919Z"
   },
   {
    "duration": 138,
    "start_time": "2024-09-30T12:34:53.956Z"
   },
   {
    "duration": 464,
    "start_time": "2024-09-30T12:34:54.095Z"
   },
   {
    "duration": 4,
    "start_time": "2024-09-30T12:34:54.561Z"
   },
   {
    "duration": 4,
    "start_time": "2024-09-30T12:34:54.566Z"
   },
   {
    "duration": 6,
    "start_time": "2024-09-30T12:34:54.586Z"
   },
   {
    "duration": 27,
    "start_time": "2024-09-30T12:34:54.594Z"
   },
   {
    "duration": 11,
    "start_time": "2024-09-30T12:34:54.624Z"
   },
   {
    "duration": 7,
    "start_time": "2024-09-30T12:34:54.637Z"
   },
   {
    "duration": 61,
    "start_time": "2024-09-30T12:34:54.647Z"
   },
   {
    "duration": 3,
    "start_time": "2024-09-30T12:36:00.391Z"
   },
   {
    "duration": 209,
    "start_time": "2024-09-30T12:36:00.431Z"
   },
   {
    "duration": 148,
    "start_time": "2024-09-30T12:36:00.643Z"
   },
   {
    "duration": 3,
    "start_time": "2024-09-30T12:36:00.793Z"
   },
   {
    "duration": 34,
    "start_time": "2024-09-30T12:36:00.798Z"
   },
   {
    "duration": 58,
    "start_time": "2024-09-30T12:36:00.834Z"
   },
   {
    "duration": 33,
    "start_time": "2024-09-30T12:36:00.893Z"
   },
   {
    "duration": 74,
    "start_time": "2024-09-30T12:36:00.928Z"
   },
   {
    "duration": 504,
    "start_time": "2024-09-30T12:36:01.005Z"
   },
   {
    "duration": 3,
    "start_time": "2024-09-30T12:36:01.511Z"
   },
   {
    "duration": 3,
    "start_time": "2024-09-30T12:36:01.516Z"
   },
   {
    "duration": 6,
    "start_time": "2024-09-30T12:36:01.521Z"
   },
   {
    "duration": 23,
    "start_time": "2024-09-30T12:36:01.529Z"
   },
   {
    "duration": 38,
    "start_time": "2024-09-30T12:36:01.554Z"
   },
   {
    "duration": 5,
    "start_time": "2024-09-30T12:36:01.595Z"
   },
   {
    "duration": 28,
    "start_time": "2024-09-30T12:36:01.602Z"
   },
   {
    "duration": 3,
    "start_time": "2024-09-30T12:37:18.508Z"
   },
   {
    "duration": 209,
    "start_time": "2024-09-30T12:37:18.513Z"
   },
   {
    "duration": 139,
    "start_time": "2024-09-30T12:37:18.724Z"
   },
   {
    "duration": 3,
    "start_time": "2024-09-30T12:37:18.864Z"
   },
   {
    "duration": 47,
    "start_time": "2024-09-30T12:37:18.870Z"
   },
   {
    "duration": 33,
    "start_time": "2024-09-30T12:37:18.918Z"
   },
   {
    "duration": 55,
    "start_time": "2024-09-30T12:37:18.953Z"
   },
   {
    "duration": 92,
    "start_time": "2024-09-30T12:37:19.010Z"
   },
   {
    "duration": 507,
    "start_time": "2024-09-30T12:37:19.104Z"
   },
   {
    "duration": 3,
    "start_time": "2024-09-30T12:37:19.613Z"
   },
   {
    "duration": 4,
    "start_time": "2024-09-30T12:37:19.617Z"
   },
   {
    "duration": 5,
    "start_time": "2024-09-30T12:37:19.623Z"
   },
   {
    "duration": 22,
    "start_time": "2024-09-30T12:37:19.630Z"
   },
   {
    "duration": 36,
    "start_time": "2024-09-30T12:37:19.655Z"
   },
   {
    "duration": 5,
    "start_time": "2024-09-30T12:37:19.693Z"
   },
   {
    "duration": 6,
    "start_time": "2024-09-30T12:37:19.700Z"
   },
   {
    "duration": 94,
    "start_time": "2024-09-30T12:37:19.708Z"
   },
   {
    "duration": 3,
    "start_time": "2024-09-30T12:40:52.516Z"
   },
   {
    "duration": 213,
    "start_time": "2024-09-30T12:40:52.520Z"
   },
   {
    "duration": 141,
    "start_time": "2024-09-30T12:40:52.735Z"
   },
   {
    "duration": 3,
    "start_time": "2024-09-30T12:40:52.887Z"
   },
   {
    "duration": 34,
    "start_time": "2024-09-30T12:40:52.893Z"
   },
   {
    "duration": 59,
    "start_time": "2024-09-30T12:40:52.929Z"
   },
   {
    "duration": 32,
    "start_time": "2024-09-30T12:40:52.990Z"
   },
   {
    "duration": 162,
    "start_time": "2024-09-30T12:40:53.024Z"
   },
   {
    "duration": 448,
    "start_time": "2024-09-30T12:40:53.190Z"
   },
   {
    "duration": 3,
    "start_time": "2024-09-30T12:40:53.640Z"
   },
   {
    "duration": 3,
    "start_time": "2024-09-30T12:40:53.645Z"
   },
   {
    "duration": 4,
    "start_time": "2024-09-30T12:40:53.650Z"
   },
   {
    "duration": 48,
    "start_time": "2024-09-30T12:40:53.656Z"
   },
   {
    "duration": 11,
    "start_time": "2024-09-30T12:40:53.706Z"
   },
   {
    "duration": 5,
    "start_time": "2024-09-30T12:40:53.719Z"
   },
   {
    "duration": 6,
    "start_time": "2024-09-30T12:40:53.726Z"
   },
   {
    "duration": 94,
    "start_time": "2024-09-30T12:40:53.734Z"
   },
   {
    "duration": 3,
    "start_time": "2024-09-30T12:54:39.973Z"
   },
   {
    "duration": 218,
    "start_time": "2024-09-30T12:54:39.978Z"
   },
   {
    "duration": 148,
    "start_time": "2024-09-30T12:54:40.197Z"
   },
   {
    "duration": 3,
    "start_time": "2024-09-30T12:54:40.347Z"
   },
   {
    "duration": 55,
    "start_time": "2024-09-30T12:54:40.352Z"
   },
   {
    "duration": 35,
    "start_time": "2024-09-30T12:54:40.409Z"
   },
   {
    "duration": 61,
    "start_time": "2024-09-30T12:54:40.446Z"
   },
   {
    "duration": 95,
    "start_time": "2024-09-30T12:54:40.509Z"
   },
   {
    "duration": 600,
    "start_time": "2024-09-30T12:54:40.606Z"
   },
   {
    "duration": 3,
    "start_time": "2024-09-30T12:54:41.208Z"
   },
   {
    "duration": 3,
    "start_time": "2024-09-30T12:54:41.213Z"
   },
   {
    "duration": 6,
    "start_time": "2024-09-30T12:54:41.218Z"
   },
   {
    "duration": 23,
    "start_time": "2024-09-30T12:54:41.226Z"
   },
   {
    "duration": 40,
    "start_time": "2024-09-30T12:54:41.253Z"
   },
   {
    "duration": 6,
    "start_time": "2024-09-30T12:54:41.294Z"
   },
   {
    "duration": 5,
    "start_time": "2024-09-30T12:54:41.301Z"
   },
   {
    "duration": 39,
    "start_time": "2024-09-30T12:54:41.307Z"
   },
   {
    "duration": 3,
    "start_time": "2024-09-30T12:54:59.378Z"
   },
   {
    "duration": 222,
    "start_time": "2024-09-30T12:54:59.383Z"
   },
   {
    "duration": 162,
    "start_time": "2024-09-30T12:54:59.607Z"
   },
   {
    "duration": 16,
    "start_time": "2024-09-30T12:54:59.771Z"
   },
   {
    "duration": 37,
    "start_time": "2024-09-30T12:54:59.791Z"
   },
   {
    "duration": 63,
    "start_time": "2024-09-30T12:54:59.830Z"
   },
   {
    "duration": 39,
    "start_time": "2024-09-30T12:54:59.895Z"
   },
   {
    "duration": 68,
    "start_time": "2024-09-30T12:54:59.937Z"
   },
   {
    "duration": 523,
    "start_time": "2024-09-30T12:55:00.007Z"
   },
   {
    "duration": 3,
    "start_time": "2024-09-30T12:55:00.532Z"
   },
   {
    "duration": 4,
    "start_time": "2024-09-30T12:55:00.537Z"
   },
   {
    "duration": 5,
    "start_time": "2024-09-30T12:55:00.543Z"
   },
   {
    "duration": 45,
    "start_time": "2024-09-30T12:55:00.550Z"
   },
   {
    "duration": 11,
    "start_time": "2024-09-30T12:55:00.598Z"
   },
   {
    "duration": 5,
    "start_time": "2024-09-30T12:55:00.611Z"
   },
   {
    "duration": 5,
    "start_time": "2024-09-30T12:55:00.619Z"
   },
   {
    "duration": 2,
    "start_time": "2024-09-30T12:57:43.935Z"
   },
   {
    "duration": 223,
    "start_time": "2024-09-30T12:57:43.939Z"
   },
   {
    "duration": 151,
    "start_time": "2024-09-30T12:57:44.163Z"
   },
   {
    "duration": 2,
    "start_time": "2024-09-30T12:57:44.316Z"
   },
   {
    "duration": 33,
    "start_time": "2024-09-30T12:57:44.322Z"
   },
   {
    "duration": 53,
    "start_time": "2024-09-30T12:57:44.357Z"
   },
   {
    "duration": 32,
    "start_time": "2024-09-30T12:57:44.412Z"
   },
   {
    "duration": 146,
    "start_time": "2024-09-30T12:57:44.446Z"
   },
   {
    "duration": 451,
    "start_time": "2024-09-30T12:57:44.597Z"
   },
   {
    "duration": 3,
    "start_time": "2024-09-30T12:57:45.050Z"
   },
   {
    "duration": 4,
    "start_time": "2024-09-30T12:57:45.055Z"
   },
   {
    "duration": 5,
    "start_time": "2024-09-30T12:57:45.061Z"
   },
   {
    "duration": 41,
    "start_time": "2024-09-30T12:57:45.067Z"
   },
   {
    "duration": 10,
    "start_time": "2024-09-30T12:57:45.111Z"
   },
   {
    "duration": 70,
    "start_time": "2024-09-30T12:57:45.123Z"
   },
   {
    "duration": 79,
    "start_time": "2024-09-30T12:59:24.490Z"
   },
   {
    "duration": 11,
    "start_time": "2024-09-30T16:18:55.153Z"
   },
   {
    "duration": 160,
    "start_time": "2024-09-30T20:15:11.404Z"
   },
   {
    "duration": 18,
    "start_time": "2024-09-30T20:15:25.174Z"
   },
   {
    "duration": 2581,
    "start_time": "2024-09-30T20:15:28.804Z"
   },
   {
    "duration": 380,
    "start_time": "2024-09-30T20:15:31.388Z"
   },
   {
    "duration": 146,
    "start_time": "2024-09-30T20:15:31.770Z"
   },
   {
    "duration": 3,
    "start_time": "2024-09-30T20:15:31.917Z"
   },
   {
    "duration": 35,
    "start_time": "2024-09-30T20:15:31.923Z"
   },
   {
    "duration": 52,
    "start_time": "2024-09-30T20:15:31.960Z"
   },
   {
    "duration": 32,
    "start_time": "2024-09-30T20:15:32.014Z"
   },
   {
    "duration": 163,
    "start_time": "2024-09-30T20:15:32.048Z"
   },
   {
    "duration": 470,
    "start_time": "2024-09-30T20:15:32.213Z"
   },
   {
    "duration": 2,
    "start_time": "2024-09-30T20:15:32.685Z"
   },
   {
    "duration": 4,
    "start_time": "2024-09-30T20:15:32.689Z"
   },
   {
    "duration": 3,
    "start_time": "2024-09-30T20:15:32.706Z"
   },
   {
    "duration": 24,
    "start_time": "2024-09-30T20:15:32.711Z"
   },
   {
    "duration": 10,
    "start_time": "2024-09-30T20:15:32.738Z"
   },
   {
    "duration": 92,
    "start_time": "2024-09-30T20:15:32.749Z"
   },
   {
    "duration": 3,
    "start_time": "2024-09-30T20:15:49.300Z"
   },
   {
    "duration": 217,
    "start_time": "2024-09-30T20:15:49.305Z"
   },
   {
    "duration": 137,
    "start_time": "2024-09-30T20:15:49.524Z"
   },
   {
    "duration": 3,
    "start_time": "2024-09-30T20:15:49.662Z"
   },
   {
    "duration": 53,
    "start_time": "2024-09-30T20:15:49.668Z"
   },
   {
    "duration": 31,
    "start_time": "2024-09-30T20:15:49.723Z"
   },
   {
    "duration": 51,
    "start_time": "2024-09-30T20:15:49.756Z"
   },
   {
    "duration": 98,
    "start_time": "2024-09-30T20:15:49.809Z"
   },
   {
    "duration": 443,
    "start_time": "2024-09-30T20:15:49.910Z"
   },
   {
    "duration": 3,
    "start_time": "2024-09-30T20:15:50.354Z"
   },
   {
    "duration": 3,
    "start_time": "2024-09-30T20:15:50.359Z"
   },
   {
    "duration": 5,
    "start_time": "2024-09-30T20:15:50.364Z"
   },
   {
    "duration": 38,
    "start_time": "2024-09-30T20:15:50.371Z"
   },
   {
    "duration": 108,
    "start_time": "2024-09-30T20:15:50.413Z"
   },
   {
    "duration": 0,
    "start_time": "2024-09-30T20:15:50.523Z"
   },
   {
    "duration": 3,
    "start_time": "2024-09-30T20:18:23.757Z"
   },
   {
    "duration": 216,
    "start_time": "2024-09-30T20:18:23.764Z"
   },
   {
    "duration": 139,
    "start_time": "2024-09-30T20:18:23.981Z"
   },
   {
    "duration": 2,
    "start_time": "2024-09-30T20:18:24.122Z"
   },
   {
    "duration": 39,
    "start_time": "2024-09-30T20:18:24.126Z"
   },
   {
    "duration": 56,
    "start_time": "2024-09-30T20:18:24.169Z"
   },
   {
    "duration": 31,
    "start_time": "2024-09-30T20:18:24.227Z"
   },
   {
    "duration": 63,
    "start_time": "2024-09-30T20:18:24.259Z"
   },
   {
    "duration": 489,
    "start_time": "2024-09-30T20:18:24.324Z"
   },
   {
    "duration": 3,
    "start_time": "2024-09-30T20:18:24.814Z"
   },
   {
    "duration": 3,
    "start_time": "2024-09-30T20:18:24.819Z"
   },
   {
    "duration": 6,
    "start_time": "2024-09-30T20:18:24.824Z"
   },
   {
    "duration": 22,
    "start_time": "2024-09-30T20:18:24.831Z"
   },
   {
    "duration": 13,
    "start_time": "2024-09-30T20:18:24.855Z"
   },
   {
    "duration": 93,
    "start_time": "2024-09-30T20:18:24.870Z"
   },
   {
    "duration": 25,
    "start_time": "2024-09-30T20:18:47.934Z"
   },
   {
    "duration": 2,
    "start_time": "2024-09-30T20:20:26.359Z"
   },
   {
    "duration": 213,
    "start_time": "2024-09-30T20:20:26.371Z"
   },
   {
    "duration": 137,
    "start_time": "2024-09-30T20:20:26.586Z"
   },
   {
    "duration": 3,
    "start_time": "2024-09-30T20:20:26.725Z"
   },
   {
    "duration": 34,
    "start_time": "2024-09-30T20:20:26.729Z"
   },
   {
    "duration": 54,
    "start_time": "2024-09-30T20:20:26.765Z"
   },
   {
    "duration": 31,
    "start_time": "2024-09-30T20:20:26.821Z"
   },
   {
    "duration": 75,
    "start_time": "2024-09-30T20:20:26.853Z"
   },
   {
    "duration": 455,
    "start_time": "2024-09-30T20:20:27.006Z"
   },
   {
    "duration": 2,
    "start_time": "2024-09-30T20:20:27.463Z"
   },
   {
    "duration": 3,
    "start_time": "2024-09-30T20:20:27.467Z"
   },
   {
    "duration": 7,
    "start_time": "2024-09-30T20:20:27.472Z"
   },
   {
    "duration": 38,
    "start_time": "2024-09-30T20:20:27.480Z"
   },
   {
    "duration": 27,
    "start_time": "2024-09-30T20:20:27.520Z"
   },
   {
    "duration": 0,
    "start_time": "2024-09-30T20:20:27.549Z"
   },
   {
    "duration": 2,
    "start_time": "2024-09-30T20:20:59.281Z"
   },
   {
    "duration": 207,
    "start_time": "2024-09-30T20:20:59.286Z"
   },
   {
    "duration": 135,
    "start_time": "2024-09-30T20:20:59.495Z"
   },
   {
    "duration": 3,
    "start_time": "2024-09-30T20:20:59.632Z"
   },
   {
    "duration": 32,
    "start_time": "2024-09-30T20:20:59.637Z"
   },
   {
    "duration": 52,
    "start_time": "2024-09-30T20:20:59.670Z"
   },
   {
    "duration": 32,
    "start_time": "2024-09-30T20:20:59.723Z"
   },
   {
    "duration": 66,
    "start_time": "2024-09-30T20:20:59.756Z"
   },
   {
    "duration": 550,
    "start_time": "2024-09-30T20:20:59.824Z"
   },
   {
    "duration": 4,
    "start_time": "2024-09-30T20:21:00.376Z"
   },
   {
    "duration": 3,
    "start_time": "2024-09-30T20:21:00.384Z"
   },
   {
    "duration": 4,
    "start_time": "2024-09-30T20:21:00.405Z"
   },
   {
    "duration": 22,
    "start_time": "2024-09-30T20:21:00.411Z"
   },
   {
    "duration": 20,
    "start_time": "2024-09-30T20:21:00.435Z"
   },
   {
    "duration": 0,
    "start_time": "2024-09-30T20:21:00.457Z"
   },
   {
    "duration": 25,
    "start_time": "2024-09-30T20:21:47.317Z"
   },
   {
    "duration": 11,
    "start_time": "2024-09-30T20:23:00.522Z"
   },
   {
    "duration": 2,
    "start_time": "2024-09-30T20:47:30.090Z"
   },
   {
    "duration": 206,
    "start_time": "2024-09-30T20:47:30.094Z"
   },
   {
    "duration": 138,
    "start_time": "2024-09-30T20:47:30.302Z"
   },
   {
    "duration": 3,
    "start_time": "2024-09-30T20:47:30.441Z"
   },
   {
    "duration": 33,
    "start_time": "2024-09-30T20:47:30.446Z"
   },
   {
    "duration": 54,
    "start_time": "2024-09-30T20:47:30.481Z"
   },
   {
    "duration": 32,
    "start_time": "2024-09-30T20:47:30.536Z"
   },
   {
    "duration": 142,
    "start_time": "2024-09-30T20:47:30.569Z"
   },
   {
    "duration": 458,
    "start_time": "2024-09-30T20:47:30.714Z"
   },
   {
    "duration": 2,
    "start_time": "2024-09-30T20:47:31.174Z"
   },
   {
    "duration": 4,
    "start_time": "2024-09-30T20:47:31.178Z"
   },
   {
    "duration": 5,
    "start_time": "2024-09-30T20:47:31.184Z"
   },
   {
    "duration": 24,
    "start_time": "2024-09-30T20:47:31.205Z"
   },
   {
    "duration": 12,
    "start_time": "2024-09-30T20:47:31.231Z"
   },
   {
    "duration": 82,
    "start_time": "2024-09-30T20:47:31.244Z"
   },
   {
    "duration": 3,
    "start_time": "2024-09-30T20:48:47.022Z"
   },
   {
    "duration": 211,
    "start_time": "2024-09-30T20:48:47.027Z"
   },
   {
    "duration": 132,
    "start_time": "2024-09-30T20:48:47.240Z"
   },
   {
    "duration": 3,
    "start_time": "2024-09-30T20:48:47.375Z"
   },
   {
    "duration": 47,
    "start_time": "2024-09-30T20:48:47.381Z"
   },
   {
    "duration": 31,
    "start_time": "2024-09-30T20:48:47.429Z"
   },
   {
    "duration": 51,
    "start_time": "2024-09-30T20:48:47.461Z"
   },
   {
    "duration": 97,
    "start_time": "2024-09-30T20:48:47.513Z"
   },
   {
    "duration": 468,
    "start_time": "2024-09-30T20:48:47.612Z"
   },
   {
    "duration": 3,
    "start_time": "2024-09-30T20:48:48.082Z"
   },
   {
    "duration": 4,
    "start_time": "2024-09-30T20:48:48.088Z"
   },
   {
    "duration": 5,
    "start_time": "2024-09-30T20:48:48.106Z"
   },
   {
    "duration": 27,
    "start_time": "2024-09-30T20:48:48.113Z"
   },
   {
    "duration": 12,
    "start_time": "2024-09-30T20:48:48.142Z"
   },
   {
    "duration": 1888,
    "start_time": "2024-09-30T20:48:48.155Z"
   },
   {
    "duration": 4,
    "start_time": "2024-09-30T20:54:06.464Z"
   },
   {
    "duration": 226,
    "start_time": "2024-09-30T20:54:06.470Z"
   },
   {
    "duration": 146,
    "start_time": "2024-09-30T20:54:06.698Z"
   },
   {
    "duration": 2,
    "start_time": "2024-09-30T20:54:06.847Z"
   },
   {
    "duration": 53,
    "start_time": "2024-09-30T20:54:06.853Z"
   },
   {
    "duration": 30,
    "start_time": "2024-09-30T20:54:06.907Z"
   },
   {
    "duration": 31,
    "start_time": "2024-09-30T20:54:06.939Z"
   },
   {
    "duration": 141,
    "start_time": "2024-09-30T20:54:06.972Z"
   },
   {
    "duration": 456,
    "start_time": "2024-09-30T20:54:07.116Z"
   },
   {
    "duration": 2,
    "start_time": "2024-09-30T20:54:07.574Z"
   },
   {
    "duration": 4,
    "start_time": "2024-09-30T20:54:07.578Z"
   },
   {
    "duration": 4,
    "start_time": "2024-09-30T20:54:07.584Z"
   },
   {
    "duration": 37,
    "start_time": "2024-09-30T20:54:07.589Z"
   },
   {
    "duration": 11,
    "start_time": "2024-09-30T20:54:07.630Z"
   },
   {
    "duration": 136,
    "start_time": "2024-09-30T20:54:07.644Z"
   },
   {
    "duration": 127,
    "start_time": "2024-09-30T21:00:35.676Z"
   },
   {
    "duration": 122,
    "start_time": "2024-09-30T21:01:10.428Z"
   },
   {
    "duration": 116,
    "start_time": "2024-09-30T21:05:18.831Z"
   },
   {
    "duration": 2649,
    "start_time": "2024-10-01T14:49:50.852Z"
   },
   {
    "duration": 352,
    "start_time": "2024-10-01T14:49:53.503Z"
   },
   {
    "duration": 144,
    "start_time": "2024-10-01T14:49:53.857Z"
   },
   {
    "duration": 3,
    "start_time": "2024-10-01T14:49:54.003Z"
   },
   {
    "duration": 53,
    "start_time": "2024-10-01T14:49:54.008Z"
   },
   {
    "duration": 32,
    "start_time": "2024-10-01T14:49:54.063Z"
   },
   {
    "duration": 53,
    "start_time": "2024-10-01T14:49:54.097Z"
   },
   {
    "duration": 179,
    "start_time": "2024-10-01T14:49:54.152Z"
   },
   {
    "duration": 458,
    "start_time": "2024-10-01T14:49:54.336Z"
   },
   {
    "duration": 3,
    "start_time": "2024-10-01T14:49:54.796Z"
   },
   {
    "duration": 4,
    "start_time": "2024-10-01T14:49:54.800Z"
   },
   {
    "duration": 18,
    "start_time": "2024-10-01T14:49:54.806Z"
   },
   {
    "duration": 23,
    "start_time": "2024-10-01T14:49:54.826Z"
   },
   {
    "duration": 10,
    "start_time": "2024-10-01T14:49:54.852Z"
   },
   {
    "duration": 312,
    "start_time": "2024-10-01T14:49:54.863Z"
   },
   {
    "duration": 16,
    "start_time": "2024-10-01T14:50:34.022Z"
   },
   {
    "duration": 146,
    "start_time": "2024-10-01T14:50:44.067Z"
   },
   {
    "duration": 2,
    "start_time": "2024-10-01T14:56:07.219Z"
   },
   {
    "duration": 225,
    "start_time": "2024-10-01T14:56:07.223Z"
   },
   {
    "duration": 143,
    "start_time": "2024-10-01T14:56:07.449Z"
   },
   {
    "duration": 3,
    "start_time": "2024-10-01T14:56:07.594Z"
   },
   {
    "duration": 49,
    "start_time": "2024-10-01T14:56:07.599Z"
   },
   {
    "duration": 31,
    "start_time": "2024-10-01T14:56:07.649Z"
   },
   {
    "duration": 55,
    "start_time": "2024-10-01T14:56:07.681Z"
   },
   {
    "duration": 88,
    "start_time": "2024-10-01T14:56:07.738Z"
   },
   {
    "duration": 453,
    "start_time": "2024-10-01T14:56:07.827Z"
   },
   {
    "duration": 3,
    "start_time": "2024-10-01T14:56:08.282Z"
   },
   {
    "duration": 4,
    "start_time": "2024-10-01T14:56:08.286Z"
   },
   {
    "duration": 6,
    "start_time": "2024-10-01T14:56:08.292Z"
   },
   {
    "duration": 43,
    "start_time": "2024-10-01T14:56:08.299Z"
   },
   {
    "duration": 11,
    "start_time": "2024-10-01T14:56:08.345Z"
   },
   {
    "duration": 4,
    "start_time": "2024-10-01T14:56:08.358Z"
   },
   {
    "duration": 4,
    "start_time": "2024-10-01T14:56:08.364Z"
   },
   {
    "duration": 5,
    "start_time": "2024-10-01T14:56:08.369Z"
   },
   {
    "duration": 151,
    "start_time": "2024-10-01T14:56:08.376Z"
   },
   {
    "duration": 2,
    "start_time": "2024-10-01T15:00:44.203Z"
   },
   {
    "duration": 211,
    "start_time": "2024-10-01T15:00:44.209Z"
   },
   {
    "duration": 135,
    "start_time": "2024-10-01T15:00:44.422Z"
   },
   {
    "duration": 2,
    "start_time": "2024-10-01T15:00:44.560Z"
   },
   {
    "duration": 34,
    "start_time": "2024-10-01T15:00:44.565Z"
   },
   {
    "duration": 52,
    "start_time": "2024-10-01T15:00:44.603Z"
   },
   {
    "duration": 31,
    "start_time": "2024-10-01T15:00:44.657Z"
   },
   {
    "duration": 138,
    "start_time": "2024-10-01T15:00:44.690Z"
   },
   {
    "duration": 455,
    "start_time": "2024-10-01T15:00:44.830Z"
   },
   {
    "duration": 3,
    "start_time": "2024-10-01T15:00:45.287Z"
   },
   {
    "duration": 4,
    "start_time": "2024-10-01T15:00:45.291Z"
   },
   {
    "duration": 6,
    "start_time": "2024-10-01T15:00:45.296Z"
   },
   {
    "duration": 38,
    "start_time": "2024-10-01T15:00:45.303Z"
   },
   {
    "duration": 11,
    "start_time": "2024-10-01T15:00:45.343Z"
   },
   {
    "duration": 140,
    "start_time": "2024-10-01T15:00:45.356Z"
   },
   {
    "duration": 19,
    "start_time": "2024-10-01T15:00:45.499Z"
   },
   {
    "duration": 3,
    "start_time": "2024-10-01T15:01:17.773Z"
   },
   {
    "duration": 38,
    "start_time": "2024-10-01T15:03:12.852Z"
   },
   {
    "duration": 3,
    "start_time": "2024-10-01T17:33:49.448Z"
   },
   {
    "duration": 212,
    "start_time": "2024-10-01T17:33:49.453Z"
   },
   {
    "duration": 138,
    "start_time": "2024-10-01T17:33:49.667Z"
   },
   {
    "duration": 20,
    "start_time": "2024-10-01T17:33:49.806Z"
   },
   {
    "duration": 32,
    "start_time": "2024-10-01T17:33:49.829Z"
   },
   {
    "duration": 32,
    "start_time": "2024-10-01T17:33:49.862Z"
   },
   {
    "duration": 52,
    "start_time": "2024-10-01T17:33:49.895Z"
   },
   {
    "duration": 82,
    "start_time": "2024-10-01T17:33:49.949Z"
   },
   {
    "duration": 452,
    "start_time": "2024-10-01T17:33:50.034Z"
   },
   {
    "duration": 3,
    "start_time": "2024-10-01T17:33:50.488Z"
   },
   {
    "duration": 4,
    "start_time": "2024-10-01T17:33:50.492Z"
   },
   {
    "duration": 4,
    "start_time": "2024-10-01T17:33:50.498Z"
   },
   {
    "duration": 37,
    "start_time": "2024-10-01T17:33:50.504Z"
   },
   {
    "duration": 4,
    "start_time": "2024-10-01T17:33:50.544Z"
   },
   {
    "duration": 11,
    "start_time": "2024-10-01T17:33:50.549Z"
   },
   {
    "duration": 4,
    "start_time": "2024-10-01T17:33:50.561Z"
   },
   {
    "duration": 3,
    "start_time": "2024-10-01T17:33:50.567Z"
   },
   {
    "duration": 82,
    "start_time": "2024-10-01T17:33:50.572Z"
   },
   {
    "duration": 0,
    "start_time": "2024-10-01T17:33:50.656Z"
   },
   {
    "duration": 5,
    "start_time": "2024-10-01T17:42:45.748Z"
   },
   {
    "duration": 3,
    "start_time": "2024-10-01T17:44:00.109Z"
   },
   {
    "duration": 216,
    "start_time": "2024-10-01T17:44:00.115Z"
   },
   {
    "duration": 140,
    "start_time": "2024-10-01T17:44:00.333Z"
   },
   {
    "duration": 2,
    "start_time": "2024-10-01T17:44:00.475Z"
   },
   {
    "duration": 49,
    "start_time": "2024-10-01T17:44:00.480Z"
   },
   {
    "duration": 32,
    "start_time": "2024-10-01T17:44:00.531Z"
   },
   {
    "duration": 31,
    "start_time": "2024-10-01T17:44:00.564Z"
   },
   {
    "duration": 135,
    "start_time": "2024-10-01T17:44:00.596Z"
   },
   {
    "duration": 536,
    "start_time": "2024-10-01T17:44:00.733Z"
   },
   {
    "duration": 4,
    "start_time": "2024-10-01T17:44:01.271Z"
   },
   {
    "duration": 3,
    "start_time": "2024-10-01T17:44:01.276Z"
   },
   {
    "duration": 5,
    "start_time": "2024-10-01T17:44:01.281Z"
   },
   {
    "duration": 43,
    "start_time": "2024-10-01T17:44:01.287Z"
   },
   {
    "duration": 5,
    "start_time": "2024-10-01T17:44:01.333Z"
   },
   {
    "duration": 3,
    "start_time": "2024-10-01T17:44:01.339Z"
   },
   {
    "duration": 10,
    "start_time": "2024-10-01T17:44:01.344Z"
   },
   {
    "duration": 3,
    "start_time": "2024-10-01T17:44:01.356Z"
   },
   {
    "duration": 4,
    "start_time": "2024-10-01T17:44:01.360Z"
   },
   {
    "duration": 76,
    "start_time": "2024-10-01T17:44:01.365Z"
   },
   {
    "duration": 0,
    "start_time": "2024-10-01T17:44:01.443Z"
   },
   {
    "duration": 3,
    "start_time": "2024-10-01T17:44:29.627Z"
   },
   {
    "duration": 2,
    "start_time": "2024-10-01T17:44:39.407Z"
   },
   {
    "duration": 207,
    "start_time": "2024-10-01T17:44:39.412Z"
   },
   {
    "duration": 138,
    "start_time": "2024-10-01T17:44:39.623Z"
   },
   {
    "duration": 3,
    "start_time": "2024-10-01T17:44:39.763Z"
   },
   {
    "duration": 33,
    "start_time": "2024-10-01T17:44:39.768Z"
   },
   {
    "duration": 51,
    "start_time": "2024-10-01T17:44:39.803Z"
   },
   {
    "duration": 33,
    "start_time": "2024-10-01T17:44:39.855Z"
   },
   {
    "duration": 137,
    "start_time": "2024-10-01T17:44:39.890Z"
   },
   {
    "duration": 444,
    "start_time": "2024-10-01T17:44:40.029Z"
   },
   {
    "duration": 3,
    "start_time": "2024-10-01T17:44:40.475Z"
   },
   {
    "duration": 4,
    "start_time": "2024-10-01T17:44:40.480Z"
   },
   {
    "duration": 6,
    "start_time": "2024-10-01T17:44:40.485Z"
   },
   {
    "duration": 43,
    "start_time": "2024-10-01T17:44:40.495Z"
   },
   {
    "duration": 4,
    "start_time": "2024-10-01T17:44:40.540Z"
   },
   {
    "duration": 3,
    "start_time": "2024-10-01T17:44:40.546Z"
   },
   {
    "duration": 10,
    "start_time": "2024-10-01T17:44:40.551Z"
   },
   {
    "duration": 4,
    "start_time": "2024-10-01T17:44:40.562Z"
   },
   {
    "duration": 3,
    "start_time": "2024-10-01T17:44:40.567Z"
   },
   {
    "duration": 80,
    "start_time": "2024-10-01T17:44:40.571Z"
   },
   {
    "duration": 0,
    "start_time": "2024-10-01T17:44:40.653Z"
   },
   {
    "duration": 3,
    "start_time": "2024-10-01T17:46:34.619Z"
   },
   {
    "duration": 208,
    "start_time": "2024-10-01T17:46:34.626Z"
   },
   {
    "duration": 138,
    "start_time": "2024-10-01T17:46:34.836Z"
   },
   {
    "duration": 2,
    "start_time": "2024-10-01T17:46:34.976Z"
   },
   {
    "duration": 54,
    "start_time": "2024-10-01T17:46:34.980Z"
   },
   {
    "duration": 32,
    "start_time": "2024-10-01T17:46:35.037Z"
   },
   {
    "duration": 31,
    "start_time": "2024-10-01T17:46:35.070Z"
   },
   {
    "duration": 127,
    "start_time": "2024-10-01T17:46:35.102Z"
   },
   {
    "duration": 441,
    "start_time": "2024-10-01T17:46:35.232Z"
   },
   {
    "duration": 3,
    "start_time": "2024-10-01T17:46:35.675Z"
   },
   {
    "duration": 4,
    "start_time": "2024-10-01T17:46:35.680Z"
   },
   {
    "duration": 5,
    "start_time": "2024-10-01T17:46:35.686Z"
   },
   {
    "duration": 43,
    "start_time": "2024-10-01T17:46:35.692Z"
   },
   {
    "duration": 5,
    "start_time": "2024-10-01T17:46:35.737Z"
   },
   {
    "duration": 3,
    "start_time": "2024-10-01T17:46:35.745Z"
   },
   {
    "duration": 10,
    "start_time": "2024-10-01T17:46:35.749Z"
   },
   {
    "duration": 3,
    "start_time": "2024-10-01T17:46:35.761Z"
   },
   {
    "duration": 3,
    "start_time": "2024-10-01T17:46:35.766Z"
   },
   {
    "duration": 85,
    "start_time": "2024-10-01T17:46:35.771Z"
   },
   {
    "duration": 0,
    "start_time": "2024-10-01T17:46:35.858Z"
   },
   {
    "duration": 16,
    "start_time": "2024-10-01T18:47:03.563Z"
   },
   {
    "duration": 17,
    "start_time": "2024-10-01T18:47:10.888Z"
   },
   {
    "duration": 3,
    "start_time": "2024-10-01T18:47:15.985Z"
   },
   {
    "duration": 210,
    "start_time": "2024-10-01T18:47:15.991Z"
   },
   {
    "duration": 138,
    "start_time": "2024-10-01T18:47:16.203Z"
   },
   {
    "duration": 3,
    "start_time": "2024-10-01T18:47:16.343Z"
   },
   {
    "duration": 33,
    "start_time": "2024-10-01T18:47:16.348Z"
   },
   {
    "duration": 55,
    "start_time": "2024-10-01T18:47:16.383Z"
   },
   {
    "duration": 32,
    "start_time": "2024-10-01T18:47:16.440Z"
   },
   {
    "duration": 15,
    "start_time": "2024-10-01T18:47:16.474Z"
   },
   {
    "duration": 0,
    "start_time": "2024-10-01T18:47:16.491Z"
   },
   {
    "duration": 0,
    "start_time": "2024-10-01T18:47:16.492Z"
   },
   {
    "duration": 0,
    "start_time": "2024-10-01T18:47:16.493Z"
   },
   {
    "duration": 0,
    "start_time": "2024-10-01T18:47:16.494Z"
   },
   {
    "duration": 0,
    "start_time": "2024-10-01T18:47:16.495Z"
   },
   {
    "duration": 0,
    "start_time": "2024-10-01T18:47:16.496Z"
   },
   {
    "duration": 0,
    "start_time": "2024-10-01T18:47:16.497Z"
   },
   {
    "duration": 0,
    "start_time": "2024-10-01T18:47:16.497Z"
   },
   {
    "duration": 0,
    "start_time": "2024-10-01T18:47:16.498Z"
   },
   {
    "duration": 0,
    "start_time": "2024-10-01T18:47:16.524Z"
   },
   {
    "duration": 0,
    "start_time": "2024-10-01T18:47:16.525Z"
   },
   {
    "duration": 0,
    "start_time": "2024-10-01T18:47:16.526Z"
   },
   {
    "duration": 0,
    "start_time": "2024-10-01T18:47:16.527Z"
   },
   {
    "duration": 25,
    "start_time": "2024-10-01T18:48:07.934Z"
   },
   {
    "duration": 26,
    "start_time": "2024-10-01T18:48:20.698Z"
   },
   {
    "duration": 19,
    "start_time": "2024-10-01T18:48:29.871Z"
   },
   {
    "duration": 20,
    "start_time": "2024-10-01T18:51:02.654Z"
   },
   {
    "duration": 24,
    "start_time": "2024-10-01T18:51:31.506Z"
   },
   {
    "duration": 6,
    "start_time": "2024-10-01T18:52:02.160Z"
   },
   {
    "duration": 5,
    "start_time": "2024-10-01T18:52:15.400Z"
   },
   {
    "duration": 22,
    "start_time": "2024-10-01T18:52:19.184Z"
   },
   {
    "duration": 21,
    "start_time": "2024-10-01T18:52:24.037Z"
   },
   {
    "duration": 5,
    "start_time": "2024-10-01T18:52:45.729Z"
   },
   {
    "duration": 20,
    "start_time": "2024-10-01T18:52:48.620Z"
   },
   {
    "duration": 21,
    "start_time": "2024-10-01T18:53:04.682Z"
   },
   {
    "duration": 4,
    "start_time": "2024-10-01T18:55:21.538Z"
   },
   {
    "duration": 740,
    "start_time": "2024-10-01T18:55:32.922Z"
   },
   {
    "duration": 343,
    "start_time": "2024-10-01T18:57:21.882Z"
   },
   {
    "duration": 4,
    "start_time": "2024-10-01T19:01:55.365Z"
   },
   {
    "duration": 6,
    "start_time": "2024-10-01T19:05:50.707Z"
   },
   {
    "duration": 4,
    "start_time": "2024-10-01T19:06:29.055Z"
   },
   {
    "duration": 4,
    "start_time": "2024-10-01T19:06:33.379Z"
   },
   {
    "duration": 4,
    "start_time": "2024-10-01T19:06:53.410Z"
   },
   {
    "duration": 5,
    "start_time": "2024-10-01T19:08:05.549Z"
   },
   {
    "duration": 6,
    "start_time": "2024-10-01T19:08:10.308Z"
   },
   {
    "duration": 4,
    "start_time": "2024-10-01T19:12:41.243Z"
   },
   {
    "duration": 4,
    "start_time": "2024-10-01T19:12:55.377Z"
   },
   {
    "duration": 8,
    "start_time": "2024-10-01T19:31:11.611Z"
   },
   {
    "duration": 9,
    "start_time": "2024-10-01T19:31:26.868Z"
   },
   {
    "duration": 8,
    "start_time": "2024-10-01T19:31:49.623Z"
   },
   {
    "duration": 5,
    "start_time": "2024-10-01T19:34:36.343Z"
   },
   {
    "duration": 9,
    "start_time": "2024-10-01T19:34:38.786Z"
   },
   {
    "duration": 12,
    "start_time": "2024-10-01T19:38:05.558Z"
   },
   {
    "duration": 4,
    "start_time": "2024-10-01T19:39:33.509Z"
   },
   {
    "duration": 16,
    "start_time": "2024-10-01T19:40:51.975Z"
   },
   {
    "duration": 15,
    "start_time": "2024-10-01T19:41:26.455Z"
   },
   {
    "duration": 16,
    "start_time": "2024-10-01T19:41:45.547Z"
   },
   {
    "duration": 5,
    "start_time": "2024-10-01T19:42:20.439Z"
   },
   {
    "duration": 15,
    "start_time": "2024-10-01T19:42:35.132Z"
   },
   {
    "duration": 2733,
    "start_time": "2024-10-08T18:46:59.298Z"
   },
   {
    "duration": 364,
    "start_time": "2024-10-08T18:47:02.033Z"
   },
   {
    "duration": 140,
    "start_time": "2024-10-08T18:47:02.399Z"
   },
   {
    "duration": 3,
    "start_time": "2024-10-08T18:47:02.541Z"
   },
   {
    "duration": 52,
    "start_time": "2024-10-08T18:47:02.546Z"
   },
   {
    "duration": 33,
    "start_time": "2024-10-08T18:47:02.600Z"
   },
   {
    "duration": 58,
    "start_time": "2024-10-08T18:47:02.635Z"
   },
   {
    "duration": 537,
    "start_time": "2024-10-08T18:47:02.695Z"
   },
   {
    "duration": 0,
    "start_time": "2024-10-08T18:47:03.235Z"
   },
   {
    "duration": 0,
    "start_time": "2024-10-08T18:47:03.236Z"
   },
   {
    "duration": 0,
    "start_time": "2024-10-08T18:47:03.237Z"
   },
   {
    "duration": 0,
    "start_time": "2024-10-08T18:47:03.238Z"
   },
   {
    "duration": 0,
    "start_time": "2024-10-08T18:47:03.239Z"
   },
   {
    "duration": 0,
    "start_time": "2024-10-08T18:47:03.240Z"
   },
   {
    "duration": 0,
    "start_time": "2024-10-08T18:47:03.242Z"
   },
   {
    "duration": 0,
    "start_time": "2024-10-08T18:47:03.243Z"
   },
   {
    "duration": 0,
    "start_time": "2024-10-08T18:47:03.244Z"
   },
   {
    "duration": 0,
    "start_time": "2024-10-08T18:47:03.245Z"
   },
   {
    "duration": 0,
    "start_time": "2024-10-08T18:47:03.246Z"
   },
   {
    "duration": 0,
    "start_time": "2024-10-08T18:47:03.248Z"
   },
   {
    "duration": 0,
    "start_time": "2024-10-08T18:47:03.249Z"
   },
   {
    "duration": 0,
    "start_time": "2024-10-08T18:47:03.250Z"
   },
   {
    "duration": 0,
    "start_time": "2024-10-08T18:47:03.251Z"
   },
   {
    "duration": 0,
    "start_time": "2024-10-08T18:47:03.252Z"
   },
   {
    "duration": 392,
    "start_time": "2024-10-08T18:47:54.263Z"
   },
   {
    "duration": 3,
    "start_time": "2024-10-08T18:47:59.669Z"
   },
   {
    "duration": 219,
    "start_time": "2024-10-08T18:47:59.686Z"
   },
   {
    "duration": 142,
    "start_time": "2024-10-08T18:47:59.910Z"
   },
   {
    "duration": 3,
    "start_time": "2024-10-08T18:48:00.054Z"
   },
   {
    "duration": 53,
    "start_time": "2024-10-08T18:48:00.059Z"
   },
   {
    "duration": 32,
    "start_time": "2024-10-08T18:48:00.114Z"
   },
   {
    "duration": 53,
    "start_time": "2024-10-08T18:48:00.148Z"
   },
   {
    "duration": 349,
    "start_time": "2024-10-08T18:48:00.203Z"
   },
   {
    "duration": 33,
    "start_time": "2024-10-08T18:48:00.554Z"
   },
   {
    "duration": 3,
    "start_time": "2024-10-08T18:48:00.589Z"
   },
   {
    "duration": 16,
    "start_time": "2024-10-08T18:48:00.594Z"
   },
   {
    "duration": 154,
    "start_time": "2024-10-08T18:48:00.612Z"
   },
   {
    "duration": 131,
    "start_time": "2024-10-08T18:48:00.768Z"
   },
   {
    "duration": 480,
    "start_time": "2024-10-08T18:48:00.901Z"
   },
   {
    "duration": 2,
    "start_time": "2024-10-08T18:48:01.389Z"
   },
   {
    "duration": 3,
    "start_time": "2024-10-08T18:48:01.393Z"
   },
   {
    "duration": 2,
    "start_time": "2024-10-08T18:48:01.398Z"
   },
   {
    "duration": 26,
    "start_time": "2024-10-08T18:48:01.402Z"
   },
   {
    "duration": 3,
    "start_time": "2024-10-08T18:48:01.430Z"
   },
   {
    "duration": 16,
    "start_time": "2024-10-08T18:48:01.434Z"
   },
   {
    "duration": 34,
    "start_time": "2024-10-08T18:48:01.453Z"
   },
   {
    "duration": 6,
    "start_time": "2024-10-08T18:48:01.489Z"
   },
   {
    "duration": 51,
    "start_time": "2024-10-08T18:48:01.497Z"
   },
   {
    "duration": 0,
    "start_time": "2024-10-08T18:48:01.550Z"
   },
   {
    "duration": 168,
    "start_time": "2024-10-08T19:52:35.143Z"
   },
   {
    "duration": 12,
    "start_time": "2024-10-08T19:52:44.536Z"
   },
   {
    "duration": 11,
    "start_time": "2024-10-08T19:52:47.784Z"
   },
   {
    "duration": 11,
    "start_time": "2024-10-08T19:53:09.396Z"
   },
   {
    "duration": 12,
    "start_time": "2024-10-08T19:53:29.127Z"
   },
   {
    "duration": 19,
    "start_time": "2024-10-08T19:54:44.362Z"
   },
   {
    "duration": 2804,
    "start_time": "2024-10-08T20:39:44.146Z"
   },
   {
    "duration": 387,
    "start_time": "2024-10-08T20:39:46.954Z"
   },
   {
    "duration": 150,
    "start_time": "2024-10-08T20:39:47.343Z"
   },
   {
    "duration": 2,
    "start_time": "2024-10-08T20:39:47.495Z"
   },
   {
    "duration": 64,
    "start_time": "2024-10-08T20:39:47.500Z"
   },
   {
    "duration": 39,
    "start_time": "2024-10-08T20:39:47.566Z"
   },
   {
    "duration": 63,
    "start_time": "2024-10-08T20:39:47.607Z"
   },
   {
    "duration": 432,
    "start_time": "2024-10-08T20:39:47.673Z"
   },
   {
    "duration": 11,
    "start_time": "2024-10-08T20:39:48.107Z"
   },
   {
    "duration": 3,
    "start_time": "2024-10-08T20:39:48.120Z"
   },
   {
    "duration": 102,
    "start_time": "2024-10-08T20:39:48.142Z"
   },
   {
    "duration": 0,
    "start_time": "2024-10-08T20:39:48.247Z"
   },
   {
    "duration": 0,
    "start_time": "2024-10-08T20:39:48.249Z"
   },
   {
    "duration": 0,
    "start_time": "2024-10-08T20:39:48.250Z"
   },
   {
    "duration": 0,
    "start_time": "2024-10-08T20:39:48.251Z"
   },
   {
    "duration": 0,
    "start_time": "2024-10-08T20:39:48.252Z"
   },
   {
    "duration": 0,
    "start_time": "2024-10-08T20:39:48.254Z"
   },
   {
    "duration": 0,
    "start_time": "2024-10-08T20:39:48.255Z"
   },
   {
    "duration": 0,
    "start_time": "2024-10-08T20:39:48.256Z"
   },
   {
    "duration": 0,
    "start_time": "2024-10-08T20:39:48.257Z"
   },
   {
    "duration": 0,
    "start_time": "2024-10-08T20:39:48.258Z"
   },
   {
    "duration": 0,
    "start_time": "2024-10-08T20:39:48.259Z"
   },
   {
    "duration": 0,
    "start_time": "2024-10-08T20:39:48.262Z"
   },
   {
    "duration": 0,
    "start_time": "2024-10-08T20:39:48.264Z"
   },
   {
    "duration": 157,
    "start_time": "2024-10-09T13:10:19.164Z"
   },
   {
    "duration": 2692,
    "start_time": "2024-10-09T13:10:24.544Z"
   },
   {
    "duration": 335,
    "start_time": "2024-10-09T13:10:27.239Z"
   },
   {
    "duration": 136,
    "start_time": "2024-10-09T13:10:27.576Z"
   },
   {
    "duration": 3,
    "start_time": "2024-10-09T13:10:27.724Z"
   },
   {
    "duration": 39,
    "start_time": "2024-10-09T13:10:27.729Z"
   },
   {
    "duration": 31,
    "start_time": "2024-10-09T13:10:27.769Z"
   },
   {
    "duration": 34,
    "start_time": "2024-10-09T13:10:27.823Z"
   },
   {
    "duration": 418,
    "start_time": "2024-10-09T13:10:27.859Z"
   },
   {
    "duration": 6,
    "start_time": "2024-10-09T13:10:28.279Z"
   },
   {
    "duration": 2,
    "start_time": "2024-10-09T13:10:28.289Z"
   },
   {
    "duration": 5,
    "start_time": "2024-10-09T13:10:28.292Z"
   },
   {
    "duration": 110,
    "start_time": "2024-10-09T13:10:28.299Z"
   },
   {
    "duration": 0,
    "start_time": "2024-10-09T13:10:28.411Z"
   },
   {
    "duration": 0,
    "start_time": "2024-10-09T13:10:28.412Z"
   },
   {
    "duration": 0,
    "start_time": "2024-10-09T13:10:28.413Z"
   },
   {
    "duration": 0,
    "start_time": "2024-10-09T13:10:28.415Z"
   },
   {
    "duration": 0,
    "start_time": "2024-10-09T13:10:28.425Z"
   },
   {
    "duration": 0,
    "start_time": "2024-10-09T13:10:28.426Z"
   },
   {
    "duration": 0,
    "start_time": "2024-10-09T13:10:28.427Z"
   },
   {
    "duration": 0,
    "start_time": "2024-10-09T13:10:28.429Z"
   },
   {
    "duration": 0,
    "start_time": "2024-10-09T13:10:28.430Z"
   },
   {
    "duration": 0,
    "start_time": "2024-10-09T13:10:28.432Z"
   },
   {
    "duration": 0,
    "start_time": "2024-10-09T13:10:28.433Z"
   },
   {
    "duration": 0,
    "start_time": "2024-10-09T13:10:28.434Z"
   },
   {
    "duration": 0,
    "start_time": "2024-10-09T13:10:28.435Z"
   },
   {
    "duration": 23,
    "start_time": "2024-10-09T13:15:54.872Z"
   },
   {
    "duration": 19,
    "start_time": "2024-10-09T13:16:17.255Z"
   },
   {
    "duration": 3,
    "start_time": "2024-10-09T13:20:14.266Z"
   },
   {
    "duration": 14,
    "start_time": "2024-10-09T13:21:51.630Z"
   },
   {
    "duration": 13,
    "start_time": "2024-10-09T13:24:22.771Z"
   },
   {
    "duration": 20,
    "start_time": "2024-10-09T13:28:31.443Z"
   },
   {
    "duration": 2,
    "start_time": "2024-10-09T13:28:34.355Z"
   },
   {
    "duration": 217,
    "start_time": "2024-10-09T13:28:34.361Z"
   },
   {
    "duration": 129,
    "start_time": "2024-10-09T13:28:34.581Z"
   },
   {
    "duration": 2,
    "start_time": "2024-10-09T13:28:34.724Z"
   },
   {
    "duration": 34,
    "start_time": "2024-10-09T13:28:34.728Z"
   },
   {
    "duration": 31,
    "start_time": "2024-10-09T13:28:34.765Z"
   },
   {
    "duration": 57,
    "start_time": "2024-10-09T13:28:34.798Z"
   },
   {
    "duration": 374,
    "start_time": "2024-10-09T13:28:34.856Z"
   },
   {
    "duration": 6,
    "start_time": "2024-10-09T13:28:35.232Z"
   },
   {
    "duration": 6,
    "start_time": "2024-10-09T13:28:35.240Z"
   },
   {
    "duration": 0,
    "start_time": "2024-10-09T13:28:35.248Z"
   },
   {
    "duration": 0,
    "start_time": "2024-10-09T13:28:35.249Z"
   },
   {
    "duration": 0,
    "start_time": "2024-10-09T13:28:35.250Z"
   },
   {
    "duration": 0,
    "start_time": "2024-10-09T13:28:35.252Z"
   },
   {
    "duration": 0,
    "start_time": "2024-10-09T13:28:35.253Z"
   },
   {
    "duration": 0,
    "start_time": "2024-10-09T13:28:35.254Z"
   },
   {
    "duration": 0,
    "start_time": "2024-10-09T13:28:35.255Z"
   },
   {
    "duration": 0,
    "start_time": "2024-10-09T13:28:35.256Z"
   },
   {
    "duration": 0,
    "start_time": "2024-10-09T13:28:35.257Z"
   },
   {
    "duration": 0,
    "start_time": "2024-10-09T13:28:35.258Z"
   },
   {
    "duration": 0,
    "start_time": "2024-10-09T13:28:35.259Z"
   },
   {
    "duration": 0,
    "start_time": "2024-10-09T13:28:35.260Z"
   },
   {
    "duration": 0,
    "start_time": "2024-10-09T13:28:35.261Z"
   },
   {
    "duration": 0,
    "start_time": "2024-10-09T13:28:35.262Z"
   },
   {
    "duration": 3,
    "start_time": "2024-10-09T13:28:53.464Z"
   },
   {
    "duration": 21,
    "start_time": "2024-10-09T13:28:56.877Z"
   },
   {
    "duration": 0,
    "start_time": "2024-10-09T13:28:56.900Z"
   },
   {
    "duration": 0,
    "start_time": "2024-10-09T13:28:56.901Z"
   },
   {
    "duration": 0,
    "start_time": "2024-10-09T13:28:56.902Z"
   },
   {
    "duration": 0,
    "start_time": "2024-10-09T13:28:56.903Z"
   },
   {
    "duration": 0,
    "start_time": "2024-10-09T13:28:56.904Z"
   },
   {
    "duration": 0,
    "start_time": "2024-10-09T13:28:56.905Z"
   },
   {
    "duration": 0,
    "start_time": "2024-10-09T13:28:56.906Z"
   },
   {
    "duration": 4,
    "start_time": "2024-10-09T13:28:56.909Z"
   },
   {
    "duration": 19,
    "start_time": "2024-10-09T13:28:56.914Z"
   },
   {
    "duration": 0,
    "start_time": "2024-10-09T13:28:56.935Z"
   },
   {
    "duration": 0,
    "start_time": "2024-10-09T13:28:56.936Z"
   },
   {
    "duration": 0,
    "start_time": "2024-10-09T13:28:56.937Z"
   },
   {
    "duration": 0,
    "start_time": "2024-10-09T13:28:56.938Z"
   },
   {
    "duration": 3,
    "start_time": "2024-10-09T13:30:43.836Z"
   },
   {
    "duration": 3,
    "start_time": "2024-10-09T13:30:56.266Z"
   },
   {
    "duration": 20,
    "start_time": "2024-10-09T13:30:56.657Z"
   },
   {
    "duration": 3,
    "start_time": "2024-10-09T13:31:46.493Z"
   },
   {
    "duration": 208,
    "start_time": "2024-10-09T13:31:46.510Z"
   },
   {
    "duration": 135,
    "start_time": "2024-10-09T13:31:46.724Z"
   },
   {
    "duration": 2,
    "start_time": "2024-10-09T13:31:46.861Z"
   },
   {
    "duration": 32,
    "start_time": "2024-10-09T13:31:46.865Z"
   },
   {
    "duration": 51,
    "start_time": "2024-10-09T13:31:46.899Z"
   },
   {
    "duration": 31,
    "start_time": "2024-10-09T13:31:46.952Z"
   },
   {
    "duration": 362,
    "start_time": "2024-10-09T13:31:46.986Z"
   },
   {
    "duration": 5,
    "start_time": "2024-10-09T13:31:47.350Z"
   },
   {
    "duration": 3,
    "start_time": "2024-10-09T13:31:47.357Z"
   },
   {
    "duration": 328,
    "start_time": "2024-10-09T13:31:47.362Z"
   },
   {
    "duration": 0,
    "start_time": "2024-10-09T13:31:47.692Z"
   },
   {
    "duration": 0,
    "start_time": "2024-10-09T13:31:47.693Z"
   },
   {
    "duration": 0,
    "start_time": "2024-10-09T13:31:47.694Z"
   },
   {
    "duration": 0,
    "start_time": "2024-10-09T13:31:47.695Z"
   },
   {
    "duration": 0,
    "start_time": "2024-10-09T13:31:47.697Z"
   },
   {
    "duration": 0,
    "start_time": "2024-10-09T13:31:47.697Z"
   },
   {
    "duration": 0,
    "start_time": "2024-10-09T13:31:47.698Z"
   },
   {
    "duration": 0,
    "start_time": "2024-10-09T13:31:47.699Z"
   },
   {
    "duration": 0,
    "start_time": "2024-10-09T13:31:47.700Z"
   },
   {
    "duration": 0,
    "start_time": "2024-10-09T13:31:47.701Z"
   },
   {
    "duration": 0,
    "start_time": "2024-10-09T13:31:47.702Z"
   },
   {
    "duration": 0,
    "start_time": "2024-10-09T13:31:47.703Z"
   },
   {
    "duration": 0,
    "start_time": "2024-10-09T13:31:47.724Z"
   },
   {
    "duration": 4,
    "start_time": "2024-10-09T13:32:13.141Z"
   },
   {
    "duration": 5,
    "start_time": "2024-10-09T13:32:30.838Z"
   },
   {
    "duration": 56,
    "start_time": "2024-10-09T13:32:39.433Z"
   },
   {
    "duration": 3,
    "start_time": "2024-10-09T13:32:42.586Z"
   },
   {
    "duration": 211,
    "start_time": "2024-10-09T13:32:42.593Z"
   },
   {
    "duration": 138,
    "start_time": "2024-10-09T13:32:42.806Z"
   },
   {
    "duration": 2,
    "start_time": "2024-10-09T13:32:42.946Z"
   },
   {
    "duration": 34,
    "start_time": "2024-10-09T13:32:42.950Z"
   },
   {
    "duration": 56,
    "start_time": "2024-10-09T13:32:42.987Z"
   },
   {
    "duration": 32,
    "start_time": "2024-10-09T13:32:43.044Z"
   },
   {
    "duration": 363,
    "start_time": "2024-10-09T13:32:43.078Z"
   },
   {
    "duration": 5,
    "start_time": "2024-10-09T13:32:43.443Z"
   },
   {
    "duration": 5,
    "start_time": "2024-10-09T13:32:43.450Z"
   },
   {
    "duration": 75,
    "start_time": "2024-10-09T13:32:43.457Z"
   },
   {
    "duration": 0,
    "start_time": "2024-10-09T13:32:43.534Z"
   },
   {
    "duration": 0,
    "start_time": "2024-10-09T13:32:43.535Z"
   },
   {
    "duration": 0,
    "start_time": "2024-10-09T13:32:43.537Z"
   },
   {
    "duration": 0,
    "start_time": "2024-10-09T13:32:43.538Z"
   },
   {
    "duration": 0,
    "start_time": "2024-10-09T13:32:43.539Z"
   },
   {
    "duration": 0,
    "start_time": "2024-10-09T13:32:43.540Z"
   },
   {
    "duration": 0,
    "start_time": "2024-10-09T13:32:43.541Z"
   },
   {
    "duration": 0,
    "start_time": "2024-10-09T13:32:43.542Z"
   },
   {
    "duration": 0,
    "start_time": "2024-10-09T13:32:43.544Z"
   },
   {
    "duration": 0,
    "start_time": "2024-10-09T13:32:43.545Z"
   },
   {
    "duration": 0,
    "start_time": "2024-10-09T13:32:43.546Z"
   },
   {
    "duration": 0,
    "start_time": "2024-10-09T13:32:43.547Z"
   },
   {
    "duration": 0,
    "start_time": "2024-10-09T13:32:43.548Z"
   },
   {
    "duration": 0,
    "start_time": "2024-10-09T13:32:43.549Z"
   },
   {
    "duration": 2,
    "start_time": "2024-10-09T13:34:45.357Z"
   },
   {
    "duration": 208,
    "start_time": "2024-10-09T13:34:45.362Z"
   },
   {
    "duration": 136,
    "start_time": "2024-10-09T13:34:45.572Z"
   },
   {
    "duration": 2,
    "start_time": "2024-10-09T13:34:45.710Z"
   },
   {
    "duration": 41,
    "start_time": "2024-10-09T13:34:45.714Z"
   },
   {
    "duration": 31,
    "start_time": "2024-10-09T13:34:45.757Z"
   },
   {
    "duration": 55,
    "start_time": "2024-10-09T13:34:45.790Z"
   },
   {
    "duration": 350,
    "start_time": "2024-10-09T13:34:45.847Z"
   },
   {
    "duration": 27,
    "start_time": "2024-10-09T13:34:46.198Z"
   },
   {
    "duration": 5,
    "start_time": "2024-10-09T13:34:46.226Z"
   },
   {
    "duration": 6,
    "start_time": "2024-10-09T13:34:46.233Z"
   },
   {
    "duration": 3,
    "start_time": "2024-10-09T13:34:46.240Z"
   },
   {
    "duration": 19,
    "start_time": "2024-10-09T13:34:46.247Z"
   },
   {
    "duration": 0,
    "start_time": "2024-10-09T13:34:46.267Z"
   },
   {
    "duration": 0,
    "start_time": "2024-10-09T13:34:46.269Z"
   },
   {
    "duration": 0,
    "start_time": "2024-10-09T13:34:46.270Z"
   },
   {
    "duration": 0,
    "start_time": "2024-10-09T13:34:46.271Z"
   },
   {
    "duration": 0,
    "start_time": "2024-10-09T13:34:46.273Z"
   },
   {
    "duration": 0,
    "start_time": "2024-10-09T13:34:46.275Z"
   },
   {
    "duration": 0,
    "start_time": "2024-10-09T13:34:46.276Z"
   },
   {
    "duration": 0,
    "start_time": "2024-10-09T13:34:46.278Z"
   },
   {
    "duration": 0,
    "start_time": "2024-10-09T13:34:46.279Z"
   },
   {
    "duration": 0,
    "start_time": "2024-10-09T13:34:46.324Z"
   },
   {
    "duration": 0,
    "start_time": "2024-10-09T13:34:46.325Z"
   },
   {
    "duration": 0,
    "start_time": "2024-10-09T13:34:46.326Z"
   },
   {
    "duration": 2,
    "start_time": "2024-10-09T13:36:45.078Z"
   },
   {
    "duration": 207,
    "start_time": "2024-10-09T13:36:45.086Z"
   },
   {
    "duration": 137,
    "start_time": "2024-10-09T13:36:45.295Z"
   },
   {
    "duration": 3,
    "start_time": "2024-10-09T13:36:45.436Z"
   },
   {
    "duration": 33,
    "start_time": "2024-10-09T13:36:45.440Z"
   },
   {
    "duration": 55,
    "start_time": "2024-10-09T13:36:45.475Z"
   },
   {
    "duration": 30,
    "start_time": "2024-10-09T13:36:45.532Z"
   },
   {
    "duration": 362,
    "start_time": "2024-10-09T13:36:45.564Z"
   },
   {
    "duration": 5,
    "start_time": "2024-10-09T13:36:45.929Z"
   },
   {
    "duration": 5,
    "start_time": "2024-10-09T13:36:45.936Z"
   },
   {
    "duration": 6,
    "start_time": "2024-10-09T13:36:45.943Z"
   },
   {
    "duration": 15,
    "start_time": "2024-10-09T13:36:45.950Z"
   },
   {
    "duration": 0,
    "start_time": "2024-10-09T13:36:45.968Z"
   },
   {
    "duration": 0,
    "start_time": "2024-10-09T13:36:45.969Z"
   },
   {
    "duration": 0,
    "start_time": "2024-10-09T13:36:45.970Z"
   },
   {
    "duration": 0,
    "start_time": "2024-10-09T13:36:45.971Z"
   },
   {
    "duration": 0,
    "start_time": "2024-10-09T13:36:45.972Z"
   },
   {
    "duration": 0,
    "start_time": "2024-10-09T13:36:45.973Z"
   },
   {
    "duration": 0,
    "start_time": "2024-10-09T13:36:45.974Z"
   },
   {
    "duration": 0,
    "start_time": "2024-10-09T13:36:45.975Z"
   },
   {
    "duration": 0,
    "start_time": "2024-10-09T13:36:45.976Z"
   },
   {
    "duration": 0,
    "start_time": "2024-10-09T13:36:45.977Z"
   },
   {
    "duration": 0,
    "start_time": "2024-10-09T13:36:45.978Z"
   },
   {
    "duration": 0,
    "start_time": "2024-10-09T13:36:46.023Z"
   },
   {
    "duration": 0,
    "start_time": "2024-10-09T13:36:46.024Z"
   },
   {
    "duration": 4,
    "start_time": "2024-10-09T13:37:25.659Z"
   },
   {
    "duration": 21,
    "start_time": "2024-10-09T13:38:46.076Z"
   },
   {
    "duration": 7,
    "start_time": "2024-10-09T13:42:39.948Z"
   },
   {
    "duration": 3,
    "start_time": "2024-10-09T13:45:47.437Z"
   },
   {
    "duration": 219,
    "start_time": "2024-10-09T13:45:47.444Z"
   },
   {
    "duration": 136,
    "start_time": "2024-10-09T13:45:47.665Z"
   },
   {
    "duration": 3,
    "start_time": "2024-10-09T13:45:47.802Z"
   },
   {
    "duration": 49,
    "start_time": "2024-10-09T13:45:47.807Z"
   },
   {
    "duration": 31,
    "start_time": "2024-10-09T13:45:47.858Z"
   },
   {
    "duration": 55,
    "start_time": "2024-10-09T13:45:47.891Z"
   },
   {
    "duration": 384,
    "start_time": "2024-10-09T13:45:47.948Z"
   },
   {
    "duration": 6,
    "start_time": "2024-10-09T13:45:48.333Z"
   },
   {
    "duration": 4,
    "start_time": "2024-10-09T13:45:48.340Z"
   },
   {
    "duration": 7,
    "start_time": "2024-10-09T13:45:48.345Z"
   },
   {
    "duration": 71,
    "start_time": "2024-10-09T13:45:48.353Z"
   },
   {
    "duration": 0,
    "start_time": "2024-10-09T13:45:48.426Z"
   },
   {
    "duration": 0,
    "start_time": "2024-10-09T13:45:48.428Z"
   },
   {
    "duration": 0,
    "start_time": "2024-10-09T13:45:48.429Z"
   },
   {
    "duration": 0,
    "start_time": "2024-10-09T13:45:48.430Z"
   },
   {
    "duration": 0,
    "start_time": "2024-10-09T13:45:48.431Z"
   },
   {
    "duration": 0,
    "start_time": "2024-10-09T13:45:48.432Z"
   },
   {
    "duration": 0,
    "start_time": "2024-10-09T13:45:48.433Z"
   },
   {
    "duration": 0,
    "start_time": "2024-10-09T13:45:48.434Z"
   },
   {
    "duration": 0,
    "start_time": "2024-10-09T13:45:48.435Z"
   },
   {
    "duration": 0,
    "start_time": "2024-10-09T13:45:48.436Z"
   },
   {
    "duration": 0,
    "start_time": "2024-10-09T13:45:48.436Z"
   },
   {
    "duration": 0,
    "start_time": "2024-10-09T13:45:48.437Z"
   },
   {
    "duration": 0,
    "start_time": "2024-10-09T13:45:48.439Z"
   },
   {
    "duration": 2,
    "start_time": "2024-10-09T13:47:03.753Z"
   },
   {
    "duration": 219,
    "start_time": "2024-10-09T13:47:03.758Z"
   },
   {
    "duration": 130,
    "start_time": "2024-10-09T13:47:03.979Z"
   },
   {
    "duration": 3,
    "start_time": "2024-10-09T13:47:04.124Z"
   },
   {
    "duration": 34,
    "start_time": "2024-10-09T13:47:04.129Z"
   },
   {
    "duration": 31,
    "start_time": "2024-10-09T13:47:04.164Z"
   },
   {
    "duration": 54,
    "start_time": "2024-10-09T13:47:04.197Z"
   },
   {
    "duration": 379,
    "start_time": "2024-10-09T13:47:04.252Z"
   },
   {
    "duration": 6,
    "start_time": "2024-10-09T13:47:04.633Z"
   },
   {
    "duration": 3,
    "start_time": "2024-10-09T13:47:04.643Z"
   },
   {
    "duration": 7,
    "start_time": "2024-10-09T13:47:04.647Z"
   },
   {
    "duration": 7,
    "start_time": "2024-10-09T13:47:04.656Z"
   },
   {
    "duration": 17,
    "start_time": "2024-10-09T13:47:04.664Z"
   },
   {
    "duration": 0,
    "start_time": "2024-10-09T13:47:04.683Z"
   },
   {
    "duration": 0,
    "start_time": "2024-10-09T13:47:04.684Z"
   },
   {
    "duration": 0,
    "start_time": "2024-10-09T13:47:04.685Z"
   },
   {
    "duration": 0,
    "start_time": "2024-10-09T13:47:04.686Z"
   },
   {
    "duration": 0,
    "start_time": "2024-10-09T13:47:04.724Z"
   },
   {
    "duration": 0,
    "start_time": "2024-10-09T13:47:04.725Z"
   },
   {
    "duration": 0,
    "start_time": "2024-10-09T13:47:04.726Z"
   },
   {
    "duration": 0,
    "start_time": "2024-10-09T13:47:04.728Z"
   },
   {
    "duration": 0,
    "start_time": "2024-10-09T13:47:04.729Z"
   },
   {
    "duration": 0,
    "start_time": "2024-10-09T13:47:04.731Z"
   },
   {
    "duration": 0,
    "start_time": "2024-10-09T13:47:04.732Z"
   },
   {
    "duration": 0,
    "start_time": "2024-10-09T13:47:04.734Z"
   },
   {
    "duration": 4,
    "start_time": "2024-10-09T14:02:30.831Z"
   },
   {
    "duration": 266,
    "start_time": "2024-10-09T14:02:30.839Z"
   },
   {
    "duration": 174,
    "start_time": "2024-10-09T14:02:31.108Z"
   },
   {
    "duration": 5,
    "start_time": "2024-10-09T14:02:31.283Z"
   },
   {
    "duration": 58,
    "start_time": "2024-10-09T14:02:31.290Z"
   },
   {
    "duration": 37,
    "start_time": "2024-10-09T14:02:31.351Z"
   },
   {
    "duration": 49,
    "start_time": "2024-10-09T14:02:31.391Z"
   },
   {
    "duration": 389,
    "start_time": "2024-10-09T14:02:31.442Z"
   },
   {
    "duration": 6,
    "start_time": "2024-10-09T14:02:31.833Z"
   },
   {
    "duration": 3,
    "start_time": "2024-10-09T14:02:31.841Z"
   },
   {
    "duration": 6,
    "start_time": "2024-10-09T14:02:31.846Z"
   },
   {
    "duration": 7,
    "start_time": "2024-10-09T14:02:31.854Z"
   },
   {
    "duration": 337,
    "start_time": "2024-10-09T14:02:31.863Z"
   },
   {
    "duration": 154,
    "start_time": "2024-10-09T14:02:32.202Z"
   },
   {
    "duration": 440,
    "start_time": "2024-10-09T14:02:32.427Z"
   },
   {
    "duration": 3,
    "start_time": "2024-10-09T14:02:32.868Z"
   },
   {
    "duration": 3,
    "start_time": "2024-10-09T14:02:32.873Z"
   },
   {
    "duration": 3,
    "start_time": "2024-10-09T14:02:32.877Z"
   },
   {
    "duration": 29,
    "start_time": "2024-10-09T14:02:32.882Z"
   },
   {
    "duration": 4,
    "start_time": "2024-10-09T14:02:32.924Z"
   },
   {
    "duration": 10,
    "start_time": "2024-10-09T14:02:32.929Z"
   },
   {
    "duration": 3,
    "start_time": "2024-10-09T14:02:32.941Z"
   },
   {
    "duration": 3,
    "start_time": "2024-10-09T14:02:32.946Z"
   },
   {
    "duration": 74,
    "start_time": "2024-10-09T14:02:32.951Z"
   },
   {
    "duration": 0,
    "start_time": "2024-10-09T14:02:33.027Z"
   },
   {
    "duration": 7,
    "start_time": "2024-10-09T14:03:06.405Z"
   },
   {
    "duration": 3,
    "start_time": "2024-10-09T14:03:23.064Z"
   },
   {
    "duration": 207,
    "start_time": "2024-10-09T14:03:23.070Z"
   },
   {
    "duration": 134,
    "start_time": "2024-10-09T14:03:23.279Z"
   },
   {
    "duration": 3,
    "start_time": "2024-10-09T14:03:23.424Z"
   },
   {
    "duration": 33,
    "start_time": "2024-10-09T14:03:23.430Z"
   },
   {
    "duration": 31,
    "start_time": "2024-10-09T14:03:23.464Z"
   },
   {
    "duration": 56,
    "start_time": "2024-10-09T14:03:23.497Z"
   },
   {
    "duration": 381,
    "start_time": "2024-10-09T14:03:23.555Z"
   },
   {
    "duration": 5,
    "start_time": "2024-10-09T14:03:23.938Z"
   },
   {
    "duration": 3,
    "start_time": "2024-10-09T14:03:23.945Z"
   },
   {
    "duration": 6,
    "start_time": "2024-10-09T14:03:23.951Z"
   },
   {
    "duration": 7,
    "start_time": "2024-10-09T14:03:23.958Z"
   },
   {
    "duration": 310,
    "start_time": "2024-10-09T14:03:23.967Z"
   },
   {
    "duration": 66,
    "start_time": "2024-10-09T14:03:24.279Z"
   },
   {
    "duration": 523,
    "start_time": "2024-10-09T14:03:24.424Z"
   },
   {
    "duration": 2,
    "start_time": "2024-10-09T14:03:24.949Z"
   },
   {
    "duration": 3,
    "start_time": "2024-10-09T14:03:24.953Z"
   },
   {
    "duration": 4,
    "start_time": "2024-10-09T14:03:24.958Z"
   },
   {
    "duration": 21,
    "start_time": "2024-10-09T14:03:24.963Z"
   },
   {
    "duration": 4,
    "start_time": "2024-10-09T14:03:24.986Z"
   },
   {
    "duration": 37,
    "start_time": "2024-10-09T14:03:24.992Z"
   },
   {
    "duration": 3,
    "start_time": "2024-10-09T14:03:25.031Z"
   },
   {
    "duration": 4,
    "start_time": "2024-10-09T14:03:25.036Z"
   },
   {
    "duration": 46,
    "start_time": "2024-10-09T14:03:25.041Z"
   },
   {
    "duration": 0,
    "start_time": "2024-10-09T14:03:25.089Z"
   },
   {
    "duration": 3,
    "start_time": "2024-10-09T14:04:11.670Z"
   },
   {
    "duration": 202,
    "start_time": "2024-10-09T14:04:11.675Z"
   },
   {
    "duration": 147,
    "start_time": "2024-10-09T14:04:11.879Z"
   },
   {
    "duration": 4,
    "start_time": "2024-10-09T14:04:12.027Z"
   },
   {
    "duration": 33,
    "start_time": "2024-10-09T14:04:12.034Z"
   },
   {
    "duration": 31,
    "start_time": "2024-10-09T14:04:12.068Z"
   },
   {
    "duration": 52,
    "start_time": "2024-10-09T14:04:12.102Z"
   },
   {
    "duration": 336,
    "start_time": "2024-10-09T14:04:12.155Z"
   },
   {
    "duration": 5,
    "start_time": "2024-10-09T14:04:12.492Z"
   },
   {
    "duration": 3,
    "start_time": "2024-10-09T14:04:12.524Z"
   },
   {
    "duration": 6,
    "start_time": "2024-10-09T14:04:12.529Z"
   },
   {
    "duration": 6,
    "start_time": "2024-10-09T14:04:12.537Z"
   },
   {
    "duration": 305,
    "start_time": "2024-10-09T14:04:12.545Z"
   },
   {
    "duration": 86,
    "start_time": "2024-10-09T14:04:12.852Z"
   },
   {
    "duration": 474,
    "start_time": "2024-10-09T14:04:12.940Z"
   },
   {
    "duration": 8,
    "start_time": "2024-10-09T14:04:13.416Z"
   },
   {
    "duration": 3,
    "start_time": "2024-10-09T14:04:13.425Z"
   },
   {
    "duration": 5,
    "start_time": "2024-10-09T14:04:13.430Z"
   },
   {
    "duration": 22,
    "start_time": "2024-10-09T14:04:13.436Z"
   },
   {
    "duration": 3,
    "start_time": "2024-10-09T14:04:13.460Z"
   },
   {
    "duration": 10,
    "start_time": "2024-10-09T14:04:13.464Z"
   },
   {
    "duration": 3,
    "start_time": "2024-10-09T14:04:13.476Z"
   },
   {
    "duration": 3,
    "start_time": "2024-10-09T14:04:13.480Z"
   },
   {
    "duration": 83,
    "start_time": "2024-10-09T14:04:13.485Z"
   },
   {
    "duration": 0,
    "start_time": "2024-10-09T14:04:13.570Z"
   },
   {
    "duration": 4,
    "start_time": "2024-10-09T14:08:44.549Z"
   },
   {
    "duration": 28,
    "start_time": "2024-10-09T14:14:06.332Z"
   },
   {
    "duration": 0,
    "start_time": "2024-10-09T14:14:06.362Z"
   },
   {
    "duration": 0,
    "start_time": "2024-10-09T14:14:06.363Z"
   },
   {
    "duration": 0,
    "start_time": "2024-10-09T14:14:06.365Z"
   },
   {
    "duration": 0,
    "start_time": "2024-10-09T14:14:06.366Z"
   },
   {
    "duration": 2,
    "start_time": "2024-10-09T14:14:08.594Z"
   },
   {
    "duration": 207,
    "start_time": "2024-10-09T14:14:08.600Z"
   },
   {
    "duration": 147,
    "start_time": "2024-10-09T14:14:08.809Z"
   },
   {
    "duration": 3,
    "start_time": "2024-10-09T14:14:08.958Z"
   },
   {
    "duration": 32,
    "start_time": "2024-10-09T14:14:08.963Z"
   },
   {
    "duration": 49,
    "start_time": "2024-10-09T14:14:08.997Z"
   },
   {
    "duration": 31,
    "start_time": "2024-10-09T14:14:09.047Z"
   },
   {
    "duration": 354,
    "start_time": "2024-10-09T14:14:09.080Z"
   },
   {
    "duration": 5,
    "start_time": "2024-10-09T14:14:09.436Z"
   },
   {
    "duration": 4,
    "start_time": "2024-10-09T14:14:09.443Z"
   },
   {
    "duration": 6,
    "start_time": "2024-10-09T14:14:09.451Z"
   },
   {
    "duration": 6,
    "start_time": "2024-10-09T14:14:09.459Z"
   },
   {
    "duration": 310,
    "start_time": "2024-10-09T14:14:09.467Z"
   },
   {
    "duration": 64,
    "start_time": "2024-10-09T14:14:09.779Z"
   },
   {
    "duration": 513,
    "start_time": "2024-10-09T14:14:09.845Z"
   },
   {
    "duration": 2,
    "start_time": "2024-10-09T14:14:10.360Z"
   },
   {
    "duration": 4,
    "start_time": "2024-10-09T14:14:10.364Z"
   },
   {
    "duration": 4,
    "start_time": "2024-10-09T14:14:10.370Z"
   },
   {
    "duration": 22,
    "start_time": "2024-10-09T14:14:10.376Z"
   },
   {
    "duration": 26,
    "start_time": "2024-10-09T14:14:10.399Z"
   },
   {
    "duration": 24,
    "start_time": "2024-10-09T14:14:10.427Z"
   },
   {
    "duration": 0,
    "start_time": "2024-10-09T14:14:10.453Z"
   },
   {
    "duration": 0,
    "start_time": "2024-10-09T14:14:10.454Z"
   },
   {
    "duration": 0,
    "start_time": "2024-10-09T14:14:10.455Z"
   },
   {
    "duration": 0,
    "start_time": "2024-10-09T14:14:10.456Z"
   },
   {
    "duration": 168,
    "start_time": "2024-10-09T15:06:09.688Z"
   },
   {
    "duration": 166,
    "start_time": "2024-10-11T02:09:56.393Z"
   },
   {
    "duration": 2898,
    "start_time": "2024-10-11T02:10:04.094Z"
   },
   {
    "duration": 397,
    "start_time": "2024-10-11T02:10:06.995Z"
   },
   {
    "duration": 177,
    "start_time": "2024-10-11T02:10:07.395Z"
   },
   {
    "duration": 3,
    "start_time": "2024-10-11T02:10:07.574Z"
   },
   {
    "duration": 42,
    "start_time": "2024-10-11T02:10:07.580Z"
   },
   {
    "duration": 40,
    "start_time": "2024-10-11T02:10:07.644Z"
   },
   {
    "duration": 58,
    "start_time": "2024-10-11T02:10:07.686Z"
   },
   {
    "duration": 456,
    "start_time": "2024-10-11T02:10:07.746Z"
   },
   {
    "duration": 6,
    "start_time": "2024-10-11T02:10:08.205Z"
   },
   {
    "duration": 4,
    "start_time": "2024-10-11T02:10:08.213Z"
   },
   {
    "duration": 26,
    "start_time": "2024-10-11T02:10:08.218Z"
   },
   {
    "duration": 7,
    "start_time": "2024-10-11T02:10:08.246Z"
   },
   {
    "duration": 305,
    "start_time": "2024-10-11T02:10:08.256Z"
   },
   {
    "duration": 7,
    "start_time": "2024-10-11T02:10:08.565Z"
   },
   {
    "duration": 274,
    "start_time": "2024-10-11T02:10:08.575Z"
   },
   {
    "duration": 1020,
    "start_time": "2024-10-11T02:10:08.852Z"
   },
   {
    "duration": 4,
    "start_time": "2024-10-11T02:10:09.873Z"
   },
   {
    "duration": 3,
    "start_time": "2024-10-11T02:10:09.879Z"
   },
   {
    "duration": 3,
    "start_time": "2024-10-11T02:10:09.883Z"
   },
   {
    "duration": 76,
    "start_time": "2024-10-11T02:10:09.888Z"
   },
   {
    "duration": 4,
    "start_time": "2024-10-11T02:10:09.966Z"
   },
   {
    "duration": 19,
    "start_time": "2024-10-11T02:10:09.972Z"
   },
   {
    "duration": 4,
    "start_time": "2024-10-11T02:10:09.993Z"
   },
   {
    "duration": 3,
    "start_time": "2024-10-11T02:10:09.999Z"
   },
   {
    "duration": 158,
    "start_time": "2024-10-11T02:10:10.004Z"
   },
   {
    "duration": 0,
    "start_time": "2024-10-11T02:10:10.163Z"
   },
   {
    "duration": 20,
    "start_time": "2024-10-11T02:13:50.052Z"
   },
   {
    "duration": 6,
    "start_time": "2024-10-11T02:14:06.297Z"
   },
   {
    "duration": 3,
    "start_time": "2024-10-11T02:25:21.607Z"
   },
   {
    "duration": 288,
    "start_time": "2024-10-11T02:25:21.612Z"
   },
   {
    "duration": 179,
    "start_time": "2024-10-11T02:25:21.903Z"
   },
   {
    "duration": 3,
    "start_time": "2024-10-11T02:25:22.085Z"
   },
   {
    "duration": 57,
    "start_time": "2024-10-11T02:25:22.091Z"
   },
   {
    "duration": 35,
    "start_time": "2024-10-11T02:25:22.149Z"
   },
   {
    "duration": 61,
    "start_time": "2024-10-11T02:25:22.186Z"
   },
   {
    "duration": 369,
    "start_time": "2024-10-11T02:25:22.249Z"
   },
   {
    "duration": 7,
    "start_time": "2024-10-11T02:25:22.620Z"
   },
   {
    "duration": 17,
    "start_time": "2024-10-11T02:25:22.629Z"
   },
   {
    "duration": 7,
    "start_time": "2024-10-11T02:25:22.650Z"
   },
   {
    "duration": 7,
    "start_time": "2024-10-11T02:25:22.659Z"
   },
   {
    "duration": 364,
    "start_time": "2024-10-11T02:25:22.670Z"
   },
   {
    "duration": 5,
    "start_time": "2024-10-11T02:25:23.043Z"
   },
   {
    "duration": 204,
    "start_time": "2024-10-11T02:25:23.050Z"
   },
   {
    "duration": 461,
    "start_time": "2024-10-11T02:25:23.258Z"
   },
   {
    "duration": 2,
    "start_time": "2024-10-11T02:25:23.721Z"
   },
   {
    "duration": 4,
    "start_time": "2024-10-11T02:25:23.725Z"
   },
   {
    "duration": 19,
    "start_time": "2024-10-11T02:25:23.730Z"
   },
   {
    "duration": 25,
    "start_time": "2024-10-11T02:25:23.751Z"
   },
   {
    "duration": 4,
    "start_time": "2024-10-11T02:25:23.779Z"
   },
   {
    "duration": 15,
    "start_time": "2024-10-11T02:25:23.785Z"
   },
   {
    "duration": 5,
    "start_time": "2024-10-11T02:25:23.802Z"
   },
   {
    "duration": 37,
    "start_time": "2024-10-11T02:25:23.809Z"
   },
   {
    "duration": 50,
    "start_time": "2024-10-11T02:25:23.847Z"
   },
   {
    "duration": 0,
    "start_time": "2024-10-11T02:25:23.900Z"
   },
   {
    "duration": 7,
    "start_time": "2024-10-11T02:34:30.477Z"
   },
   {
    "duration": 302,
    "start_time": "2024-10-11T02:34:30.486Z"
   },
   {
    "duration": 174,
    "start_time": "2024-10-11T02:34:30.790Z"
   },
   {
    "duration": 2,
    "start_time": "2024-10-11T02:34:30.966Z"
   },
   {
    "duration": 37,
    "start_time": "2024-10-11T02:34:30.971Z"
   },
   {
    "duration": 62,
    "start_time": "2024-10-11T02:34:31.010Z"
   },
   {
    "duration": 38,
    "start_time": "2024-10-11T02:34:31.073Z"
   },
   {
    "duration": 405,
    "start_time": "2024-10-11T02:34:31.113Z"
   },
   {
    "duration": 6,
    "start_time": "2024-10-11T02:34:31.520Z"
   },
   {
    "duration": 19,
    "start_time": "2024-10-11T02:34:31.528Z"
   },
   {
    "duration": 8,
    "start_time": "2024-10-11T02:34:31.549Z"
   },
   {
    "duration": 7,
    "start_time": "2024-10-11T02:34:31.559Z"
   },
   {
    "duration": 42,
    "start_time": "2024-10-11T02:34:31.568Z"
   },
   {
    "duration": 0,
    "start_time": "2024-10-11T02:34:31.613Z"
   },
   {
    "duration": 0,
    "start_time": "2024-10-11T02:34:31.642Z"
   },
   {
    "duration": 0,
    "start_time": "2024-10-11T02:34:31.644Z"
   },
   {
    "duration": 0,
    "start_time": "2024-10-11T02:34:31.645Z"
   },
   {
    "duration": 0,
    "start_time": "2024-10-11T02:34:31.646Z"
   },
   {
    "duration": 0,
    "start_time": "2024-10-11T02:34:31.647Z"
   },
   {
    "duration": 0,
    "start_time": "2024-10-11T02:34:31.648Z"
   },
   {
    "duration": 0,
    "start_time": "2024-10-11T02:34:31.649Z"
   },
   {
    "duration": 0,
    "start_time": "2024-10-11T02:34:31.650Z"
   },
   {
    "duration": 0,
    "start_time": "2024-10-11T02:34:31.651Z"
   },
   {
    "duration": 0,
    "start_time": "2024-10-11T02:34:31.652Z"
   },
   {
    "duration": 0,
    "start_time": "2024-10-11T02:34:31.653Z"
   },
   {
    "duration": 0,
    "start_time": "2024-10-11T02:34:31.654Z"
   },
   {
    "duration": 3,
    "start_time": "2024-10-11T02:37:59.234Z"
   },
   {
    "duration": 259,
    "start_time": "2024-10-11T02:37:59.240Z"
   },
   {
    "duration": 158,
    "start_time": "2024-10-11T02:37:59.501Z"
   },
   {
    "duration": 4,
    "start_time": "2024-10-11T02:37:59.661Z"
   },
   {
    "duration": 37,
    "start_time": "2024-10-11T02:37:59.668Z"
   },
   {
    "duration": 61,
    "start_time": "2024-10-11T02:37:59.707Z"
   },
   {
    "duration": 37,
    "start_time": "2024-10-11T02:37:59.770Z"
   },
   {
    "duration": 378,
    "start_time": "2024-10-11T02:37:59.809Z"
   },
   {
    "duration": 5,
    "start_time": "2024-10-11T02:38:00.190Z"
   },
   {
    "duration": 3,
    "start_time": "2024-10-11T02:38:00.197Z"
   },
   {
    "duration": 6,
    "start_time": "2024-10-11T02:38:00.202Z"
   },
   {
    "duration": 6,
    "start_time": "2024-10-11T02:38:00.210Z"
   },
   {
    "duration": 153,
    "start_time": "2024-10-11T02:38:00.219Z"
   },
   {
    "duration": 0,
    "start_time": "2024-10-11T02:38:00.373Z"
   },
   {
    "duration": 0,
    "start_time": "2024-10-11T02:38:00.374Z"
   },
   {
    "duration": 0,
    "start_time": "2024-10-11T02:38:00.375Z"
   },
   {
    "duration": 0,
    "start_time": "2024-10-11T02:38:00.376Z"
   },
   {
    "duration": 0,
    "start_time": "2024-10-11T02:38:00.376Z"
   },
   {
    "duration": 0,
    "start_time": "2024-10-11T02:38:00.377Z"
   },
   {
    "duration": 0,
    "start_time": "2024-10-11T02:38:00.378Z"
   },
   {
    "duration": 0,
    "start_time": "2024-10-11T02:38:00.380Z"
   },
   {
    "duration": 0,
    "start_time": "2024-10-11T02:38:00.381Z"
   },
   {
    "duration": 0,
    "start_time": "2024-10-11T02:38:00.382Z"
   },
   {
    "duration": 0,
    "start_time": "2024-10-11T02:38:00.383Z"
   },
   {
    "duration": 0,
    "start_time": "2024-10-11T02:38:00.384Z"
   },
   {
    "duration": 0,
    "start_time": "2024-10-11T02:38:00.385Z"
   },
   {
    "duration": 2,
    "start_time": "2024-10-11T02:38:53.434Z"
   },
   {
    "duration": 232,
    "start_time": "2024-10-11T02:38:53.438Z"
   },
   {
    "duration": 151,
    "start_time": "2024-10-11T02:38:53.672Z"
   },
   {
    "duration": 3,
    "start_time": "2024-10-11T02:38:53.842Z"
   },
   {
    "duration": 40,
    "start_time": "2024-10-11T02:38:53.848Z"
   },
   {
    "duration": 56,
    "start_time": "2024-10-11T02:38:53.890Z"
   },
   {
    "duration": 37,
    "start_time": "2024-10-11T02:38:53.948Z"
   },
   {
    "duration": 404,
    "start_time": "2024-10-11T02:38:53.986Z"
   },
   {
    "duration": 6,
    "start_time": "2024-10-11T02:38:54.393Z"
   },
   {
    "duration": 4,
    "start_time": "2024-10-11T02:38:54.402Z"
   },
   {
    "duration": 8,
    "start_time": "2024-10-11T02:38:54.408Z"
   },
   {
    "duration": 33,
    "start_time": "2024-10-11T02:38:54.418Z"
   },
   {
    "duration": 14021,
    "start_time": "2024-10-11T02:38:54.453Z"
   },
   {
    "duration": 11,
    "start_time": "2024-10-11T02:39:08.547Z"
   },
   {
    "duration": 103,
    "start_time": "2024-10-11T02:39:08.563Z"
   },
   {
    "duration": 533,
    "start_time": "2024-10-11T02:39:08.671Z"
   },
   {
    "duration": 3,
    "start_time": "2024-10-11T02:39:09.206Z"
   },
   {
    "duration": 4,
    "start_time": "2024-10-11T02:39:09.211Z"
   },
   {
    "duration": 27,
    "start_time": "2024-10-11T02:39:09.217Z"
   },
   {
    "duration": 31,
    "start_time": "2024-10-11T02:39:09.245Z"
   },
   {
    "duration": 4,
    "start_time": "2024-10-11T02:39:09.278Z"
   },
   {
    "duration": 15,
    "start_time": "2024-10-11T02:39:09.284Z"
   },
   {
    "duration": 5,
    "start_time": "2024-10-11T02:39:09.301Z"
   },
   {
    "duration": 3,
    "start_time": "2024-10-11T02:39:09.309Z"
   },
   {
    "duration": 83,
    "start_time": "2024-10-11T02:39:09.314Z"
   },
   {
    "duration": 0,
    "start_time": "2024-10-11T02:39:09.399Z"
   },
   {
    "duration": 10,
    "start_time": "2024-10-11T02:39:36.423Z"
   },
   {
    "duration": 6,
    "start_time": "2024-10-11T02:40:23.548Z"
   },
   {
    "duration": 3,
    "start_time": "2024-10-11T09:47:44.608Z"
   },
   {
    "duration": 216,
    "start_time": "2024-10-11T09:47:44.615Z"
   },
   {
    "duration": 144,
    "start_time": "2024-10-11T09:47:44.833Z"
   },
   {
    "duration": 2,
    "start_time": "2024-10-11T09:47:44.979Z"
   },
   {
    "duration": 33,
    "start_time": "2024-10-11T09:47:44.983Z"
   },
   {
    "duration": 33,
    "start_time": "2024-10-11T09:47:45.042Z"
   },
   {
    "duration": 33,
    "start_time": "2024-10-11T09:47:45.077Z"
   },
   {
    "duration": 373,
    "start_time": "2024-10-11T09:47:45.111Z"
   },
   {
    "duration": 5,
    "start_time": "2024-10-11T09:47:45.486Z"
   },
   {
    "duration": 4,
    "start_time": "2024-10-11T09:47:45.494Z"
   },
   {
    "duration": 6,
    "start_time": "2024-10-11T09:47:45.500Z"
   },
   {
    "duration": 6,
    "start_time": "2024-10-11T09:47:45.508Z"
   },
   {
    "duration": 14137,
    "start_time": "2024-10-11T09:47:45.515Z"
   },
   {
    "duration": 6,
    "start_time": "2024-10-11T09:47:59.654Z"
   },
   {
    "duration": 82,
    "start_time": "2024-10-11T09:47:59.664Z"
   },
   {
    "duration": 3,
    "start_time": "2024-10-11T09:48:25.206Z"
   },
   {
    "duration": 214,
    "start_time": "2024-10-11T09:48:25.212Z"
   },
   {
    "duration": 142,
    "start_time": "2024-10-11T09:48:25.427Z"
   },
   {
    "duration": 2,
    "start_time": "2024-10-11T09:48:25.572Z"
   },
   {
    "duration": 33,
    "start_time": "2024-10-11T09:48:25.577Z"
   },
   {
    "duration": 56,
    "start_time": "2024-10-11T09:48:25.612Z"
   },
   {
    "duration": 33,
    "start_time": "2024-10-11T09:48:25.669Z"
   },
   {
    "duration": 350,
    "start_time": "2024-10-11T09:48:25.704Z"
   },
   {
    "duration": 6,
    "start_time": "2024-10-11T09:48:26.057Z"
   },
   {
    "duration": 3,
    "start_time": "2024-10-11T09:48:26.065Z"
   },
   {
    "duration": 6,
    "start_time": "2024-10-11T09:48:26.070Z"
   },
   {
    "duration": 6,
    "start_time": "2024-10-11T09:48:26.078Z"
   },
   {
    "duration": 13957,
    "start_time": "2024-10-11T09:48:26.086Z"
   },
   {
    "duration": 9,
    "start_time": "2024-10-11T09:48:40.045Z"
   },
   {
    "duration": 8,
    "start_time": "2024-10-11T09:48:40.057Z"
   },
   {
    "duration": 106,
    "start_time": "2024-10-11T09:48:40.143Z"
   },
   {
    "duration": 470,
    "start_time": "2024-10-11T09:48:40.251Z"
   },
   {
    "duration": 3,
    "start_time": "2024-10-11T09:48:40.724Z"
   },
   {
    "duration": 16,
    "start_time": "2024-10-11T09:48:40.728Z"
   },
   {
    "duration": 7,
    "start_time": "2024-10-11T09:48:40.746Z"
   },
   {
    "duration": 25,
    "start_time": "2024-10-11T09:48:40.754Z"
   },
   {
    "duration": 3,
    "start_time": "2024-10-11T09:48:40.781Z"
   },
   {
    "duration": 14,
    "start_time": "2024-10-11T09:48:40.786Z"
   },
   {
    "duration": 3,
    "start_time": "2024-10-11T09:48:40.803Z"
   },
   {
    "duration": 3,
    "start_time": "2024-10-11T09:48:40.807Z"
   },
   {
    "duration": 133,
    "start_time": "2024-10-11T09:48:40.844Z"
   },
   {
    "duration": 0,
    "start_time": "2024-10-11T09:48:40.978Z"
   },
   {
    "duration": 3,
    "start_time": "2024-10-11T09:53:51.471Z"
   },
   {
    "duration": 3,
    "start_time": "2024-10-11T09:55:10.428Z"
   },
   {
    "duration": 240,
    "start_time": "2024-10-11T09:55:10.432Z"
   },
   {
    "duration": 148,
    "start_time": "2024-10-11T09:55:10.674Z"
   },
   {
    "duration": 2,
    "start_time": "2024-10-11T09:55:10.824Z"
   },
   {
    "duration": 50,
    "start_time": "2024-10-11T09:55:10.829Z"
   },
   {
    "duration": 33,
    "start_time": "2024-10-11T09:55:10.881Z"
   },
   {
    "duration": 59,
    "start_time": "2024-10-11T09:55:10.916Z"
   },
   {
    "duration": 380,
    "start_time": "2024-10-11T09:55:10.977Z"
   },
   {
    "duration": 5,
    "start_time": "2024-10-11T09:55:11.360Z"
   },
   {
    "duration": 3,
    "start_time": "2024-10-11T09:55:11.367Z"
   },
   {
    "duration": 6,
    "start_time": "2024-10-11T09:55:11.372Z"
   },
   {
    "duration": 5,
    "start_time": "2024-10-11T09:55:11.380Z"
   },
   {
    "duration": 15265,
    "start_time": "2024-10-11T09:55:11.387Z"
   },
   {
    "duration": 7,
    "start_time": "2024-10-11T09:55:26.657Z"
   },
   {
    "duration": 6,
    "start_time": "2024-10-11T09:55:26.742Z"
   },
   {
    "duration": 112,
    "start_time": "2024-10-11T09:55:26.751Z"
   },
   {
    "duration": 518,
    "start_time": "2024-10-11T09:55:26.865Z"
   },
   {
    "duration": 2,
    "start_time": "2024-10-11T09:55:27.387Z"
   },
   {
    "duration": 3,
    "start_time": "2024-10-11T09:55:27.391Z"
   },
   {
    "duration": 5,
    "start_time": "2024-10-11T09:55:27.396Z"
   },
   {
    "duration": 44,
    "start_time": "2024-10-11T09:55:27.403Z"
   },
   {
    "duration": 5,
    "start_time": "2024-10-11T09:55:27.449Z"
   },
   {
    "duration": 13,
    "start_time": "2024-10-11T09:55:27.456Z"
   },
   {
    "duration": 4,
    "start_time": "2024-10-11T09:55:27.471Z"
   },
   {
    "duration": 4,
    "start_time": "2024-10-11T09:55:27.477Z"
   },
   {
    "duration": 4,
    "start_time": "2024-10-11T09:55:27.483Z"
   },
   {
    "duration": 14275,
    "start_time": "2024-10-11T09:55:27.488Z"
   },
   {
    "duration": 83,
    "start_time": "2024-10-11T09:55:41.765Z"
   },
   {
    "duration": 93,
    "start_time": "2024-10-11T09:55:41.853Z"
   },
   {
    "duration": 0,
    "start_time": "2024-10-11T09:55:41.948Z"
   },
   {
    "duration": 3,
    "start_time": "2024-10-11T10:01:10.839Z"
   },
   {
    "duration": 243,
    "start_time": "2024-10-11T10:01:10.845Z"
   },
   {
    "duration": 159,
    "start_time": "2024-10-11T10:01:11.090Z"
   },
   {
    "duration": 2,
    "start_time": "2024-10-11T10:01:11.251Z"
   },
   {
    "duration": 37,
    "start_time": "2024-10-11T10:01:11.256Z"
   },
   {
    "duration": 59,
    "start_time": "2024-10-11T10:01:11.295Z"
   },
   {
    "duration": 37,
    "start_time": "2024-10-11T10:01:11.355Z"
   },
   {
    "duration": 379,
    "start_time": "2024-10-11T10:01:11.393Z"
   },
   {
    "duration": 6,
    "start_time": "2024-10-11T10:01:11.775Z"
   },
   {
    "duration": 3,
    "start_time": "2024-10-11T10:01:11.784Z"
   },
   {
    "duration": 6,
    "start_time": "2024-10-11T10:01:11.789Z"
   },
   {
    "duration": 6,
    "start_time": "2024-10-11T10:01:11.796Z"
   },
   {
    "duration": 14357,
    "start_time": "2024-10-11T10:01:11.804Z"
   },
   {
    "duration": 84,
    "start_time": "2024-10-11T10:01:26.164Z"
   },
   {
    "duration": 6,
    "start_time": "2024-10-11T10:01:26.253Z"
   },
   {
    "duration": 103,
    "start_time": "2024-10-11T10:01:26.261Z"
   },
   {
    "duration": 455,
    "start_time": "2024-10-11T10:01:26.443Z"
   },
   {
    "duration": 2,
    "start_time": "2024-10-11T10:01:26.902Z"
   },
   {
    "duration": 3,
    "start_time": "2024-10-11T10:01:26.906Z"
   },
   {
    "duration": 5,
    "start_time": "2024-10-11T10:01:26.911Z"
   },
   {
    "duration": 41,
    "start_time": "2024-10-11T10:01:26.918Z"
   },
   {
    "duration": 3,
    "start_time": "2024-10-11T10:01:26.961Z"
   },
   {
    "duration": 13,
    "start_time": "2024-10-11T10:01:26.966Z"
   },
   {
    "duration": 4,
    "start_time": "2024-10-11T10:01:26.982Z"
   },
   {
    "duration": 5,
    "start_time": "2024-10-11T10:01:26.987Z"
   },
   {
    "duration": 4,
    "start_time": "2024-10-11T10:01:26.993Z"
   },
   {
    "duration": 14159,
    "start_time": "2024-10-11T10:01:26.999Z"
   },
   {
    "duration": 7,
    "start_time": "2024-10-11T10:01:41.160Z"
   },
   {
    "duration": 8,
    "start_time": "2024-10-11T10:01:41.244Z"
   },
   {
    "duration": 6,
    "start_time": "2024-10-11T10:01:41.254Z"
   },
   {
    "duration": 22,
    "start_time": "2024-10-11T10:01:41.261Z"
   },
   {
    "duration": 0,
    "start_time": "2024-10-11T10:01:41.285Z"
   },
   {
    "duration": 22,
    "start_time": "2024-10-11T10:08:26.277Z"
   },
   {
    "duration": 3,
    "start_time": "2024-10-11T10:08:33.007Z"
   },
   {
    "duration": 228,
    "start_time": "2024-10-11T10:08:33.012Z"
   },
   {
    "duration": 141,
    "start_time": "2024-10-11T10:08:33.241Z"
   },
   {
    "duration": 3,
    "start_time": "2024-10-11T10:08:33.383Z"
   },
   {
    "duration": 34,
    "start_time": "2024-10-11T10:08:33.388Z"
   },
   {
    "duration": 49,
    "start_time": "2024-10-11T10:08:33.423Z"
   },
   {
    "duration": 32,
    "start_time": "2024-10-11T10:08:33.473Z"
   },
   {
    "duration": 353,
    "start_time": "2024-10-11T10:08:33.506Z"
   },
   {
    "duration": 6,
    "start_time": "2024-10-11T10:08:33.861Z"
   },
   {
    "duration": 3,
    "start_time": "2024-10-11T10:08:33.869Z"
   },
   {
    "duration": 6,
    "start_time": "2024-10-11T10:08:33.874Z"
   },
   {
    "duration": 5,
    "start_time": "2024-10-11T10:08:33.882Z"
   },
   {
    "duration": 13958,
    "start_time": "2024-10-11T10:08:33.891Z"
   },
   {
    "duration": 5,
    "start_time": "2024-10-11T10:08:47.851Z"
   },
   {
    "duration": 6,
    "start_time": "2024-10-11T10:08:47.858Z"
   },
   {
    "duration": 190,
    "start_time": "2024-10-11T10:08:47.866Z"
   },
   {
    "duration": 478,
    "start_time": "2024-10-11T10:08:48.058Z"
   },
   {
    "duration": 3,
    "start_time": "2024-10-11T10:08:48.537Z"
   },
   {
    "duration": 4,
    "start_time": "2024-10-11T10:08:48.543Z"
   },
   {
    "duration": 4,
    "start_time": "2024-10-11T10:08:48.549Z"
   },
   {
    "duration": 24,
    "start_time": "2024-10-11T10:08:48.555Z"
   },
   {
    "duration": 3,
    "start_time": "2024-10-11T10:08:48.581Z"
   },
   {
    "duration": 12,
    "start_time": "2024-10-11T10:08:48.586Z"
   },
   {
    "duration": 4,
    "start_time": "2024-10-11T10:08:48.600Z"
   },
   {
    "duration": 41,
    "start_time": "2024-10-11T10:08:48.605Z"
   },
   {
    "duration": 4,
    "start_time": "2024-10-11T10:08:48.647Z"
   },
   {
    "duration": 14092,
    "start_time": "2024-10-11T10:08:48.653Z"
   },
   {
    "duration": 4,
    "start_time": "2024-10-11T10:09:02.747Z"
   },
   {
    "duration": 6,
    "start_time": "2024-10-11T10:09:02.753Z"
   },
   {
    "duration": 81,
    "start_time": "2024-10-11T10:09:02.762Z"
   },
   {
    "duration": 19,
    "start_time": "2024-10-11T10:09:02.845Z"
   },
   {
    "duration": 0,
    "start_time": "2024-10-11T10:09:02.866Z"
   },
   {
    "duration": 3,
    "start_time": "2024-10-11T10:12:05.852Z"
   },
   {
    "duration": 220,
    "start_time": "2024-10-11T10:12:05.857Z"
   },
   {
    "duration": 141,
    "start_time": "2024-10-11T10:12:06.079Z"
   },
   {
    "duration": 3,
    "start_time": "2024-10-11T10:12:06.222Z"
   },
   {
    "duration": 49,
    "start_time": "2024-10-11T10:12:06.227Z"
   },
   {
    "duration": 33,
    "start_time": "2024-10-11T10:12:06.278Z"
   },
   {
    "duration": 56,
    "start_time": "2024-10-11T10:12:06.313Z"
   },
   {
    "duration": 389,
    "start_time": "2024-10-11T10:12:06.371Z"
   },
   {
    "duration": 5,
    "start_time": "2024-10-11T10:12:06.762Z"
   },
   {
    "duration": 3,
    "start_time": "2024-10-11T10:12:06.769Z"
   },
   {
    "duration": 7,
    "start_time": "2024-10-11T10:12:06.774Z"
   },
   {
    "duration": 6,
    "start_time": "2024-10-11T10:12:06.783Z"
   },
   {
    "duration": 13878,
    "start_time": "2024-10-11T10:12:06.792Z"
   },
   {
    "duration": 9,
    "start_time": "2024-10-11T10:12:20.744Z"
   },
   {
    "duration": 8,
    "start_time": "2024-10-11T10:12:20.757Z"
   },
   {
    "duration": 97,
    "start_time": "2024-10-11T10:12:20.766Z"
   },
   {
    "duration": 536,
    "start_time": "2024-10-11T10:12:20.865Z"
   },
   {
    "duration": 3,
    "start_time": "2024-10-11T10:12:21.403Z"
   },
   {
    "duration": 4,
    "start_time": "2024-10-11T10:12:21.408Z"
   },
   {
    "duration": 5,
    "start_time": "2024-10-11T10:12:21.414Z"
   },
   {
    "duration": 44,
    "start_time": "2024-10-11T10:12:21.421Z"
   },
   {
    "duration": 3,
    "start_time": "2024-10-11T10:12:21.467Z"
   },
   {
    "duration": 14,
    "start_time": "2024-10-11T10:12:21.472Z"
   },
   {
    "duration": 4,
    "start_time": "2024-10-11T10:12:21.487Z"
   },
   {
    "duration": 3,
    "start_time": "2024-10-11T10:12:21.493Z"
   },
   {
    "duration": 3,
    "start_time": "2024-10-11T10:12:21.498Z"
   },
   {
    "duration": 3,
    "start_time": "2024-10-11T10:12:21.503Z"
   },
   {
    "duration": 3,
    "start_time": "2024-10-11T10:12:21.544Z"
   },
   {
    "duration": 5,
    "start_time": "2024-10-11T10:12:21.549Z"
   },
   {
    "duration": 4,
    "start_time": "2024-10-11T10:12:21.556Z"
   },
   {
    "duration": 21,
    "start_time": "2024-10-11T10:12:21.562Z"
   },
   {
    "duration": 0,
    "start_time": "2024-10-11T10:12:21.584Z"
   },
   {
    "duration": 3,
    "start_time": "2024-10-11T10:14:02.693Z"
   },
   {
    "duration": 214,
    "start_time": "2024-10-11T10:14:02.698Z"
   },
   {
    "duration": 150,
    "start_time": "2024-10-11T10:14:02.914Z"
   },
   {
    "duration": 3,
    "start_time": "2024-10-11T10:14:03.067Z"
   },
   {
    "duration": 34,
    "start_time": "2024-10-11T10:14:03.072Z"
   },
   {
    "duration": 53,
    "start_time": "2024-10-11T10:14:03.107Z"
   },
   {
    "duration": 33,
    "start_time": "2024-10-11T10:14:03.161Z"
   },
   {
    "duration": 381,
    "start_time": "2024-10-11T10:14:03.195Z"
   },
   {
    "duration": 6,
    "start_time": "2024-10-11T10:14:03.578Z"
   },
   {
    "duration": 3,
    "start_time": "2024-10-11T10:14:03.585Z"
   },
   {
    "duration": 7,
    "start_time": "2024-10-11T10:14:03.590Z"
   },
   {
    "duration": 6,
    "start_time": "2024-10-11T10:14:03.598Z"
   },
   {
    "duration": 14650,
    "start_time": "2024-10-11T10:14:03.608Z"
   },
   {
    "duration": 5,
    "start_time": "2024-10-11T10:14:18.260Z"
   },
   {
    "duration": 78,
    "start_time": "2024-10-11T10:14:18.268Z"
   },
   {
    "duration": 5,
    "start_time": "2024-10-11T10:14:18.352Z"
   },
   {
    "duration": 98,
    "start_time": "2024-10-11T10:14:18.358Z"
   },
   {
    "duration": 0,
    "start_time": "2024-10-11T10:14:18.458Z"
   },
   {
    "duration": 0,
    "start_time": "2024-10-11T10:14:18.459Z"
   },
   {
    "duration": 0,
    "start_time": "2024-10-11T10:14:18.460Z"
   },
   {
    "duration": 0,
    "start_time": "2024-10-11T10:14:18.462Z"
   },
   {
    "duration": 0,
    "start_time": "2024-10-11T10:14:18.463Z"
   },
   {
    "duration": 0,
    "start_time": "2024-10-11T10:14:18.464Z"
   },
   {
    "duration": 0,
    "start_time": "2024-10-11T10:14:18.542Z"
   },
   {
    "duration": 0,
    "start_time": "2024-10-11T10:14:18.544Z"
   },
   {
    "duration": 0,
    "start_time": "2024-10-11T10:14:18.545Z"
   },
   {
    "duration": 0,
    "start_time": "2024-10-11T10:14:18.546Z"
   },
   {
    "duration": 0,
    "start_time": "2024-10-11T10:14:18.546Z"
   },
   {
    "duration": 0,
    "start_time": "2024-10-11T10:14:18.547Z"
   },
   {
    "duration": 0,
    "start_time": "2024-10-11T10:14:18.549Z"
   },
   {
    "duration": 0,
    "start_time": "2024-10-11T10:14:18.550Z"
   },
   {
    "duration": 0,
    "start_time": "2024-10-11T10:14:18.551Z"
   },
   {
    "duration": 0,
    "start_time": "2024-10-11T10:14:18.552Z"
   },
   {
    "duration": 2704,
    "start_time": "2024-10-15T08:17:09.105Z"
   },
   {
    "duration": 520,
    "start_time": "2024-10-15T08:17:11.811Z"
   },
   {
    "duration": 294,
    "start_time": "2024-10-15T08:17:12.333Z"
   },
   {
    "duration": 2,
    "start_time": "2024-10-15T08:17:12.630Z"
   },
   {
    "duration": 35,
    "start_time": "2024-10-15T08:17:12.634Z"
   },
   {
    "duration": 56,
    "start_time": "2024-10-15T08:17:12.671Z"
   },
   {
    "duration": 32,
    "start_time": "2024-10-15T08:17:12.729Z"
   },
   {
    "duration": 405,
    "start_time": "2024-10-15T08:17:12.763Z"
   },
   {
    "duration": 6,
    "start_time": "2024-10-15T08:17:13.170Z"
   },
   {
    "duration": 3,
    "start_time": "2024-10-15T08:17:13.179Z"
   },
   {
    "duration": 28,
    "start_time": "2024-10-15T08:17:13.184Z"
   },
   {
    "duration": 7,
    "start_time": "2024-10-15T08:17:13.213Z"
   },
   {
    "duration": 14399,
    "start_time": "2024-10-15T08:17:13.221Z"
   },
   {
    "duration": 5,
    "start_time": "2024-10-15T08:17:27.622Z"
   },
   {
    "duration": 81,
    "start_time": "2024-10-15T08:17:27.633Z"
   },
   {
    "duration": 7,
    "start_time": "2024-10-15T08:17:27.718Z"
   },
   {
    "duration": 200,
    "start_time": "2024-10-15T08:17:27.726Z"
   },
   {
    "duration": 530,
    "start_time": "2024-10-15T08:17:27.929Z"
   },
   {
    "duration": 3,
    "start_time": "2024-10-15T08:17:28.463Z"
   },
   {
    "duration": 3,
    "start_time": "2024-10-15T08:17:28.468Z"
   },
   {
    "duration": 2,
    "start_time": "2024-10-15T08:17:28.473Z"
   },
   {
    "duration": 39,
    "start_time": "2024-10-15T08:17:28.477Z"
   },
   {
    "duration": 3,
    "start_time": "2024-10-15T08:17:28.518Z"
   },
   {
    "duration": 94,
    "start_time": "2024-10-15T08:17:28.523Z"
   },
   {
    "duration": 5,
    "start_time": "2024-10-15T08:17:28.619Z"
   },
   {
    "duration": 5,
    "start_time": "2024-10-15T08:17:28.626Z"
   },
   {
    "duration": 5,
    "start_time": "2024-10-15T08:17:28.632Z"
   },
   {
    "duration": 14285,
    "start_time": "2024-10-15T08:17:28.640Z"
   },
   {
    "duration": 3,
    "start_time": "2024-10-15T08:17:42.927Z"
   },
   {
    "duration": 6,
    "start_time": "2024-10-15T08:17:43.010Z"
   },
   {
    "duration": 6,
    "start_time": "2024-10-15T08:17:43.019Z"
   },
   {
    "duration": 348,
    "start_time": "2024-10-15T08:17:43.027Z"
   },
   {
    "duration": 0,
    "start_time": "2024-10-15T08:17:43.377Z"
   },
   {
    "duration": 15,
    "start_time": "2024-10-15T08:18:53.740Z"
   },
   {
    "duration": 63,
    "start_time": "2024-10-15T08:19:12.235Z"
   },
   {
    "duration": 6,
    "start_time": "2024-10-15T08:23:14.812Z"
   },
   {
    "duration": 3,
    "start_time": "2024-10-15T08:51:51.971Z"
   },
   {
    "duration": 225,
    "start_time": "2024-10-15T08:51:51.976Z"
   },
   {
    "duration": 148,
    "start_time": "2024-10-15T08:51:52.202Z"
   },
   {
    "duration": 3,
    "start_time": "2024-10-15T08:51:52.352Z"
   },
   {
    "duration": 55,
    "start_time": "2024-10-15T08:51:52.356Z"
   },
   {
    "duration": 36,
    "start_time": "2024-10-15T08:51:52.413Z"
   },
   {
    "duration": 32,
    "start_time": "2024-10-15T08:51:52.450Z"
   },
   {
    "duration": 364,
    "start_time": "2024-10-15T08:51:52.508Z"
   },
   {
    "duration": 5,
    "start_time": "2024-10-15T08:51:52.876Z"
   },
   {
    "duration": 4,
    "start_time": "2024-10-15T08:51:52.883Z"
   },
   {
    "duration": 23,
    "start_time": "2024-10-15T08:51:52.889Z"
   },
   {
    "duration": 6,
    "start_time": "2024-10-15T08:51:52.914Z"
   },
   {
    "duration": 14188,
    "start_time": "2024-10-15T08:51:52.921Z"
   },
   {
    "duration": 10,
    "start_time": "2024-10-15T08:52:07.112Z"
   },
   {
    "duration": 5,
    "start_time": "2024-10-15T08:52:07.125Z"
   },
   {
    "duration": 4,
    "start_time": "2024-10-15T08:52:07.131Z"
   },
   {
    "duration": 202,
    "start_time": "2024-10-15T08:52:07.209Z"
   },
   {
    "duration": 12,
    "start_time": "2024-10-15T08:52:07.412Z"
   },
   {
    "duration": 459,
    "start_time": "2024-10-15T08:52:07.426Z"
   },
   {
    "duration": 3,
    "start_time": "2024-10-15T08:52:07.887Z"
   },
   {
    "duration": 4,
    "start_time": "2024-10-15T08:52:07.891Z"
   },
   {
    "duration": 8,
    "start_time": "2024-10-15T08:52:07.909Z"
   },
   {
    "duration": 24,
    "start_time": "2024-10-15T08:52:07.918Z"
   },
   {
    "duration": 3,
    "start_time": "2024-10-15T08:52:07.946Z"
   },
   {
    "duration": 98,
    "start_time": "2024-10-15T08:52:07.951Z"
   },
   {
    "duration": 4,
    "start_time": "2024-10-15T08:52:08.051Z"
   },
   {
    "duration": 4,
    "start_time": "2024-10-15T08:52:08.057Z"
   },
   {
    "duration": 6,
    "start_time": "2024-10-15T08:52:08.063Z"
   },
   {
    "duration": 7,
    "start_time": "2024-10-15T08:52:08.070Z"
   },
   {
    "duration": 31,
    "start_time": "2024-10-15T08:52:08.079Z"
   },
   {
    "duration": 5,
    "start_time": "2024-10-15T08:52:08.113Z"
   },
   {
    "duration": 5,
    "start_time": "2024-10-15T08:52:08.120Z"
   },
   {
    "duration": 24,
    "start_time": "2024-10-15T08:52:08.126Z"
   },
   {
    "duration": 0,
    "start_time": "2024-10-15T08:52:08.152Z"
   },
   {
    "duration": 0,
    "start_time": "2024-10-15T08:52:08.154Z"
   },
   {
    "duration": 21,
    "start_time": "2024-10-15T09:00:45.620Z"
   },
   {
    "duration": 2,
    "start_time": "2024-10-15T09:01:03.292Z"
   },
   {
    "duration": 222,
    "start_time": "2024-10-15T09:01:03.297Z"
   },
   {
    "duration": 150,
    "start_time": "2024-10-15T09:01:03.521Z"
   },
   {
    "duration": 2,
    "start_time": "2024-10-15T09:01:03.673Z"
   },
   {
    "duration": 54,
    "start_time": "2024-10-15T09:01:03.679Z"
   },
   {
    "duration": 35,
    "start_time": "2024-10-15T09:01:03.735Z"
   },
   {
    "duration": 54,
    "start_time": "2024-10-15T09:01:03.772Z"
   },
   {
    "duration": 344,
    "start_time": "2024-10-15T09:01:03.828Z"
   },
   {
    "duration": 6,
    "start_time": "2024-10-15T09:01:04.174Z"
   },
   {
    "duration": 3,
    "start_time": "2024-10-15T09:01:04.210Z"
   },
   {
    "duration": 7,
    "start_time": "2024-10-15T09:01:04.216Z"
   },
   {
    "duration": 6,
    "start_time": "2024-10-15T09:01:04.224Z"
   },
   {
    "duration": 14294,
    "start_time": "2024-10-15T09:01:04.232Z"
   },
   {
    "duration": 87,
    "start_time": "2024-10-15T09:01:18.531Z"
   },
   {
    "duration": 5,
    "start_time": "2024-10-15T09:01:18.623Z"
   },
   {
    "duration": 4,
    "start_time": "2024-10-15T09:01:18.630Z"
   },
   {
    "duration": 274,
    "start_time": "2024-10-15T09:01:18.635Z"
   },
   {
    "duration": 7,
    "start_time": "2024-10-15T09:01:18.912Z"
   },
   {
    "duration": 460,
    "start_time": "2024-10-15T09:01:18.922Z"
   },
   {
    "duration": 3,
    "start_time": "2024-10-15T09:01:19.384Z"
   },
   {
    "duration": 4,
    "start_time": "2024-10-15T09:01:19.389Z"
   },
   {
    "duration": 7,
    "start_time": "2024-10-15T09:01:19.409Z"
   },
   {
    "duration": 25,
    "start_time": "2024-10-15T09:01:19.417Z"
   },
   {
    "duration": 3,
    "start_time": "2024-10-15T09:01:19.444Z"
   },
   {
    "duration": 97,
    "start_time": "2024-10-15T09:01:19.449Z"
   },
   {
    "duration": 5,
    "start_time": "2024-10-15T09:01:19.548Z"
   },
   {
    "duration": 4,
    "start_time": "2024-10-15T09:01:19.554Z"
   },
   {
    "duration": 4,
    "start_time": "2024-10-15T09:01:19.560Z"
   },
   {
    "duration": 6,
    "start_time": "2024-10-15T09:01:19.566Z"
   },
   {
    "duration": 4,
    "start_time": "2024-10-15T09:01:19.574Z"
   },
   {
    "duration": 31,
    "start_time": "2024-10-15T09:01:19.579Z"
   },
   {
    "duration": 5,
    "start_time": "2024-10-15T09:01:19.612Z"
   },
   {
    "duration": 316,
    "start_time": "2024-10-15T09:01:19.618Z"
   },
   {
    "duration": 0,
    "start_time": "2024-10-15T09:01:19.936Z"
   },
   {
    "duration": 0,
    "start_time": "2024-10-15T09:01:19.937Z"
   },
   {
    "duration": 3,
    "start_time": "2024-10-15T09:06:21.733Z"
   },
   {
    "duration": 219,
    "start_time": "2024-10-15T09:06:21.738Z"
   },
   {
    "duration": 154,
    "start_time": "2024-10-15T09:06:21.959Z"
   },
   {
    "duration": 4,
    "start_time": "2024-10-15T09:06:22.115Z"
   },
   {
    "duration": 33,
    "start_time": "2024-10-15T09:06:22.122Z"
   },
   {
    "duration": 60,
    "start_time": "2024-10-15T09:06:22.157Z"
   },
   {
    "duration": 32,
    "start_time": "2024-10-15T09:06:22.219Z"
   },
   {
    "duration": 424,
    "start_time": "2024-10-15T09:06:22.254Z"
   },
   {
    "duration": 31,
    "start_time": "2024-10-15T09:06:22.680Z"
   },
   {
    "duration": 3,
    "start_time": "2024-10-15T09:06:22.713Z"
   },
   {
    "duration": 7,
    "start_time": "2024-10-15T09:06:22.717Z"
   },
   {
    "duration": 6,
    "start_time": "2024-10-15T09:06:22.725Z"
   },
   {
    "duration": 13881,
    "start_time": "2024-10-15T09:06:22.734Z"
   },
   {
    "duration": 6,
    "start_time": "2024-10-15T09:06:36.617Z"
   },
   {
    "duration": 84,
    "start_time": "2024-10-15T09:06:36.628Z"
   },
   {
    "duration": 4,
    "start_time": "2024-10-15T09:06:36.714Z"
   },
   {
    "duration": 199,
    "start_time": "2024-10-15T09:06:36.720Z"
   },
   {
    "duration": 9,
    "start_time": "2024-10-15T09:06:36.921Z"
   },
   {
    "duration": 460,
    "start_time": "2024-10-15T09:06:37.010Z"
   },
   {
    "duration": 2,
    "start_time": "2024-10-15T09:06:37.473Z"
   },
   {
    "duration": 3,
    "start_time": "2024-10-15T09:06:37.477Z"
   },
   {
    "duration": 6,
    "start_time": "2024-10-15T09:06:37.483Z"
   },
   {
    "duration": 45,
    "start_time": "2024-10-15T09:06:37.490Z"
   },
   {
    "duration": 4,
    "start_time": "2024-10-15T09:06:37.536Z"
   },
   {
    "duration": 98,
    "start_time": "2024-10-15T09:06:37.542Z"
   },
   {
    "duration": 4,
    "start_time": "2024-10-15T09:06:37.642Z"
   },
   {
    "duration": 4,
    "start_time": "2024-10-15T09:06:37.649Z"
   },
   {
    "duration": 4,
    "start_time": "2024-10-15T09:06:37.655Z"
   },
   {
    "duration": 4,
    "start_time": "2024-10-15T09:06:37.661Z"
   },
   {
    "duration": 351,
    "start_time": "2024-10-15T09:06:37.666Z"
   },
   {
    "duration": 0,
    "start_time": "2024-10-15T09:06:38.019Z"
   },
   {
    "duration": 0,
    "start_time": "2024-10-15T09:06:38.020Z"
   },
   {
    "duration": 3,
    "start_time": "2024-10-15T09:12:07.134Z"
   },
   {
    "duration": 242,
    "start_time": "2024-10-15T09:12:07.140Z"
   },
   {
    "duration": 152,
    "start_time": "2024-10-15T09:12:07.384Z"
   },
   {
    "duration": 2,
    "start_time": "2024-10-15T09:12:07.539Z"
   },
   {
    "duration": 37,
    "start_time": "2024-10-15T09:12:07.543Z"
   },
   {
    "duration": 54,
    "start_time": "2024-10-15T09:12:07.582Z"
   },
   {
    "duration": 31,
    "start_time": "2024-10-15T09:12:07.638Z"
   },
   {
    "duration": 390,
    "start_time": "2024-10-15T09:12:07.671Z"
   },
   {
    "duration": 7,
    "start_time": "2024-10-15T09:12:08.065Z"
   },
   {
    "duration": 4,
    "start_time": "2024-10-15T09:12:08.074Z"
   },
   {
    "duration": 30,
    "start_time": "2024-10-15T09:12:08.080Z"
   },
   {
    "duration": 6,
    "start_time": "2024-10-15T09:12:08.111Z"
   },
   {
    "duration": 14605,
    "start_time": "2024-10-15T09:12:08.119Z"
   },
   {
    "duration": 84,
    "start_time": "2024-10-15T09:12:22.727Z"
   },
   {
    "duration": 7,
    "start_time": "2024-10-15T09:12:22.816Z"
   },
   {
    "duration": 4,
    "start_time": "2024-10-15T09:12:22.824Z"
   },
   {
    "duration": 198,
    "start_time": "2024-10-15T09:12:22.829Z"
   },
   {
    "duration": 81,
    "start_time": "2024-10-15T09:12:23.029Z"
   },
   {
    "duration": 457,
    "start_time": "2024-10-15T09:12:23.113Z"
   },
   {
    "duration": 2,
    "start_time": "2024-10-15T09:12:23.572Z"
   },
   {
    "duration": 5,
    "start_time": "2024-10-15T09:12:23.576Z"
   },
   {
    "duration": 6,
    "start_time": "2024-10-15T09:12:23.582Z"
   },
   {
    "duration": 39,
    "start_time": "2024-10-15T09:12:23.589Z"
   },
   {
    "duration": 3,
    "start_time": "2024-10-15T09:12:23.632Z"
   },
   {
    "duration": 91,
    "start_time": "2024-10-15T09:12:23.637Z"
   },
   {
    "duration": 4,
    "start_time": "2024-10-15T09:12:23.730Z"
   },
   {
    "duration": 5,
    "start_time": "2024-10-15T09:12:23.736Z"
   },
   {
    "duration": 4,
    "start_time": "2024-10-15T09:12:23.742Z"
   },
   {
    "duration": 4,
    "start_time": "2024-10-15T09:12:23.748Z"
   },
   {
    "duration": 364,
    "start_time": "2024-10-15T09:12:23.753Z"
   },
   {
    "duration": 0,
    "start_time": "2024-10-15T09:12:24.119Z"
   },
   {
    "duration": 0,
    "start_time": "2024-10-15T09:12:24.121Z"
   },
   {
    "duration": 3,
    "start_time": "2024-10-15T09:14:56.227Z"
   },
   {
    "duration": 224,
    "start_time": "2024-10-15T09:14:56.232Z"
   },
   {
    "duration": 155,
    "start_time": "2024-10-15T09:14:56.458Z"
   },
   {
    "duration": 3,
    "start_time": "2024-10-15T09:14:56.615Z"
   },
   {
    "duration": 36,
    "start_time": "2024-10-15T09:14:56.620Z"
   },
   {
    "duration": 52,
    "start_time": "2024-10-15T09:14:56.658Z"
   },
   {
    "duration": 34,
    "start_time": "2024-10-15T09:14:56.712Z"
   },
   {
    "duration": 391,
    "start_time": "2024-10-15T09:14:56.748Z"
   },
   {
    "duration": 6,
    "start_time": "2024-10-15T09:14:57.141Z"
   },
   {
    "duration": 4,
    "start_time": "2024-10-15T09:14:57.148Z"
   },
   {
    "duration": 6,
    "start_time": "2024-10-15T09:14:57.155Z"
   },
   {
    "duration": 6,
    "start_time": "2024-10-15T09:14:57.163Z"
   },
   {
    "duration": 14056,
    "start_time": "2024-10-15T09:14:57.173Z"
   },
   {
    "duration": 83,
    "start_time": "2024-10-15T09:15:11.231Z"
   },
   {
    "duration": 9,
    "start_time": "2024-10-15T09:15:11.317Z"
   },
   {
    "duration": 4,
    "start_time": "2024-10-15T09:15:11.328Z"
   },
   {
    "duration": 196,
    "start_time": "2024-10-15T09:15:11.333Z"
   },
   {
    "duration": 8,
    "start_time": "2024-10-15T09:15:11.608Z"
   },
   {
    "duration": 436,
    "start_time": "2024-10-15T09:15:11.618Z"
   },
   {
    "duration": 3,
    "start_time": "2024-10-15T09:15:12.057Z"
   },
   {
    "duration": 4,
    "start_time": "2024-10-15T09:15:12.061Z"
   },
   {
    "duration": 7,
    "start_time": "2024-10-15T09:15:12.066Z"
   },
   {
    "duration": 44,
    "start_time": "2024-10-15T09:15:12.074Z"
   },
   {
    "duration": 4,
    "start_time": "2024-10-15T09:15:12.120Z"
   },
   {
    "duration": 87,
    "start_time": "2024-10-15T09:15:12.125Z"
   },
   {
    "duration": 5,
    "start_time": "2024-10-15T09:15:12.213Z"
   },
   {
    "duration": 5,
    "start_time": "2024-10-15T09:15:12.219Z"
   },
   {
    "duration": 4,
    "start_time": "2024-10-15T09:15:12.226Z"
   },
   {
    "duration": 4,
    "start_time": "2024-10-15T09:15:12.231Z"
   },
   {
    "duration": 674,
    "start_time": "2024-10-15T09:15:12.236Z"
   },
   {
    "duration": 0,
    "start_time": "2024-10-15T09:15:12.912Z"
   },
   {
    "duration": 0,
    "start_time": "2024-10-15T09:15:12.913Z"
   },
   {
    "duration": 6,
    "start_time": "2024-10-15T09:16:39.641Z"
   },
   {
    "duration": 5,
    "start_time": "2024-10-15T09:16:39.649Z"
   },
   {
    "duration": 4,
    "start_time": "2024-10-15T09:16:39.794Z"
   },
   {
    "duration": 4,
    "start_time": "2024-10-15T09:16:39.801Z"
   },
   {
    "duration": 29,
    "start_time": "2024-10-15T09:16:39.964Z"
   },
   {
    "duration": 4,
    "start_time": "2024-10-15T09:16:40.151Z"
   },
   {
    "duration": 4,
    "start_time": "2024-10-15T09:16:40.159Z"
   },
   {
    "duration": 29,
    "start_time": "2024-10-15T09:21:36.792Z"
   },
   {
    "duration": 29,
    "start_time": "2024-10-15T09:23:42.044Z"
   },
   {
    "duration": 3,
    "start_time": "2024-10-15T09:25:37.551Z"
   },
   {
    "duration": 209,
    "start_time": "2024-10-15T09:25:37.556Z"
   },
   {
    "duration": 156,
    "start_time": "2024-10-15T09:25:37.767Z"
   },
   {
    "duration": 2,
    "start_time": "2024-10-15T09:25:37.925Z"
   },
   {
    "duration": 32,
    "start_time": "2024-10-15T09:25:37.930Z"
   },
   {
    "duration": 57,
    "start_time": "2024-10-15T09:25:37.964Z"
   },
   {
    "duration": 31,
    "start_time": "2024-10-15T09:25:38.023Z"
   },
   {
    "duration": 359,
    "start_time": "2024-10-15T09:25:38.056Z"
   },
   {
    "duration": 5,
    "start_time": "2024-10-15T09:25:38.417Z"
   },
   {
    "duration": 4,
    "start_time": "2024-10-15T09:25:38.424Z"
   },
   {
    "duration": 7,
    "start_time": "2024-10-15T09:25:38.429Z"
   },
   {
    "duration": 5,
    "start_time": "2024-10-15T09:25:38.438Z"
   },
   {
    "duration": 14280,
    "start_time": "2024-10-15T09:25:38.447Z"
   },
   {
    "duration": 84,
    "start_time": "2024-10-15T09:25:52.729Z"
   },
   {
    "duration": 7,
    "start_time": "2024-10-15T09:25:52.818Z"
   },
   {
    "duration": 4,
    "start_time": "2024-10-15T09:25:52.826Z"
   },
   {
    "duration": 197,
    "start_time": "2024-10-15T09:25:52.832Z"
   },
   {
    "duration": 460,
    "start_time": "2024-10-15T09:25:53.108Z"
   },
   {
    "duration": 2,
    "start_time": "2024-10-15T09:25:53.571Z"
   },
   {
    "duration": 3,
    "start_time": "2024-10-15T09:25:53.575Z"
   },
   {
    "duration": 5,
    "start_time": "2024-10-15T09:25:53.580Z"
   },
   {
    "duration": 42,
    "start_time": "2024-10-15T09:25:53.586Z"
   },
   {
    "duration": 5,
    "start_time": "2024-10-15T09:25:53.630Z"
   },
   {
    "duration": 89,
    "start_time": "2024-10-15T09:25:53.636Z"
   },
   {
    "duration": 4,
    "start_time": "2024-10-15T09:25:53.727Z"
   },
   {
    "duration": 4,
    "start_time": "2024-10-15T09:25:53.733Z"
   },
   {
    "duration": 281,
    "start_time": "2024-10-15T09:25:53.739Z"
   },
   {
    "duration": 3,
    "start_time": "2024-10-15T09:33:29.551Z"
   },
   {
    "duration": 213,
    "start_time": "2024-10-15T09:33:29.558Z"
   },
   {
    "duration": 152,
    "start_time": "2024-10-15T09:33:29.774Z"
   },
   {
    "duration": 3,
    "start_time": "2024-10-15T09:33:29.928Z"
   },
   {
    "duration": 34,
    "start_time": "2024-10-15T09:33:29.935Z"
   },
   {
    "duration": 60,
    "start_time": "2024-10-15T09:33:29.971Z"
   },
   {
    "duration": 34,
    "start_time": "2024-10-15T09:33:30.033Z"
   },
   {
    "duration": 357,
    "start_time": "2024-10-15T09:33:30.069Z"
   },
   {
    "duration": 6,
    "start_time": "2024-10-15T09:33:30.428Z"
   },
   {
    "duration": 3,
    "start_time": "2024-10-15T09:33:30.436Z"
   },
   {
    "duration": 7,
    "start_time": "2024-10-15T09:33:30.442Z"
   },
   {
    "duration": 6,
    "start_time": "2024-10-15T09:33:30.450Z"
   },
   {
    "duration": 13964,
    "start_time": "2024-10-15T09:33:30.458Z"
   },
   {
    "duration": 5,
    "start_time": "2024-10-15T09:33:44.424Z"
   },
   {
    "duration": 81,
    "start_time": "2024-10-15T09:33:44.431Z"
   },
   {
    "duration": 5,
    "start_time": "2024-10-15T09:33:44.516Z"
   },
   {
    "duration": 207,
    "start_time": "2024-10-15T09:33:44.523Z"
   },
   {
    "duration": 537,
    "start_time": "2024-10-15T09:33:44.731Z"
   },
   {
    "duration": 4,
    "start_time": "2024-10-15T09:33:45.270Z"
   },
   {
    "duration": 4,
    "start_time": "2024-10-15T09:33:45.275Z"
   },
   {
    "duration": 5,
    "start_time": "2024-10-15T09:33:45.281Z"
   },
   {
    "duration": 42,
    "start_time": "2024-10-15T09:33:45.288Z"
   },
   {
    "duration": 4,
    "start_time": "2024-10-15T09:33:45.331Z"
   },
   {
    "duration": 92,
    "start_time": "2024-10-15T09:33:45.336Z"
   },
   {
    "duration": 4,
    "start_time": "2024-10-15T09:33:45.430Z"
   },
   {
    "duration": 3,
    "start_time": "2024-10-15T09:33:45.437Z"
   },
   {
    "duration": 5,
    "start_time": "2024-10-15T09:33:45.441Z"
   },
   {
    "duration": 171,
    "start_time": "2024-10-15T09:33:45.448Z"
   },
   {
    "duration": 107,
    "start_time": "2024-10-15T09:33:45.624Z"
   },
   {
    "duration": 3,
    "start_time": "2024-10-15T09:37:33.805Z"
   },
   {
    "duration": 206,
    "start_time": "2024-10-15T09:37:33.824Z"
   },
   {
    "duration": 156,
    "start_time": "2024-10-15T09:37:34.032Z"
   },
   {
    "duration": 19,
    "start_time": "2024-10-15T09:37:34.190Z"
   },
   {
    "duration": 34,
    "start_time": "2024-10-15T09:37:34.211Z"
   },
   {
    "duration": 32,
    "start_time": "2024-10-15T09:37:34.247Z"
   },
   {
    "duration": 56,
    "start_time": "2024-10-15T09:37:34.281Z"
   },
   {
    "duration": 370,
    "start_time": "2024-10-15T09:37:34.339Z"
   },
   {
    "duration": 6,
    "start_time": "2024-10-15T09:37:34.712Z"
   },
   {
    "duration": 4,
    "start_time": "2024-10-15T09:37:34.720Z"
   },
   {
    "duration": 8,
    "start_time": "2024-10-15T09:37:34.725Z"
   },
   {
    "duration": 7,
    "start_time": "2024-10-15T09:37:34.735Z"
   },
   {
    "duration": 14569,
    "start_time": "2024-10-15T09:37:34.743Z"
   },
   {
    "duration": 6,
    "start_time": "2024-10-15T09:37:49.314Z"
   },
   {
    "duration": 6,
    "start_time": "2024-10-15T09:37:49.324Z"
   },
   {
    "duration": 5,
    "start_time": "2024-10-15T09:37:49.409Z"
   },
   {
    "duration": 101,
    "start_time": "2024-10-15T09:37:49.417Z"
   },
   {
    "duration": 4,
    "start_time": "2024-10-15T09:37:49.521Z"
   },
   {
    "duration": 5,
    "start_time": "2024-10-15T09:37:49.528Z"
   },
   {
    "duration": 527,
    "start_time": "2024-10-15T09:37:49.535Z"
   },
   {
    "duration": 3,
    "start_time": "2024-10-15T09:37:50.064Z"
   },
   {
    "duration": 4,
    "start_time": "2024-10-15T09:37:50.068Z"
   },
   {
    "duration": 6,
    "start_time": "2024-10-15T09:37:50.074Z"
   },
   {
    "duration": 39,
    "start_time": "2024-10-15T09:37:50.081Z"
   },
   {
    "duration": 3,
    "start_time": "2024-10-15T09:37:50.123Z"
   },
   {
    "duration": 89,
    "start_time": "2024-10-15T09:37:50.128Z"
   },
   {
    "duration": 4,
    "start_time": "2024-10-15T09:37:50.220Z"
   },
   {
    "duration": 4,
    "start_time": "2024-10-15T09:37:50.226Z"
   },
   {
    "duration": 6,
    "start_time": "2024-10-15T09:37:50.232Z"
   },
   {
    "duration": 26,
    "start_time": "2024-10-15T09:37:50.239Z"
   },
   {
    "duration": 3,
    "start_time": "2024-10-15T09:38:37.355Z"
   },
   {
    "duration": 226,
    "start_time": "2024-10-15T09:38:37.361Z"
   },
   {
    "duration": 161,
    "start_time": "2024-10-15T09:38:37.589Z"
   },
   {
    "duration": 3,
    "start_time": "2024-10-15T09:38:37.752Z"
   },
   {
    "duration": 59,
    "start_time": "2024-10-15T09:38:37.758Z"
   },
   {
    "duration": 36,
    "start_time": "2024-10-15T09:38:37.818Z"
   },
   {
    "duration": 54,
    "start_time": "2024-10-15T09:38:37.856Z"
   },
   {
    "duration": 348,
    "start_time": "2024-10-15T09:38:37.912Z"
   },
   {
    "duration": 6,
    "start_time": "2024-10-15T09:38:38.262Z"
   },
   {
    "duration": 3,
    "start_time": "2024-10-15T09:38:38.271Z"
   },
   {
    "duration": 7,
    "start_time": "2024-10-15T09:38:38.276Z"
   },
   {
    "duration": 6,
    "start_time": "2024-10-15T09:38:38.308Z"
   },
   {
    "duration": 13901,
    "start_time": "2024-10-15T09:38:38.319Z"
   },
   {
    "duration": 7,
    "start_time": "2024-10-15T09:38:52.226Z"
   },
   {
    "duration": 6,
    "start_time": "2024-10-15T09:38:52.311Z"
   },
   {
    "duration": 4,
    "start_time": "2024-10-15T09:38:52.319Z"
   },
   {
    "duration": 6,
    "start_time": "2024-10-15T09:38:52.325Z"
   },
   {
    "duration": 191,
    "start_time": "2024-10-15T09:38:52.334Z"
   },
   {
    "duration": 84,
    "start_time": "2024-10-15T09:38:52.526Z"
   },
   {
    "duration": 5,
    "start_time": "2024-10-15T09:38:52.613Z"
   },
   {
    "duration": 440,
    "start_time": "2024-10-15T09:38:52.620Z"
   },
   {
    "duration": 3,
    "start_time": "2024-10-15T09:38:53.062Z"
   },
   {
    "duration": 4,
    "start_time": "2024-10-15T09:38:53.067Z"
   },
   {
    "duration": 7,
    "start_time": "2024-10-15T09:38:53.072Z"
   },
   {
    "duration": 40,
    "start_time": "2024-10-15T09:38:53.080Z"
   },
   {
    "duration": 3,
    "start_time": "2024-10-15T09:38:53.123Z"
   },
   {
    "duration": 91,
    "start_time": "2024-10-15T09:38:53.128Z"
   },
   {
    "duration": 5,
    "start_time": "2024-10-15T09:38:53.221Z"
   },
   {
    "duration": 4,
    "start_time": "2024-10-15T09:38:53.227Z"
   },
   {
    "duration": 6,
    "start_time": "2024-10-15T09:38:53.232Z"
   },
   {
    "duration": 24,
    "start_time": "2024-10-15T09:38:53.240Z"
   },
   {
    "duration": 4,
    "start_time": "2024-10-15T09:40:46.630Z"
   },
   {
    "duration": 216,
    "start_time": "2024-10-15T09:40:46.636Z"
   },
   {
    "duration": 146,
    "start_time": "2024-10-15T09:40:46.853Z"
   },
   {
    "duration": 3,
    "start_time": "2024-10-15T09:40:47.009Z"
   },
   {
    "duration": 36,
    "start_time": "2024-10-15T09:40:47.015Z"
   },
   {
    "duration": 32,
    "start_time": "2024-10-15T09:40:47.052Z"
   },
   {
    "duration": 34,
    "start_time": "2024-10-15T09:40:47.109Z"
   },
   {
    "duration": 379,
    "start_time": "2024-10-15T09:40:47.144Z"
   },
   {
    "duration": 6,
    "start_time": "2024-10-15T09:40:47.524Z"
   },
   {
    "duration": 3,
    "start_time": "2024-10-15T09:40:47.532Z"
   },
   {
    "duration": 7,
    "start_time": "2024-10-15T09:40:47.537Z"
   },
   {
    "duration": 6,
    "start_time": "2024-10-15T09:40:47.545Z"
   },
   {
    "duration": 14773,
    "start_time": "2024-10-15T09:40:47.554Z"
   },
   {
    "duration": 82,
    "start_time": "2024-10-15T09:41:02.330Z"
   },
   {
    "duration": 9,
    "start_time": "2024-10-15T09:41:02.416Z"
   },
   {
    "duration": 3,
    "start_time": "2024-10-15T09:41:02.428Z"
   },
   {
    "duration": 5,
    "start_time": "2024-10-15T09:41:02.433Z"
   },
   {
    "duration": 6,
    "start_time": "2024-10-15T09:41:02.439Z"
   },
   {
    "duration": 0,
    "start_time": "2024-10-15T09:41:02.447Z"
   },
   {
    "duration": 0,
    "start_time": "2024-10-15T09:41:02.509Z"
   },
   {
    "duration": 0,
    "start_time": "2024-10-15T09:41:02.511Z"
   },
   {
    "duration": 0,
    "start_time": "2024-10-15T09:41:02.512Z"
   },
   {
    "duration": 0,
    "start_time": "2024-10-15T09:41:02.514Z"
   },
   {
    "duration": 0,
    "start_time": "2024-10-15T09:41:02.515Z"
   },
   {
    "duration": 0,
    "start_time": "2024-10-15T09:41:02.516Z"
   },
   {
    "duration": 0,
    "start_time": "2024-10-15T09:41:02.518Z"
   },
   {
    "duration": 0,
    "start_time": "2024-10-15T09:41:02.519Z"
   },
   {
    "duration": 0,
    "start_time": "2024-10-15T09:41:02.520Z"
   },
   {
    "duration": 0,
    "start_time": "2024-10-15T09:41:02.522Z"
   },
   {
    "duration": 0,
    "start_time": "2024-10-15T09:41:02.524Z"
   },
   {
    "duration": 0,
    "start_time": "2024-10-15T09:41:02.526Z"
   },
   {
    "duration": 0,
    "start_time": "2024-10-15T09:41:02.527Z"
   },
   {
    "duration": 3,
    "start_time": "2024-10-15T09:41:24.583Z"
   },
   {
    "duration": 232,
    "start_time": "2024-10-15T09:41:24.588Z"
   },
   {
    "duration": 154,
    "start_time": "2024-10-15T09:41:24.822Z"
   },
   {
    "duration": 3,
    "start_time": "2024-10-15T09:41:24.977Z"
   },
   {
    "duration": 52,
    "start_time": "2024-10-15T09:41:24.983Z"
   },
   {
    "duration": 35,
    "start_time": "2024-10-15T09:41:25.037Z"
   },
   {
    "duration": 56,
    "start_time": "2024-10-15T09:41:25.074Z"
   },
   {
    "duration": 393,
    "start_time": "2024-10-15T09:41:25.131Z"
   },
   {
    "duration": 6,
    "start_time": "2024-10-15T09:41:25.526Z"
   },
   {
    "duration": 4,
    "start_time": "2024-10-15T09:41:25.534Z"
   },
   {
    "duration": 7,
    "start_time": "2024-10-15T09:41:25.539Z"
   },
   {
    "duration": 6,
    "start_time": "2024-10-15T09:41:25.547Z"
   },
   {
    "duration": 13965,
    "start_time": "2024-10-15T09:41:25.557Z"
   },
   {
    "duration": 6,
    "start_time": "2024-10-15T09:41:39.524Z"
   },
   {
    "duration": 78,
    "start_time": "2024-10-15T09:41:39.532Z"
   },
   {
    "duration": 5,
    "start_time": "2024-10-15T09:41:39.616Z"
   },
   {
    "duration": 4,
    "start_time": "2024-10-15T09:41:39.623Z"
   },
   {
    "duration": 4,
    "start_time": "2024-10-15T09:41:39.629Z"
   },
   {
    "duration": 198,
    "start_time": "2024-10-15T09:41:39.635Z"
   },
   {
    "duration": 7,
    "start_time": "2024-10-15T09:41:39.914Z"
   },
   {
    "duration": 5,
    "start_time": "2024-10-15T09:41:39.926Z"
   },
   {
    "duration": 567,
    "start_time": "2024-10-15T09:41:39.933Z"
   },
   {
    "duration": 3,
    "start_time": "2024-10-15T09:41:40.508Z"
   },
   {
    "duration": 4,
    "start_time": "2024-10-15T09:41:40.514Z"
   },
   {
    "duration": 7,
    "start_time": "2024-10-15T09:41:40.519Z"
   },
   {
    "duration": 25,
    "start_time": "2024-10-15T09:41:40.528Z"
   },
   {
    "duration": 3,
    "start_time": "2024-10-15T09:41:40.555Z"
   },
   {
    "duration": 118,
    "start_time": "2024-10-15T09:41:40.560Z"
   },
   {
    "duration": 5,
    "start_time": "2024-10-15T09:41:40.680Z"
   },
   {
    "duration": 4,
    "start_time": "2024-10-15T09:41:40.687Z"
   },
   {
    "duration": 19,
    "start_time": "2024-10-15T09:41:40.693Z"
   },
   {
    "duration": 466,
    "start_time": "2024-10-15T09:41:40.714Z"
   },
   {
    "duration": 3,
    "start_time": "2024-10-15T09:43:11.052Z"
   },
   {
    "duration": 217,
    "start_time": "2024-10-15T09:43:11.057Z"
   },
   {
    "duration": 152,
    "start_time": "2024-10-15T09:43:11.275Z"
   },
   {
    "duration": 3,
    "start_time": "2024-10-15T09:43:11.429Z"
   },
   {
    "duration": 36,
    "start_time": "2024-10-15T09:43:11.434Z"
   },
   {
    "duration": 57,
    "start_time": "2024-10-15T09:43:11.472Z"
   },
   {
    "duration": 31,
    "start_time": "2024-10-15T09:43:11.531Z"
   },
   {
    "duration": 366,
    "start_time": "2024-10-15T09:43:11.564Z"
   },
   {
    "duration": 6,
    "start_time": "2024-10-15T09:43:11.932Z"
   },
   {
    "duration": 4,
    "start_time": "2024-10-15T09:43:11.940Z"
   },
   {
    "duration": 7,
    "start_time": "2024-10-15T09:43:11.945Z"
   },
   {
    "duration": 6,
    "start_time": "2024-10-15T09:43:11.953Z"
   },
   {
    "duration": 13848,
    "start_time": "2024-10-15T09:43:11.963Z"
   },
   {
    "duration": 6,
    "start_time": "2024-10-15T09:43:25.813Z"
   },
   {
    "duration": 11,
    "start_time": "2024-10-15T09:43:25.820Z"
   },
   {
    "duration": 77,
    "start_time": "2024-10-15T09:43:25.833Z"
   },
   {
    "duration": 4,
    "start_time": "2024-10-15T09:43:25.911Z"
   },
   {
    "duration": 5,
    "start_time": "2024-10-15T09:43:25.917Z"
   },
   {
    "duration": 194,
    "start_time": "2024-10-15T09:43:25.924Z"
   },
   {
    "duration": 6,
    "start_time": "2024-10-15T09:43:26.120Z"
   },
   {
    "duration": 80,
    "start_time": "2024-10-15T09:43:26.130Z"
   },
   {
    "duration": 562,
    "start_time": "2024-10-15T09:43:26.213Z"
   },
   {
    "duration": 2,
    "start_time": "2024-10-15T09:43:26.778Z"
   },
   {
    "duration": 4,
    "start_time": "2024-10-15T09:43:26.782Z"
   },
   {
    "duration": 22,
    "start_time": "2024-10-15T09:43:26.787Z"
   },
   {
    "duration": 23,
    "start_time": "2024-10-15T09:43:26.811Z"
   },
   {
    "duration": 4,
    "start_time": "2024-10-15T09:43:26.836Z"
   },
   {
    "duration": 95,
    "start_time": "2024-10-15T09:43:26.842Z"
   },
   {
    "duration": 4,
    "start_time": "2024-10-15T09:43:26.939Z"
   },
   {
    "duration": 3,
    "start_time": "2024-10-15T09:43:26.945Z"
   },
   {
    "duration": 4,
    "start_time": "2024-10-15T09:43:26.950Z"
   },
   {
    "duration": 6,
    "start_time": "2024-10-15T09:43:26.955Z"
   },
   {
    "duration": 4084,
    "start_time": "2024-10-15T09:43:26.963Z"
   },
   {
    "duration": 7,
    "start_time": "2024-10-15T10:36:12.914Z"
   },
   {
    "duration": 4,
    "start_time": "2024-10-15T10:36:43.484Z"
   },
   {
    "duration": 8,
    "start_time": "2024-10-15T10:37:25.040Z"
   }
  ],
  "kernelspec": {
   "display_name": "Python 3 (ipykernel)",
   "language": "python",
   "name": "python3"
  },
  "language_info": {
   "codemirror_mode": {
    "name": "ipython",
    "version": 3
   },
   "file_extension": ".py",
   "mimetype": "text/x-python",
   "name": "python",
   "nbconvert_exporter": "python",
   "pygments_lexer": "ipython3",
   "version": "3.9.19"
  },
  "toc": {
   "base_numbering": 1,
   "nav_menu": {},
   "number_sections": true,
   "sideBar": true,
   "skip_h1_title": true,
   "title_cell": "Table of Contents",
   "title_sidebar": "Contents",
   "toc_cell": false,
   "toc_position": {
    "height": "calc(100% - 180px)",
    "left": "10px",
    "top": "150px",
    "width": "254px"
   },
   "toc_section_display": true,
   "toc_window_display": false
  }
 },
 "nbformat": 4,
 "nbformat_minor": 2
}
